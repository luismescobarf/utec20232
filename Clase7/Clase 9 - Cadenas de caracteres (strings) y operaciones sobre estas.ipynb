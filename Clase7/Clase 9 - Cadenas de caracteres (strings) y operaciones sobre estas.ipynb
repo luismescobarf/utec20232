{
 "cells": [
  {
   "cell_type": "markdown",
   "metadata": {},
   "source": [
    "# String\n",
    "\n",
    "Esta lección es una rápida introducción a técnicas de manipulación de cadenas de caracteres (o strings) en Python. Saber cómo manipular cadenas de caracteres juega un papel fundamental en la mayoría de las tareas de procesamiento de texto. Si quieres experimentar con las siguientes lecciones puedes escribir y ejecutar pequeños programas tal como lo hicimos en lecciones previas, o puedes abrir tu intérprete de comandos de Python / Terminal para probarlos ahí."
   ]
  },
  {
   "cell_type": "markdown",
   "metadata": {},
   "source": [
    "Una string es una secuencia de caracteres. Puede acceder a los caracteres de uno en uno con el operador de paréntesis: "
   ]
  },
  {
   "cell_type": "code",
   "execution_count": null,
   "metadata": {},
   "outputs": [],
   "source": [
    "fruta = 'fresa'"
   ]
  },
  {
   "cell_type": "code",
   "execution_count": null,
   "metadata": {},
   "outputs": [],
   "source": [
    "letra = fruta[1]"
   ]
  },
  {
   "cell_type": "markdown",
   "metadata": {},
   "source": [
    "La segunda afirmación extrae el carácter en la posición 1 del índice de la variable de la fruta y lo asigna a la variable de la letra. La expresión entre paréntesis se llama índice. El índice indica el carácter de la secuencia que se desea (de ahí el nombre). Pero puede que no consigas lo que esperas: "
   ]
  },
  {
   "cell_type": "code",
   "execution_count": null,
   "metadata": {},
   "outputs": [],
   "source": [
    "print(letra)"
   ]
  },
  {
   "cell_type": "markdown",
   "metadata": {},
   "source": [
    "Para la mayoría de la gente, la primera letra de \"banana\" es \"b\", no \"a\". Pero en Python, el índice es un desplazamiento del principio de la cadena, y el desplazamiento de la primera letra es cero (0).  "
   ]
  },
  {
   "cell_type": "code",
   "execution_count": null,
   "metadata": {},
   "outputs": [],
   "source": [
    "letra = fruta[0]\n",
    "print(letra)"
   ]
  },
  {
   "cell_type": "markdown",
   "metadata": {},
   "source": [
    "Así que \"b\" es la letra en la posición 0 de la palabra \"banana\", \"a\" es la letra en la posición 1, y \"n\" seria la letra en la posición 2. \n",
    "\n",
    "\n",
    "Se puede usar cualquier expresión, incluyendo variables y operadores, como un índice, pero el valor del índice tiene que ser un número entero. De lo contrario, se obtiene: "
   ]
  },
  {
   "cell_type": "code",
   "execution_count": null,
   "metadata": {},
   "outputs": [],
   "source": [
    "letra = fruta[2.3]"
   ]
  },
  {
   "cell_type": "markdown",
   "metadata": {},
   "source": [
    "<img src=\"https://i.imgur.com/Tpj7CQC.png\">"
   ]
  },
  {
   "cell_type": "markdown",
   "metadata": {},
   "source": [
    "# Obtener la longitud de un string usando len()\n",
    "\n",
    "len es una función incorporada que devuelve el número de caracteres de una cadena:_"
   ]
  },
  {
   "cell_type": "code",
   "execution_count": null,
   "metadata": {},
   "outputs": [],
   "source": [
    "fruta = 'fresa'\n",
    "len(fruta)"
   ]
  },
  {
   "cell_type": "markdown",
   "metadata": {},
   "source": [
    "Para obtener la última letra de un string, podrías estar tentado de intentar algo como esto: "
   ]
  },
  {
   "cell_type": "code",
   "execution_count": null,
   "metadata": {},
   "outputs": [],
   "source": [
    "longitud = len(fruta)\n",
    "ultimo = fruta[longitud]"
   ]
  },
  {
   "cell_type": "markdown",
   "metadata": {},
   "source": [
    "La razón del IndexError es que no hay ninguna letra en \"banana\" con el índice 6. Desde que empezamos a contar en el cero, las seis letras están numeradas del 0 al 5. Para obtener el último carácter, hay que restarle 1 a la longitud: "
   ]
  },
  {
   "cell_type": "code",
   "execution_count": null,
   "metadata": {},
   "outputs": [],
   "source": [
    "ultimo = fruta[longitud-1]\n",
    "print(ultimo)"
   ]
  },
  {
   "cell_type": "markdown",
   "metadata": {},
   "source": [
    "Alternativamente, puedes usar índices negativos, que cuentan hacia atrás desde el final de la cuerda. La expresión fruta[-1] da la última letra, fruta[-2] da la el penúltimo, y así sucesivamente. "
   ]
  },
  {
   "cell_type": "markdown",
   "metadata": {},
   "source": [
    "# Rebanadas de String\n",
    "\n",
    "Un segmento de un string se llama un trozo. Seleccionar una rebanada es similar a seleccionar un caracter [limiteInferior,limiteSuperior)"
   ]
  },
  {
   "cell_type": "code",
   "execution_count": null,
   "metadata": {},
   "outputs": [],
   "source": [
    "s = 'Monty Python'\n",
    "print(type(s))\n",
    "print(isinstance(s,str))\n",
    "print(s[3:])"
   ]
  },
  {
   "cell_type": "code",
   "execution_count": null,
   "metadata": {},
   "outputs": [],
   "source": [
    "print(s[6:12])"
   ]
  },
  {
   "cell_type": "markdown",
   "metadata": {},
   "source": [
    "El operador devuelve la parte de la cadena del \"n-ésimo\" carácter \"m-ésimo\" al carácter, incluyendo el primero pero excluyendo el último [n,m). Si se omite el primer índice (antes de los dos puntos), el trozo comienza al principio de la cadena. Si se omite el segundo índice, la rebanada va al final de la cadena (n,m]: "
   ]
  },
  {
   "cell_type": "code",
   "execution_count": null,
   "metadata": {},
   "outputs": [],
   "source": [
    "fruta = 'banana'\n",
    "fruta[:3]"
   ]
  },
  {
   "cell_type": "code",
   "execution_count": null,
   "metadata": {},
   "outputs": [],
   "source": [
    "fruta[3:]"
   ]
  },
  {
   "cell_type": "markdown",
   "metadata": {},
   "source": [
    "Si el primer índice es mayor o igual que el segundo el resultado es una cadena vacía, representada por dos comillas:"
   ]
  },
  {
   "cell_type": "code",
   "execution_count": null,
   "metadata": {},
   "outputs": [],
   "source": [
    "fruta = 'banana'\n",
    "fruta[3:3]"
   ]
  },
  {
   "cell_type": "markdown",
   "metadata": {},
   "source": [
    "Una cadena vacía no contiene caracteres y tiene una longitud de 0, pero aparte de eso, es igual a cualquier otra cadena. "
   ]
  },
  {
   "cell_type": "markdown",
   "metadata": {},
   "source": [
    "# Ejercicio 1: ¿ Qué ocurre cuando se utiliza fruta[:]?"
   ]
  },
  {
   "cell_type": "code",
   "execution_count": null,
   "metadata": {},
   "outputs": [],
   "source": [
    "fruta[:]"
   ]
  },
  {
   "cell_type": "markdown",
   "metadata": {},
   "source": [
    "Podemos usar tambien indices negativos para indicar que queremos una rebanada de string contada de derecha a izquierda."
   ]
  },
  {
   "cell_type": "code",
   "execution_count": 8,
   "metadata": {},
   "outputs": [
    {
     "data": {
      "text/plain": [
       "'cuy'"
      ]
     },
     "execution_count": 8,
     "metadata": {},
     "output_type": "execute_result"
    }
   ],
   "source": [
    "fruta = 'Maracuya'\n",
    "fruta[-4:-1]"
   ]
  },
  {
   "cell_type": "markdown",
   "metadata": {},
   "source": [
    "Realmente tenemos oculto un parametro de nuestro rebanador, el *paso*, es el tercer parametro que indica cuantas posiciones requeremos que avance extrayendo los caracteres de la cadena. Por defecto, el *paso* es 1."
   ]
  },
  {
   "cell_type": "code",
   "execution_count": 9,
   "metadata": {},
   "outputs": [
    {
     "data": {
      "text/plain": [
       "'racu'"
      ]
     },
     "execution_count": 9,
     "metadata": {},
     "output_type": "execute_result"
    }
   ],
   "source": [
    "fruta = 'Maracuya'\n",
    "fruta[2:6]"
   ]
  },
  {
   "cell_type": "code",
   "execution_count": 10,
   "metadata": {},
   "outputs": [
    {
     "data": {
      "text/plain": [
       "'racu'"
      ]
     },
     "execution_count": 10,
     "metadata": {},
     "output_type": "execute_result"
    }
   ],
   "source": [
    "fruta = 'Maracuya'\n",
    "fruta[2:6:1]"
   ]
  },
  {
   "cell_type": "code",
   "execution_count": 13,
   "metadata": {},
   "outputs": [
    {
     "ename": "ValueError",
     "evalue": "slice step cannot be zero",
     "output_type": "error",
     "traceback": [
      "\u001b[1;31m---------------------------------------------------------------------------\u001b[0m",
      "\u001b[1;31mValueError\u001b[0m                                Traceback (most recent call last)",
      "\u001b[1;32m<ipython-input-13-79707b30b8ee>\u001b[0m in \u001b[0;36m<module>\u001b[1;34m\u001b[0m\n\u001b[0;32m      1\u001b[0m \u001b[0mfruta\u001b[0m \u001b[1;33m=\u001b[0m \u001b[1;34m'Maracuya'\u001b[0m\u001b[1;33m\u001b[0m\u001b[1;33m\u001b[0m\u001b[0m\n\u001b[1;32m----> 2\u001b[1;33m \u001b[0mfruta\u001b[0m\u001b[1;33m[\u001b[0m\u001b[1;36m2\u001b[0m\u001b[1;33m:\u001b[0m\u001b[1;36m4\u001b[0m\u001b[1;33m:\u001b[0m\u001b[1;36m0\u001b[0m\u001b[1;33m]\u001b[0m\u001b[1;33m\u001b[0m\u001b[1;33m\u001b[0m\u001b[0m\n\u001b[0m",
      "\u001b[1;31mValueError\u001b[0m: slice step cannot be zero"
     ]
    }
   ],
   "source": [
    "fruta = 'Maracuya'\n",
    "fruta[2:4:0]"
   ]
  },
  {
   "cell_type": "code",
   "execution_count": 15,
   "metadata": {},
   "outputs": [
    {
     "data": {
      "text/plain": [
       "'Maracuya'"
      ]
     },
     "execution_count": 15,
     "metadata": {},
     "output_type": "execute_result"
    }
   ],
   "source": [
    "fruta = 'Maracuya'\n",
    "fruta[:]"
   ]
  },
  {
   "cell_type": "code",
   "execution_count": 16,
   "metadata": {},
   "outputs": [
    {
     "data": {
      "text/plain": [
       "'ayucaraM'"
      ]
     },
     "execution_count": 16,
     "metadata": {},
     "output_type": "execute_result"
    }
   ],
   "source": [
    "fruta = 'Maracuya'\n",
    "fruta[::-1]"
   ]
  },
  {
   "cell_type": "markdown",
   "metadata": {},
   "source": [
    "# ¿Los string son inmutables?\n",
    "\n",
    "Es tentador utilizar el operador del lado izquierdo de una asignación, con la intención de cambiar un caracter en un string. Por ejemplo: "
   ]
  },
  {
   "cell_type": "code",
   "execution_count": 17,
   "metadata": {},
   "outputs": [
    {
     "ename": "TypeError",
     "evalue": "'str' object does not support item assignment",
     "output_type": "error",
     "traceback": [
      "\u001b[1;31m---------------------------------------------------------------------------\u001b[0m",
      "\u001b[1;31mTypeError\u001b[0m                                 Traceback (most recent call last)",
      "\u001b[1;32m<ipython-input-17-c53e3c2c96c9>\u001b[0m in \u001b[0;36m<module>\u001b[1;34m\u001b[0m\n\u001b[0;32m      1\u001b[0m \u001b[0msaludo\u001b[0m \u001b[1;33m=\u001b[0m \u001b[1;34m'¡hola, mundo!'\u001b[0m\u001b[1;33m\u001b[0m\u001b[1;33m\u001b[0m\u001b[0m\n\u001b[1;32m----> 2\u001b[1;33m \u001b[0msaludo\u001b[0m\u001b[1;33m[\u001b[0m\u001b[1;36m1\u001b[0m\u001b[1;33m]\u001b[0m \u001b[1;33m=\u001b[0m \u001b[1;34m'H'\u001b[0m\u001b[1;33m\u001b[0m\u001b[1;33m\u001b[0m\u001b[0m\n\u001b[0m",
      "\u001b[1;31mTypeError\u001b[0m: 'str' object does not support item assignment"
     ]
    }
   ],
   "source": [
    "saludo = '¡hola, mundo!'\n",
    "saludo[1] = 'H'"
   ]
  },
  {
   "cell_type": "markdown",
   "metadata": {},
   "source": [
    "El \"objeto\" en este caso es la cadena y el \"ítem\" es el caracter que trataste de asignar. Por ahora, un objeto es lo mismo que un valor, pero afinaremos esa definición más adelante. Un ítem es uno de los valores de una secuencia. La razón del error es que las cadenas son **INMUTABLES**, lo que significa que no se puede cambiar una cadena existente. Lo mejor que puedes hacer es crear una nueva cadena que sea una variación de la original:"
   ]
  },
  {
   "cell_type": "code",
   "execution_count": 19,
   "metadata": {},
   "outputs": [
    {
     "name": "stdout",
     "output_type": "stream",
     "text": [
      "¡Hola, mundo!\n"
     ]
    }
   ],
   "source": [
    "saludo = '¡hola, mundo!'\n",
    "nuevo_saludo = saludo[0]+ 'H' + saludo[2:]\n",
    "print(nuevo_saludo)"
   ]
  },
  {
   "cell_type": "markdown",
   "metadata": {},
   "source": [
    "Este ejemplo concatena una nueva primera letra en un trozo de saludo. No tiene ningún efecto en la cadena original. "
   ]
  },
  {
   "cell_type": "markdown",
   "metadata": {},
   "source": [
    "# El operador \"in\"\n",
    "\n",
    "La palabra \"in\" es un operador booleano que toma dos cadenas y devuelve True si la primera aparece como una subcadena en la segunda:"
   ]
  },
  {
   "cell_type": "code",
   "execution_count": 24,
   "metadata": {},
   "outputs": [
    {
     "data": {
      "text/plain": [
       "True"
      ]
     },
     "execution_count": 24,
     "metadata": {},
     "output_type": "execute_result"
    }
   ],
   "source": [
    "'pana' in 'banana'"
   ]
  },
  {
   "cell_type": "code",
   "execution_count": 25,
   "metadata": {},
   "outputs": [
    {
     "data": {
      "text/plain": [
       "False"
      ]
     },
     "execution_count": 25,
     "metadata": {},
     "output_type": "execute_result"
    }
   ],
   "source": [
    "\"ola\" in \"banana\""
   ]
  },
  {
   "cell_type": "markdown",
   "metadata": {},
   "source": [
    "# Comparación de string\n",
    "\n",
    "\n",
    "Los operadores de comparación trabajan con strings. Para ver si dos cuerdas son iguales:"
   ]
  },
  {
   "cell_type": "code",
   "execution_count": 33,
   "metadata": {},
   "outputs": [
    {
     "name": "stdout",
     "output_type": "stream",
     "text": [
      "Está bien, papaya\n"
     ]
    }
   ],
   "source": [
    "palabra = 'bananas'\n",
    "if palabra == 'banana':\n",
    "    print('Está bien, banana')\n",
    "else:\n",
    "    print('Está bien, papaya')"
   ]
  },
  {
   "cell_type": "markdown",
   "metadata": {},
   "source": [
    "Otras operaciones de comparación son útiles para poner las palabras en orden alfabético:"
   ]
  },
  {
   "cell_type": "code",
   "execution_count": 36,
   "metadata": {},
   "outputs": [
    {
     "name": "stdout",
     "output_type": "stream",
     "text": [
      "Su palabra,bananas, viene después de banana.\n"
     ]
    }
   ],
   "source": [
    "if palabra < 'banana r':\n",
    "    print('Tu palabra,' + palabra + ', viene antes de banana')\n",
    "elif palabra > 'banana r':\n",
    "        print('Su palabra,' + palabra + ', viene después de banana.')\n",
    "else:\n",
    "        print('Está bien, su palabra es banana')"
   ]
  },
  {
   "cell_type": "markdown",
   "metadata": {},
   "source": [
    "Python no maneja las mayúsculas y minúsculas de la misma manera como lo hace la gente. Todas las mayúsculas vienen antes que las minúsculas, así que: \n",
    "\n",
    "La palabra, **Piña**, viene antes que **banana**."
   ]
  },
  {
   "cell_type": "markdown",
   "metadata": {},
   "source": [
    "Una forma común de abordar este problema es convertir las cadenas a un formato estándar, como todas las minúsculas, antes de realizar la comparación."
   ]
  },
  {
   "cell_type": "markdown",
   "metadata": {},
   "source": [
    "# Métodos de un string\n",
    "\n",
    "Los string son un ejemplo de los objetos de Python. Un objeto contiene tanto datos (la cadena propiamente dicha) como métodos, que son en realidad funciones que están incorporadas en el objeto y que están disponibles para cualquier instancia del mismo. \n",
    "\n",
    "Python tiene una función llamada dir que enumera los métodos disponibles para un objeto. La función type muestra el tipo de un objeto y la función dir muestra los métodos disponibles. "
   ]
  },
  {
   "cell_type": "code",
   "execution_count": 38,
   "metadata": {},
   "outputs": [],
   "source": [
    "Cadena = 'Hola mundo'"
   ]
  },
  {
   "cell_type": "code",
   "execution_count": 39,
   "metadata": {},
   "outputs": [
    {
     "data": {
      "text/plain": [
       "str"
      ]
     },
     "execution_count": 39,
     "metadata": {},
     "output_type": "execute_result"
    }
   ],
   "source": [
    "type(Cadena)"
   ]
  },
  {
   "cell_type": "code",
   "execution_count": 40,
   "metadata": {},
   "outputs": [
    {
     "data": {
      "text/plain": [
       "['__add__',\n",
       " '__class__',\n",
       " '__contains__',\n",
       " '__delattr__',\n",
       " '__dir__',\n",
       " '__doc__',\n",
       " '__eq__',\n",
       " '__format__',\n",
       " '__ge__',\n",
       " '__getattribute__',\n",
       " '__getitem__',\n",
       " '__getnewargs__',\n",
       " '__gt__',\n",
       " '__hash__',\n",
       " '__init__',\n",
       " '__init_subclass__',\n",
       " '__iter__',\n",
       " '__le__',\n",
       " '__len__',\n",
       " '__lt__',\n",
       " '__mod__',\n",
       " '__mul__',\n",
       " '__ne__',\n",
       " '__new__',\n",
       " '__reduce__',\n",
       " '__reduce_ex__',\n",
       " '__repr__',\n",
       " '__rmod__',\n",
       " '__rmul__',\n",
       " '__setattr__',\n",
       " '__sizeof__',\n",
       " '__str__',\n",
       " '__subclasshook__',\n",
       " 'capitalize',\n",
       " 'casefold',\n",
       " 'center',\n",
       " 'count',\n",
       " 'encode',\n",
       " 'endswith',\n",
       " 'expandtabs',\n",
       " 'find',\n",
       " 'format',\n",
       " 'format_map',\n",
       " 'index',\n",
       " 'isalnum',\n",
       " 'isalpha',\n",
       " 'isascii',\n",
       " 'isdecimal',\n",
       " 'isdigit',\n",
       " 'isidentifier',\n",
       " 'islower',\n",
       " 'isnumeric',\n",
       " 'isprintable',\n",
       " 'isspace',\n",
       " 'istitle',\n",
       " 'isupper',\n",
       " 'join',\n",
       " 'ljust',\n",
       " 'lower',\n",
       " 'lstrip',\n",
       " 'maketrans',\n",
       " 'partition',\n",
       " 'replace',\n",
       " 'rfind',\n",
       " 'rindex',\n",
       " 'rjust',\n",
       " 'rpartition',\n",
       " 'rsplit',\n",
       " 'rstrip',\n",
       " 'split',\n",
       " 'splitlines',\n",
       " 'startswith',\n",
       " 'strip',\n",
       " 'swapcase',\n",
       " 'title',\n",
       " 'translate',\n",
       " 'upper',\n",
       " 'zfill']"
      ]
     },
     "execution_count": 40,
     "metadata": {},
     "output_type": "execute_result"
    }
   ],
   "source": [
    "dir(Cadena)"
   ]
  },
  {
   "cell_type": "code",
   "execution_count": 41,
   "metadata": {},
   "outputs": [
    {
     "name": "stdout",
     "output_type": "stream",
     "text": [
      "Help on method_descriptor:\n",
      "\n",
      "capitalize(self, /)\n",
      "    Return a capitalized version of the string.\n",
      "    \n",
      "    More specifically, make the first character have upper case and the rest lower\n",
      "    case.\n",
      "\n"
     ]
    }
   ],
   "source": [
    "help(str.capitalize)"
   ]
  },
  {
   "cell_type": "markdown",
   "metadata": {},
   "source": [
    "Si bien la función dir enumera los métodos, y se puede utilizar la ayuda para obtener una documentación sencilla sobre un método, una mejor fuente de documentación para los métodos de cuerda sería \n",
    "\n",
    "https://docs.python.org/library/stdtypes.html#string-methods. \n",
    "\n",
    "Llamar a un método es similar a llamar a una función (toma argumentos y devuelve un valor) pero la sintaxis es diferente. Llamamos a un método añadiendo el nombre del método al nombre de la variable utilizando el punto como delimitador. \n",
    "\n",
    "Por ejemplo, el método upper toma un string y devuelve un nuevo string con todas las letras mayúsculas:\n",
    "\n",
    "En lugar de la función sintaxis upper(palabra), utiliza el método sintaxis palabra.upper()."
   ]
  },
  {
   "cell_type": "code",
   "execution_count": null,
   "metadata": {},
   "outputs": [],
   "source": [
    "palabra = 'banana'\n",
    "palabra_nueva = palabra.upper()\n",
    "print(palabra_nueva)"
   ]
  },
  {
   "cell_type": "markdown",
   "metadata": {},
   "source": [
    "Esta forma de notación puntual especifica el nombre del método, **upper**, y el nombre de la cadena a la que se aplica el método, **palabra**. Los paréntesis vacíos indican que este método no toma ningún argumento. \n",
    "\n",
    "La llamada a un método se llama una **invocation**; en este caso, diríamos que estamos invocando upper sobre **palabra**. \n",
    "\n",
    "Por ejemplo, hay un método de cadena llamado **find** que busca la posición de una cadena dentro de otra: "
   ]
  },
  {
   "cell_type": "code",
   "execution_count": 60,
   "metadata": {},
   "outputs": [
    {
     "name": "stdout",
     "output_type": "stream",
     "text": [
      "3\n"
     ]
    }
   ],
   "source": [
    "palabra = 'banana'\n",
    "index = palabra.find('a',palabra.find('a')+1)\n",
    "print(index)"
   ]
  },
  {
   "cell_type": "markdown",
   "metadata": {},
   "source": [
    "En este ejemplo, invocamos a find sobre palabra y pasamos la letra que buscamos como parámetro."
   ]
  },
  {
   "cell_type": "markdown",
   "metadata": {},
   "source": [
    "El método find puede encontrar subcadenas así como caracteres:"
   ]
  },
  {
   "cell_type": "code",
   "execution_count": null,
   "metadata": {},
   "outputs": [],
   "source": [
    "palabra.find('na')"
   ]
  },
  {
   "cell_type": "markdown",
   "metadata": {},
   "source": [
    "Puede tomar como segundo argumento el índice donde debe comenzar: "
   ]
  },
  {
   "cell_type": "code",
   "execution_count": null,
   "metadata": {},
   "outputs": [],
   "source": [
    "palabra.find('na', 3)"
   ]
  },
  {
   "cell_type": "markdown",
   "metadata": {},
   "source": [
    "Una tarea común es eliminar los espacios en blanco (espacios, tabulaciones o nuevas líneas) del principio y el final de una cadena utilizando el método de la tira: "
   ]
  },
  {
   "cell_type": "code",
   "execution_count": null,
   "metadata": {},
   "outputs": [],
   "source": [
    "linea = '        Aquí vamos            '\n",
    "linea.strip()"
   ]
  },
  {
   "cell_type": "markdown",
   "metadata": {},
   "source": [
    "Algunos métodos como el de empezar con valores booleanos de retorno. "
   ]
  },
  {
   "cell_type": "code",
   "execution_count": null,
   "metadata": {},
   "outputs": [],
   "source": [
    "linea = 'Que Tengas Un Buen Día'\n",
    "linea.startswith('Que')"
   ]
  },
  {
   "cell_type": "code",
   "execution_count": null,
   "metadata": {},
   "outputs": [],
   "source": [
    "linea.startswith('q')"
   ]
  },
  {
   "cell_type": "markdown",
   "metadata": {},
   "source": [
    "Notarán que el comienzo requiere que el caso coincida, así que a veces tomamos una línea y lo mapeamos todo a minúsculas antes de hacer cualquier verificación usando el método de abajo. "
   ]
  },
  {
   "cell_type": "code",
   "execution_count": null,
   "metadata": {},
   "outputs": [],
   "source": [
    "linea = 'Que Tengas Un Buen Día'\n",
    "linea.startswith('t')"
   ]
  },
  {
   "cell_type": "code",
   "execution_count": null,
   "metadata": {},
   "outputs": [],
   "source": [
    "linea.lower() #que tendas un buen dia"
   ]
  },
  {
   "cell_type": "code",
   "execution_count": null,
   "metadata": {},
   "outputs": [],
   "source": [
    "linea.lower().startswith('q')"
   ]
  },
  {
   "cell_type": "markdown",
   "metadata": {},
   "source": [
    "En el último ejemplo, se llama el método \"lower\" y luego usamos \"startswith\" para ver si la cadena de minúsculas resultante comienza con la letra \"Q\". Siempre que seamos cuidadosos con el orden, podemos hacer múltiples llamadas al método en una sola expresión. "
   ]
  },
  {
   "cell_type": "markdown",
   "metadata": {},
   "source": [
    "# Analizar los string\n",
    "\n",
    "A menudo, queremos mirar en una cadena y encontrar una subcadena. Por ejemplo, si estuviéramos presentó una serie de líneas con el siguiente formato: \n",
    "\n",
    "De stephen.marquard@ uct.ac.za Sat Jan 5 09:14:16 2008 \n",
    "\n",
    "y queríamos sacar sólo la segunda mitad de la dirección (es decir, uct.ac.za) de cada línea, podemos hacer esto usando el método **find** y corte de cadenas. \n",
    "\n",
    "Primero, encontraremos la palabra que se encuentra en la posición anterior. Luego encontraremos la posición del primer espacio de la palabra que se encuentra en la posición anterior Y luego usaremos el corte de la cadena para extraer la porción de la palabra que estamos buscando. "
   ]
  },
  {
   "cell_type": "code",
   "execution_count": 61,
   "metadata": {},
   "outputs": [
    {
     "name": "stdout",
     "output_type": "stream",
     "text": [
      "19\n"
     ]
    }
   ],
   "source": [
    "data = 'De stephen.marquard@uct.ac.za Sat Jan 5 09:14:16 2008'\n",
    "enlaposicion = data.find('@')\n",
    "print(enlaposicion)"
   ]
  },
  {
   "cell_type": "code",
   "execution_count": 62,
   "metadata": {},
   "outputs": [
    {
     "name": "stdout",
     "output_type": "stream",
     "text": [
      "29\n"
     ]
    }
   ],
   "source": [
    "espacioenlaposicion = data.find(' ',enlaposicion)\n",
    "print(espacioenlaposicion)"
   ]
  },
  {
   "cell_type": "code",
   "execution_count": 65,
   "metadata": {},
   "outputs": [
    {
     "name": "stdout",
     "output_type": "stream",
     "text": [
      "uct.ac.za\n",
      "stephen.marquard@uct.ac.za\n"
     ]
    }
   ],
   "source": [
    "host = data[enlaposicion+1:espacioenlaposicion]\n",
    "print(host)\n",
    "direccioncorreo = data[data.find(\" \")+1:espacioenlaposicion]\n",
    "print(direccioncorreo)"
   ]
  },
  {
   "cell_type": "markdown",
   "metadata": {},
   "source": [
    "Utilizamos una versión del método de búsqueda que nos permite especificar una posición en la cadena donde queremos encontrar para empezar a buscar. Cuando cortamos, extraemos la personajes desde \"uno más allá de la señal de \"@\" hasta, pero sin incluir, el espacio del caracter\". \n",
    "\n",
    "La documentación para el método de búsqueda **find** está disponible en https://docs.python.org/library/stdtypes.html#string-methods."
   ]
  },
  {
   "cell_type": "markdown",
   "metadata": {},
   "source": [
    "# Operador de formato\n",
    "\n",
    "El operador de formato, % nos permite construir cadenas, reemplazando partes de las cadenas con los datos almacenados en las variables. Cuando se aplica a números enteros, % es el operador de módulo. Pero cuando el primer operando es una cadena, % es el operador de formato. \n",
    "\n",
    "El primer operando es la cadena de formato, que contiene una o más secuencias de formato que especifican cómo se formatea el segundo operando. El resultado es una cadena.\n",
    "\n",
    "Por ejemplo, la secuencia de formato %d significa que el segundo operando debe formatearse como un número entero (\"d\" significa \"decimal\"): "
   ]
  },
  {
   "cell_type": "code",
   "execution_count": null,
   "metadata": {},
   "outputs": [],
   "source": [
    "camellos = 42\n",
    "'%d' % camellos"
   ]
  },
  {
   "cell_type": "markdown",
   "metadata": {},
   "source": [
    "El resultado es la cadena \"42\", que no debe confundirse con el valor entero 42. \n",
    "\n",
    "Una secuencia de formato puede aparecer en cualquier parte de la cadena, de modo que se puede incrustar un valor en una frase:"
   ]
  },
  {
   "cell_type": "code",
   "execution_count": null,
   "metadata": {},
   "outputs": [],
   "source": [
    "camellos = 42\n",
    "'He visto %d camellos' % camellos"
   ]
  },
  {
   "cell_type": "markdown",
   "metadata": {},
   "source": [
    "# Caracteres especiales en el string\n",
    "\n",
    "Como en otros lenguajes, Python tiene caracteres especiales que interpreta dentro de los string. Por ejemplo \\n es un retorno de carro (nueva línea), \\t es un tabulador. En string and bytes literals tienes una tabla completa con todos los caracteres de escape de los string de Python.\n",
    "\n",
    "Podemos, al definir una cadena, usar una r justo delante de la apertura de las comillas. Esto evitará que Python interprete los caracteres especiales y los tratará como caracteres normales."
   ]
  },
  {
   "cell_type": "code",
   "execution_count": 66,
   "metadata": {},
   "outputs": [
    {
     "name": "stdout",
     "output_type": "stream",
     "text": [
      "Hola\n",
      "Mundo\n"
     ]
    }
   ],
   "source": [
    "# Saldrán dos líneas en pantalla, una con Hola, la otra con Mundo\n",
    "cadena = \"Hola\\nMundo\"  \n",
    "print(cadena)"
   ]
  },
  {
   "cell_type": "code",
   "execution_count": 67,
   "metadata": {},
   "outputs": [
    {
     "name": "stdout",
     "output_type": "stream",
     "text": [
      "Hola\\nMundo\n"
     ]
    }
   ],
   "source": [
    "# Saldrá una única línea en pantalla y la \\ y la n será visibles como caracteres normales.\n",
    "cadena2 = r\"Hola\\nMundo\"\n",
    "print(cadena2)"
   ]
  },
  {
   "cell_type": "markdown",
   "metadata": {},
   "source": [
    "# Contar número de veces que el substring aparece en el string : count\n",
    "\n",
    "El método count nos dice cuántas veces aparece el substring dentro del string. Admite un parámetro que es el substring a buscar, y opcionalmente otros dos, los índices de inicio y fin de búsqueda. Veamos ejemplos"
   ]
  },
  {
   "cell_type": "code",
   "execution_count": null,
   "metadata": {},
   "outputs": [],
   "source": [
    "cadena = \"un uno, un dos, un tres\"\n",
    "\n",
    "print (cadena.count(\"un\"))        # Saca 4, hay 4 \"un\" en cadena.\n",
    "print (cadena.count(\"un\",10))     # Saca 1, hay 1 \"un\" a partir de la posición 10 de cadena.\n",
    "print (cadena.count(\"un\",0,10))   # Saca 3, hay 3 \"un\" entre la posición 0 y la 10."
   ]
  },
  {
   "cell_type": "markdown",
   "metadata": {},
   "source": [
    "# Reemplazar substring en string : replace\n",
    "\n",
    "El método replace nos permite obtener una copia de la cadena original (no reemplaza en la cadena original) en la que se reemplaza el substring que se le indique por uno nuevo. Admite tres parámetros, el primero es el substring que tiene que buscar, el segundo es el nuevo substring que tiene que poner y el tercero, opcional, es cuántas veces tiene que hacer el reemplazo. Veamos ejemplos"
   ]
  },
  {
   "cell_type": "code",
   "execution_count": null,
   "metadata": {},
   "outputs": [],
   "source": [
    "cadena = \"un uno, un dos, un tres\"\n",
    "\n",
    "print (cadena.replace(\"un\", \"XXX\"))        # saca por pantalla \"XXX XXXo, XXX dos, XXX tres\"\n",
    "print (cadena.replace(\"un\", \"XXX\", 2))     # Sólo reemplaza 2 \"un\", así que saca por pantalla \"XXX XXXo, un dos, un tres\""
   ]
  },
  {
   "cell_type": "markdown",
   "metadata": {},
   "source": [
    "# el método format() de string\n",
    "\n",
    "Se pueden definir variables y poner llaves {} en el string donde van a ir los números o caracteres. Entre paréntesis pasamos los valores. Unos ejemplos sencillos"
   ]
  },
  {
   "cell_type": "code",
   "execution_count": null,
   "metadata": {},
   "outputs": [],
   "source": [
    "# saca \"El valor es 12\n",
    "print (\"El valor es {}\".format(12))\n",
    "\n",
    "# saca \"El valor es 12.3456\n",
    "print (\"El valor es {}\".format(12.3456))\n",
    "\n",
    "# Tres conjuntos {}, el primero para el primer parámetro de format(), el segundo para el segundo\n",
    "# y así sucesivamente.\n",
    "# saca \"Los valores son 1, 2 y 3\"\n",
    "print (\"Los valores son {}, {} y {}\".format(1,2,3))\n",
    "\n",
    "# Entre las llaves podemos poner la posición del parámetro. {2} es el tercer parámetro de format()\n",
    "# {0} es el primer parámetro de format.\n",
    "# saca \"Los valores son 3, 2 y 1\"\n",
    "print (\"Los valores son {2}, {1} y {0}\".format(1,2,3))"
   ]
  },
  {
   "cell_type": "markdown",
   "metadata": {},
   "source": [
    "Si a los parámetros les damos nombre, podemos usar ese nombre en vez de su número de posición"
   ]
  },
  {
   "cell_type": "code",
   "execution_count": null,
   "metadata": {},
   "outputs": [],
   "source": [
    "# saca \"2 y 1\"\n",
    "print (\"{pepe} y {juan}\".format(juan=1, pepe=2))"
   ]
  },
  {
   "cell_type": "markdown",
   "metadata": {},
   "source": [
    "Podemos dar formato a los números para indicar cuántas cifras y decimales queremos, siguiendo una sintaxis similar al operador % que acabamos de ver. También podemos mezclar este formato con el número o nombre de posición del parámetro."
   ]
  },
  {
   "cell_type": "markdown",
   "metadata": {},
   "source": [
    "# Concatenar\n",
    "\n",
    "Este término significa juntar cadenas de caracteres. El proceso de concatenación se realiza mediante el operador de suma (+). Ten en cuenta que debes marcar explícitamente dónde quieres los espacios en blanco y colocarlos entre comillas.\n",
    "\n",
    "En este ejemplo, la cadena de caracteres “mensaje1” tiene el contenido “Hola Mundo”"
   ]
  },
  {
   "cell_type": "code",
   "execution_count": null,
   "metadata": {},
   "outputs": [],
   "source": [
    "mensaje1 = 'Hola' + ' ' + 'Mundo'\n",
    "print(mensaje1)"
   ]
  },
  {
   "cell_type": "markdown",
   "metadata": {},
   "source": [
    "# Multiplicar\n",
    "Si quieres varias copias de una cadena de caracteres utiliza el operador de multiplicación (*). En este ejemplo, la cadena de caracteres mensaje2a lleva el contenido “Hola” tres veces, mientras que la cadena de caracteres mensaje2b tiene el contenido “Mundo”. Ordenemos imprimir las dos cadenas."
   ]
  },
  {
   "cell_type": "code",
   "execution_count": 68,
   "metadata": {},
   "outputs": [
    {
     "name": "stdout",
     "output_type": "stream",
     "text": [
      "Hola Hola Hola Mundo\n"
     ]
    }
   ],
   "source": [
    "mensaje2a = 'Hola ' * 3\n",
    "mensaje2b = 'Mundo'\n",
    "print(mensaje2a + mensaje2b)"
   ]
  },
  {
   "cell_type": "markdown",
   "metadata": {},
   "source": [
    "# Añadir\n",
    "¿Qué pasa si quieres añadir material de manera sucesiva al final de una cadena de caracteres? El operador especial para ello es compuesto (+=)."
   ]
  },
  {
   "cell_type": "code",
   "execution_count": null,
   "metadata": {},
   "outputs": [],
   "source": [
    "mensaje3 = 'Hola'\n",
    "mensaje3 += ' '\n",
    "mensaje3 += 'Mundo'\n",
    "print(mensaje3)"
   ]
  }
 ],
 "metadata": {
  "kernelspec": {
   "display_name": "Python 3 (ipykernel)",
   "language": "python",
   "name": "python3"
  },
  "language_info": {
   "codemirror_mode": {
    "name": "ipython",
    "version": 3
   },
   "file_extension": ".py",
   "mimetype": "text/x-python",
   "name": "python",
   "nbconvert_exporter": "python",
   "pygments_lexer": "ipython3",
   "version": "3.11.3"
  }
 },
 "nbformat": 4,
 "nbformat_minor": 4
}

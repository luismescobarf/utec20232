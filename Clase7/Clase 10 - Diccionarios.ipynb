{
 "cells": [
  {
   "cell_type": "markdown",
   "metadata": {},
   "source": [
    "# Diccionarios \n",
    "\n",
    "En Python existen diferentes estructuras de datos las cuales nos permiten almacenar y gestionar diferentes tipos de datos, por ejemplo tenemos a las listas, las tuplas y a los diccionarios.\n",
    "\n",
    "Hoy vamos a hablar de los diccionarios, la estructura característica que posee Python\n",
    "\n",
    "El diccionario, define una relación uno a uno entre una clave y su valor.\n",
    "\n",
    "Los diccionarios en Python, al igual que las listas y las tuplas, nos permiten almacenar diferentes tipos de datos: Strings, enteros, flotantes, booleanos, tuplas, listas e inclusive otros diccionarios.\n",
    "\n",
    "Los diccionarios son mutables, es decir, es posible modificar su longitud, podemos agregar o quitar elementos de él; de igual forma todos los valores almacenados en el diccionario pueden ser modificados.\n",
    "\n",
    "# Definición y almacenamiento de datos"
   ]
  },
  {
   "cell_type": "code",
   "execution_count": null,
   "metadata": {},
   "outputs": [],
   "source": [
    "diccionario = {}"
   ]
  },
  {
   "cell_type": "code",
   "execution_count": null,
   "metadata": {},
   "outputs": [],
   "source": [
    "print(diccionario)"
   ]
  },
  {
   "cell_type": "code",
   "execution_count": null,
   "metadata": {},
   "outputs": [],
   "source": [
    "diccionario = dict()"
   ]
  },
  {
   "cell_type": "code",
   "execution_count": null,
   "metadata": {},
   "outputs": [],
   "source": [
    "diccionario"
   ]
  },
  {
   "cell_type": "markdown",
   "metadata": {},
   "source": [
    "Para definir un diccionario haremos uso de un juego de llaves o de la función dict(). De ambas formas es correcto.\n",
    "\n",
    "Para poder almacenar algún valor seguiremos la siguiente estructura, nuestra clave, dos puntos y el valor el cual queremos asociar.\n",
    "\n",
    "Por ejemplo, el *string* total, dos puntos, 55, con esto le indico a Python que la llave \"total\" almacena 55."
   ]
  },
  {
   "cell_type": "code",
   "execution_count": null,
   "metadata": {},
   "outputs": [],
   "source": [
    "diccionario = {\"total\": 55}\n",
    "print(diccionario)\n",
    "otrodiccionario = {\"copia\": 123.23}\n",
    "print(otrodiccionario)"
   ]
  },
  {
   "cell_type": "markdown",
   "metadata": {},
   "source": [
    "Si necesitamos almacenar nuevos valores basta con separarlos mediante una coma."
   ]
  },
  {
   "cell_type": "code",
   "execution_count": null,
   "metadata": {},
   "outputs": [],
   "source": [
    "diccionario = {\"total\": 55, \"descuento\": True, 15: \"15\"}\n",
    "\n",
    "print(diccionario)\n",
    "\n",
    "diccionarioEjemploExcel ={\"nombre\":5+2,\"telefono\":3363692, \"edad\":33, \"ciudad\":\"Pereira\"}\n",
    "\n",
    "print(diccionarioEjemploExcel)"
   ]
  },
  {
   "cell_type": "markdown",
   "metadata": {},
   "source": [
    "Otra forma de crearlos es llamando a la función *dict*"
   ]
  },
  {
   "cell_type": "code",
   "execution_count": null,
   "metadata": {},
   "outputs": [],
   "source": [
    "diccionario = dict(total= 55, descuento= True, subtotal= 15)\n",
    "\n",
    "print(diccionario)"
   ]
  },
  {
   "cell_type": "markdown",
   "metadata": {},
   "source": [
    "Veamos otro ejemplo."
   ]
  },
  {
   "cell_type": "code",
   "execution_count": null,
   "metadata": {},
   "outputs": [],
   "source": [
    "diccionario = {\"total\": 55, 10: \"Curso de Python\", 2.0: True}\n",
    "\n",
    "print(diccionario)"
   ]
  },
  {
   "cell_type": "markdown",
   "metadata": {},
   "source": [
    "En este caso ya nos complicamos un poco. Estamos almacenando tres valores con sus correspondientes llaves. Estas tres llaves son valores inmutables. Tenemos:\n",
    "\n",
    "- Un string (\"total\")\n",
    "- Un número entero (10)\n",
    "- Un decimal (2.0)\n",
    "\n",
    "Estamos almacenando 55, \"Curso Python\", True respectivamente."
   ]
  },
  {
   "cell_type": "markdown",
   "metadata": {},
   "source": [
    "Regularmente haremos uso de llaves de un mismo tipo, comúnmente string, sin embargo si por algún motivo necesitas almacenar otro tipo de llave sabrás que puedes hacerlo. Un dato interesante es que podemos utilizar clases como llaves."
   ]
  },
  {
   "cell_type": "markdown",
   "metadata": {},
   "source": [
    "En este curso más adelante trabajaremos con objetos JSON. Por lo cual los diccionarios serán muy familiares ya que de hecho el equivalente de un JSON en Python son los diccionarios."
   ]
  },
  {
   "cell_type": "code",
   "execution_count": null,
   "metadata": {},
   "outputs": [],
   "source": [
    "usuario = {\n",
    "    'nombre': 'Nombre del usuario',\n",
    "    'edad' : 23, \n",
    "    'curso': 'Curso de Python',\n",
    "    'skills':{\n",
    "        'programacion' : True,\n",
    "        'base_de_datos': False\n",
    "    },\n",
    "    'No medallas' : 10\n",
    "}\n",
    "\n",
    "print(usuario)"
   ]
  },
  {
   "cell_type": "code",
   "execution_count": null,
   "metadata": {},
   "outputs": [],
   "source": [
    "print(usuario['curso'])\n",
    "print(usuario['skills'])\n",
    "print(usuario['skills']['base_de_datos'])"
   ]
  },
  {
   "cell_type": "code",
   "execution_count": null,
   "metadata": {},
   "outputs": [],
   "source": [
    "diccionario = dict(total=55, descuento=True, descuento5=True, subtotal=\"15\")\n",
    "\n",
    "print(diccionario)\n",
    "print(diccionario['subtotal'])"
   ]
  },
  {
   "cell_type": "markdown",
   "metadata": {},
   "source": [
    "Cómo ven este tipo de dato puede ser tan complejo como deseemos.\n",
    "\n",
    "Para poder agregar, obtener o modificar algún valor del diccionario haremos uso de corchetes."
   ]
  },
  {
   "cell_type": "code",
   "execution_count": null,
   "metadata": {},
   "outputs": [],
   "source": [
    "diccionario = dict()\n",
    "print(diccionario)\n",
    "\n",
    "diccionario['marca'] = 'Mazda'\n",
    "print(diccionario['marca'])\n",
    "\n",
    "diccionario['marca'] = 'Subaru'\n",
    "print(diccionario['marca'])\n",
    "\n",
    "print(diccionario)"
   ]
  },
  {
   "cell_type": "markdown",
   "metadata": {},
   "source": [
    "podemos obtener todas las llaves de nuestro diccionario utilizando el método keys, de igual forma podremos obtener todos los valores el diccionario con le método values."
   ]
  },
  {
   "cell_type": "code",
   "execution_count": 1,
   "metadata": {},
   "outputs": [
    {
     "name": "stdout",
     "output_type": "stream",
     "text": [
      "{'Eduardo': 1, 'Fernando': 2, 'Uriel': 3, 'Rafael': 4}\n"
     ]
    }
   ],
   "source": [
    "diccionario = {'Eduardo': 1, 'Fernando':2, 'Uriel':3, 'Rafael': 4}\n",
    "print(diccionario)"
   ]
  },
  {
   "cell_type": "code",
   "execution_count": 2,
   "metadata": {},
   "outputs": [
    {
     "data": {
      "text/plain": [
       "dict_keys(['Eduardo', 'Fernando', 'Uriel', 'Rafael'])"
      ]
     },
     "execution_count": 2,
     "metadata": {},
     "output_type": "execute_result"
    }
   ],
   "source": [
    "diccionario.keys()"
   ]
  },
  {
   "cell_type": "code",
   "execution_count": null,
   "metadata": {},
   "outputs": [],
   "source": [
    "diccionario.values()"
   ]
  },
  {
   "cell_type": "markdown",
   "metadata": {},
   "source": [
    "Veamos otro ejemplo"
   ]
  },
  {
   "cell_type": "code",
   "execution_count": null,
   "metadata": {},
   "outputs": [],
   "source": [
    "diccionario = {\n",
    "     \"clave1\":234,\n",
    "     \"cadena\":True,\n",
    "     \"clave3\":\"Valor 1\",\n",
    "}\n",
    "print(diccionario)\n",
    "print(type(diccionario))"
   ]
  },
  {
   "cell_type": "markdown",
   "metadata": {},
   "source": [
    "Usted puede acceder a los valores del diccionario usando cada clave, a continuación se presentan unos ejemplos:"
   ]
  },
  {
   "cell_type": "code",
   "execution_count": null,
   "metadata": {},
   "outputs": [],
   "source": [
    "diccionario['clave1']"
   ]
  },
  {
   "cell_type": "code",
   "execution_count": null,
   "metadata": {},
   "outputs": [],
   "source": [
    "diccionario['clave2']"
   ]
  },
  {
   "cell_type": "code",
   "execution_count": null,
   "metadata": {},
   "outputs": [],
   "source": [
    "diccionario['clave3']"
   ]
  },
  {
   "cell_type": "code",
   "execution_count": null,
   "metadata": {},
   "outputs": [],
   "source": [
    "diccionario['clave4']"
   ]
  },
  {
   "cell_type": "markdown",
   "metadata": {},
   "source": [
    "# Acceder a valor de clave\n",
    "\n",
    "Esta operación le permite acceder a un valor especifico del diccionario mediante su clave."
   ]
  },
  {
   "cell_type": "code",
   "execution_count": null,
   "metadata": {},
   "outputs": [],
   "source": [
    "versiones = dict(python=2.7, zope=2.13, plone=5.1, django=2.1)\n",
    "versiones['zope']"
   ]
  },
  {
   "cell_type": "markdown",
   "metadata": {},
   "source": [
    "# Métodos \n",
    "\n",
    "Los objetos de tipo diccionario tienen por defecto una serie de métodos integrados, a continuación:"
   ]
  },
  {
   "cell_type": "markdown",
   "metadata": {},
   "source": [
    "# clear()\n",
    "\n",
    "Este método remueve todos los elementos desde el diccionario."
   ]
  },
  {
   "cell_type": "code",
   "execution_count": null,
   "metadata": {},
   "outputs": [],
   "source": [
    "versiones = dict(python=2.7, zope=2.13, plone=5.1)\n",
    "print(versiones)"
   ]
  },
  {
   "cell_type": "code",
   "execution_count": null,
   "metadata": {},
   "outputs": [],
   "source": [
    "versiones.clear()\n",
    "print(versiones)"
   ]
  },
  {
   "cell_type": "markdown",
   "metadata": {},
   "source": [
    "# copy()\n",
    "\n",
    "Este método devuelve una copia superficial del tipo diccionario:"
   ]
  },
  {
   "cell_type": "code",
   "execution_count": null,
   "metadata": {},
   "outputs": [],
   "source": [
    "versiones = dict(python=2.7, zope=2.13, plone=5.1)\n",
    "otra_versiones = versiones.copy()\n",
    "print(versiones == otra_versiones)"
   ]
  },
  {
   "cell_type": "code",
   "execution_count": null,
   "metadata": {},
   "outputs": [],
   "source": [
    "print(versiones)\n",
    "print(otra_versiones)"
   ]
  },
  {
   "cell_type": "markdown",
   "metadata": {},
   "source": [
    "# fromkeys()\n",
    "\n",
    "Este método crea un nuevo diccionario con claves a partir de un tipo de dato secuencia. El valor de value por defecto es el tipo None."
   ]
  },
  {
   "cell_type": "code",
   "execution_count": 3,
   "metadata": {},
   "outputs": [
    {
     "name": "stdout",
     "output_type": "stream",
     "text": [
      "Nuevo Diccionario : {'python': None, 'zope': None, 'plone': None}\n",
      "Nuevo Diccionario : {'python': None, 'zope': None, 'plone': None}\n"
     ]
    }
   ],
   "source": [
    "secuencia = ('python', 'zope', 'plone')\n",
    "versiones = dict.fromkeys(secuencia)\n",
    "print(\"Nuevo Diccionario : %s\" %  str(versiones))\n",
    "print(\"Nuevo Diccionario : {}\".format(str(versiones)))"
   ]
  },
  {
   "cell_type": "markdown",
   "metadata": {},
   "source": [
    "En el ejemplo anterior inicializa los valores de cada clave a None, mas puede inicializar un valor común por defecto para cada clave:"
   ]
  },
  {
   "cell_type": "code",
   "execution_count": null,
   "metadata": {},
   "outputs": [],
   "source": [
    "versiones = dict.fromkeys(secuencia, 0.1)\n",
    "print(\"Nuevo Diccionario : %s\" %  str(versiones))"
   ]
  },
  {
   "cell_type": "markdown",
   "metadata": {},
   "source": [
    "#  get()\n",
    "\n",
    "Este método devuelve el valor basado en la coincidencia de búsqueda en un diccionario mediante una clave, de lo contrario devuelve el objeto None."
   ]
  },
  {
   "cell_type": "code",
   "execution_count": null,
   "metadata": {},
   "outputs": [],
   "source": [
    "versiones = dict(python=2.7, zope=2.13, plone=5.1)\n",
    "versiones.get('plone')"
   ]
  },
  {
   "cell_type": "code",
   "execution_count": null,
   "metadata": {},
   "outputs": [],
   "source": [
    "print(versiones.get('php'))"
   ]
  },
  {
   "cell_type": "markdown",
   "metadata": {},
   "source": [
    "# items()\n",
    "\n",
    "Este método devuelve una lista de pares de diccionarios (clave, valor), como tuplas (después véremos que son tuplas en general)."
   ]
  },
  {
   "cell_type": "code",
   "execution_count": null,
   "metadata": {},
   "outputs": [],
   "source": [
    "versiones = dict(python=2.7, zope=2.13, plone=5.1)\n",
    "versiones.items()"
   ]
  },
  {
   "cell_type": "markdown",
   "metadata": {},
   "source": [
    "# pop()\n",
    "\n",
    "Este método remueve específicamente una clave de diccionario y devuelve valor correspondiente. Lanza una excepción KeyError si la clave no es encontrada."
   ]
  },
  {
   "cell_type": "code",
   "execution_count": null,
   "metadata": {},
   "outputs": [],
   "source": [
    "versiones = dict(python=2.7, zope=2.13, plone=5.1)\n",
    "versiones"
   ]
  },
  {
   "cell_type": "code",
   "execution_count": null,
   "metadata": {},
   "outputs": [],
   "source": [
    "print(versiones.pop('zope'))\n",
    "versiones"
   ]
  },
  {
   "cell_type": "markdown",
   "metadata": {},
   "source": [
    "# update()\n",
    "\n",
    "Este método actualiza un diccionario agregando los pares clave-valores en un segundo diccionario. Este método no devuelve nada.\n",
    "\n",
    "El método update() toma un diccionario o un objeto iterable de pares clave/valor (generalmente tuplas). Si se llama a update() sin pasar parámetros, el diccionario permanece sin cambios."
   ]
  },
  {
   "cell_type": "code",
   "execution_count": null,
   "metadata": {},
   "outputs": [],
   "source": [
    "versiones = dict(python=2.7, zope=2.13, plone=5.1)\n",
    "print(versiones)"
   ]
  },
  {
   "cell_type": "code",
   "execution_count": null,
   "metadata": {},
   "outputs": [],
   "source": [
    "versiones_adicional = dict(django=2.1)\n",
    "print(versiones_adicional)"
   ]
  },
  {
   "cell_type": "code",
   "execution_count": null,
   "metadata": {},
   "outputs": [],
   "source": [
    "versiones.update(versiones_adicional)\n",
    "print(versiones)"
   ]
  },
  {
   "cell_type": "markdown",
   "metadata": {},
   "source": [
    "Como puede apreciar este método no devuelve nada, pero si mmostramos de nuevo el diccionario usando la funcion *print* versiones puede ver que este fue actualizado con el otro diccionario versiones_adicional."
   ]
  },
  {
   "cell_type": "markdown",
   "metadata": {},
   "source": [
    "# Funciones\n",
    "Los objetos de tipo diccionario tienen disponibles una serie de funciones integradas en el interprete Python para su tratamiento, a continuación algunas de estas:"
   ]
  },
  {
   "cell_type": "markdown",
   "metadata": {},
   "source": [
    "# len()\n",
    "\n",
    "Esta función cuenta el numero de llaves de primer nivel de nuestro diccionario"
   ]
  },
  {
   "cell_type": "code",
   "execution_count": null,
   "metadata": {},
   "outputs": [],
   "source": [
    "versiones = dict(python=2.7, zope=2.13, plone=5.1)\n",
    "len(versiones)"
   ]
  },
  {
   "cell_type": "code",
   "execution_count": null,
   "metadata": {},
   "outputs": [],
   "source": [
    "usuario = {\n",
    "    'nombre': 'Nombre del usuario',\n",
    "    'edad' : 23, \n",
    "    'curso': 'Curso de Python',\n",
    "    'skills':{\n",
    "        'programacion' : True,\n",
    "        'base_de_datos': False\n",
    "    },\n",
    "    'No medallas' : 10\n",
    "}\n",
    "\n",
    "print(len(usuario))"
   ]
  },
  {
   "cell_type": "markdown",
   "metadata": {},
   "source": [
    "# Sentencias\n",
    "\n",
    "Los objetos de tipo diccionario tienen disponibles una serie de sentencias integradas en el interprete Python para su tratamiento, a continuación algunas de estas:\n",
    "\n",
    "# del\n",
    "\n",
    "Elimina una clave y su valor del diccionario si logra encontrar la clave dentro del diccionario."
   ]
  },
  {
   "cell_type": "code",
   "execution_count": 3,
   "metadata": {},
   "outputs": [
    {
     "name": "stdout",
     "output_type": "stream",
     "text": [
      "{'python': 2.7, 'zope': 2.13, 'plone': 5.1, 'django': 2.1}\n"
     ]
    }
   ],
   "source": [
    "versiones = dict(python=2.7, zope=2.13, plone=5.1, django=2.1)\n",
    "print(versiones)"
   ]
  },
  {
   "cell_type": "code",
   "execution_count": 4,
   "metadata": {},
   "outputs": [
    {
     "name": "stdout",
     "output_type": "stream",
     "text": [
      "{'zope': 2.13, 'plone': 5.1, 'django': 2.1}\n"
     ]
    }
   ],
   "source": [
    "del versiones[\"python\"]\n",
    "print(versiones)"
   ]
  },
  {
   "cell_type": "markdown",
   "metadata": {},
   "source": [
    "# Ejercicio \n",
    "\n",
    "Tenemos los siguientes diccionarios"
   ]
  },
  {
   "cell_type": "code",
   "execution_count": null,
   "metadata": {},
   "outputs": [],
   "source": [
    "Estudiantes = {  'Alumno1': {'nombre':'Daniel', 'edad':11, 'estatura':1.75, 'grado':'Master'},\n",
    "                 'Alumno2':{'nombre':'David', 'edad':32, 'estatura':1.85, 'grado':'Doctor'}   }\n",
    "\n",
    "print(Estudiantes)"
   ]
  },
  {
   "cell_type": "markdown",
   "metadata": {},
   "source": [
    "Comparemos los nombres de los estudiantes"
   ]
  },
  {
   "cell_type": "code",
   "execution_count": null,
   "metadata": {},
   "outputs": [],
   "source": [
    "if Estudiantes['Alumno1']['nombre'] == Estudiantes['Alumno2']['nombre']:\n",
    "    print(\"Los nombres son iguales\")\n",
    "else:\n",
    "    print('Los nombres son diferentes')"
   ]
  },
  {
   "cell_type": "markdown",
   "metadata": {},
   "source": [
    "Miremos quien es mayor "
   ]
  },
  {
   "cell_type": "code",
   "execution_count": null,
   "metadata": {},
   "outputs": [],
   "source": [
    "if Informacion['Alumno1']['edad'] > Informacion['Alumno2']['edad']:\n",
    "    \n",
    "    print(str(Informacion['Alumno1']['nombre']) + ' es mayor') \n",
    "    mayor = {'nombremayor':Informacion['Alumno1']['nombre'], 'edadmayor':Informacion['Alumno1']['edad'] }\n",
    "    \n",
    "elif Informacion['Alumno1']['edad'] < Informacion['Alumno2']['edad']:\n",
    "    \n",
    "    print(str(Informacion['Alumno1']['nombre']) + ' es menor') \n",
    "    \n",
    "    mayor = {'nombremayor':Informacion['Alumno2']['nombre'], 'edadmayor':Informacion['Alumno2']['edad'] }"
   ]
  },
  {
   "cell_type": "code",
   "execution_count": null,
   "metadata": {},
   "outputs": [],
   "source": [
    "print(mayor)"
   ]
  },
  {
   "cell_type": "markdown",
   "metadata": {},
   "source": [
    "# Ejemplo Cine Ukumarí\n",
    "\n",
    "Tres mejores amigos están en el autocine. En Autocinema Ukumarí, han patentado un sistema de servicio de gaseosas por botones, en el que se puede servir una cantidad predeterminada de gaseosa según el botón presionado. Cada uno de ellos tiene un vaso con una capacidad dada, y ya han llenado un cierto nivel del vaso. Como son mejores amigos, ellos quieren oprimir el mismo siguiente botón para servirse una cantidad fija de gaseosa en sus respectivos vasos. No obstante, no quieren que se les riegue la gaseosa, porque consideran que sería un desperdicio.\n",
    "\n",
    "Dadas la capacidad máxima de cada uno de los vasos, así como su capacidad actual, y el usuario al que pertenecen, escriba una función que determine el nombre de la persona a la que se le regaría algo de gaseosa, si se sirve la capacidad fija dada. Si a ninguno se le riega la gaseosa, retorne None. Si se le riega la gaseosa a más de uno, retorne el primero en orden de parámetros pasados a la función (es decir, primero llena el amigo_1, luego el 2, luego el 3).\n",
    "\n",
    "Nombre de la función:\tdesperdicio_de_gaseosa\n",
    "\n",
    "Parámetros\n",
    "\n",
    "Nombre|\tTipo|\tDescripción\n",
    "----|----|----\n",
    "amigo_1|\tdict|\tUn diccionario con las siguientes llaves: \"nombre\", el nombre del amigo, (str) \"capacidad_vaso\", la capacidad máxima de su vaso, (float) \"capacidad_actual\", la capacidad que ha sido llenada de su vaso hasta el momento (float)\n",
    "amigo_2|\tdict|\tUn diccionario con las siguientes llaves: \"nombre\", el nombre del amigo, (str) \"capacidad_vaso\", la capacidad máxima de su vaso, (float) \"capacidad_actual\", la capacidad que ha sido llenada de su vaso hasta el momento (float)\n",
    "amigo_3|\tdict|\tUn diccionario con las siguientes llaves: \"nombre\", el nombre del amigo, (str) \"capacidad_vaso\", la capacidad máxima de su vaso, (float) \"capacidad_actual\", la capacidad que ha sido llenada de su vaso hasta el momento (float)\n",
    "capacidad_boton|\tfloat|\tLa cantidad de gaseosa que se servirá si los amigos deciden oprimir el botón correspondiente.\n",
    "\n",
    "\n",
    "Tipo del retorno|\tDescipción del retorno\n",
    "----|----\n",
    "str|\tEl nombre del amigo a quien se le riega primero la gaseosa, suponiendo un orden ascendente en cuanto a que amigo llena primero su vaso. (Es decir, primero llena el amigo_1, luego el 2, luego el 3) Si a ningun amigo se le riega la gaseosa, retorne None. Si a más de un amigo se le riega la gaseosa, retorna el primero."
   ]
  }
 ],
 "metadata": {
  "kernelspec": {
   "display_name": "Python 3 (ipykernel)",
   "language": "python",
   "name": "python3"
  },
  "language_info": {
   "codemirror_mode": {
    "name": "ipython",
    "version": 3
   },
   "file_extension": ".py",
   "mimetype": "text/x-python",
   "name": "python",
   "nbconvert_exporter": "python",
   "pygments_lexer": "ipython3",
   "version": "3.11.3"
  }
 },
 "nbformat": 4,
 "nbformat_minor": 4
}

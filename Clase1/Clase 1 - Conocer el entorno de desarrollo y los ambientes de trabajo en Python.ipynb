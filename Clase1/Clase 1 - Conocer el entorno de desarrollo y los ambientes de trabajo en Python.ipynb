{
 "cells": [
  {
   "cell_type": "markdown",
   "metadata": {},
   "source": [
    "# ¿Qué es la programación de computadores?\n",
    "\n",
    "<br>\n",
    "La programación de computadores es la acción de escribir un conjunto instrucciones (un programa) para que un computador las ejecute. Por ejemplo, la siguiente línea de código es el primer programa que la mayoría de programadores escribe y cuando alguien decide ejecutar (o correr) este programa, el computador va a mostrar en la pantalla un mensaje que dice \"Hola Mundo\":"
   ]
  },
  {
   "cell_type": "code",
   "execution_count": 31,
   "metadata": {},
   "outputs": [
    {
     "name": "stdout",
     "output_type": "stream",
     "text": [
      "Hola mundo\n"
     ]
    }
   ],
   "source": [
    "print(\"Hola mundo\")"
   ]
  },
  {
   "cell_type": "markdown",
   "metadata": {},
   "source": [
    "Esta línea de codigo (programa) nos permite ilustrar varias ideas importantes. \n",
    "1. El programa se escribió usando el lenguaje de programación Python. \n",
    "2. Así como en español tenemos reglas de gramática y un conjunto de palabras para combinar (vocabulario), un lenguaje de programación tiene reglas de sintaxis\n",
    "3. Las reglas de sintaxis son una colección de librerías con programas que se pueden reutilizar (el vocabulario) y unas herramientas que permiten ejecutar los programas que se escriban con ese lenguaje. \n",
    "4. En nuestro ejemplo, estamos siguiendo las reglas de sintaxis de Python, usamos una función llamada print y ejecutaremos el programa usando el intérprete 1 de Python 2."
   ]
  },
  {
   "cell_type": "markdown",
   "metadata": {},
   "source": [
    "La programación de computadores no es en sí misma una actividad difícil, pero sí es una actividad compleja que involucra varios elementos y habilidades complementarias. La más importante posiblemente sea la habilidad para resolver problemas, que en realidad es una combinación de otras habilidades como comprensión de lectura, abstracción, descomposición, razonamiento abstracto y creatividad. Con esto queremos decir que, para programar, es necesario ser capaz de resolver problemas independientemente de que haya tecnología y computadores involucrados."
   ]
  },
  {
   "cell_type": "markdown",
   "metadata": {},
   "source": [
    "El pensamiento algorítmico es un componente para resaltar. Este hace referencia a una cierta forma de aproximarse a la resolución de problemas. El término algoritmo hace referencia a las instrucciones para resolver un determinado problema. Un ejemplo común de algoritmo son las instrucciones para fritar un huevo, o las instrucciones que se encuentran en el envase de un Shampoo. Pensamiento algorítmico hace referencia a la habilidad para describir cómo se debe llegar a la solución de un problema en términos de una serie de instrucciones que alguien más pueda repetir."
   ]
  },
  {
   "cell_type": "markdown",
   "metadata": {},
   "source": [
    "<img src=\"https://encrypted-tbn0.gstatic.com/images?q=tbn%3AANd9GcSNfZWMJA8Xg9Q-ER1E7iLkSX3p-IZ0ksJYCg&usqp=CAU\">\n",
    "\n",
    "¿Qué instrucciones utilizaríamos?\n",
    "\n",
    "Por ejemplo..."
   ]
  },
  {
   "cell_type": "markdown",
   "metadata": {},
   "source": [
    "# Programar requiere"
   ]
  },
  {
   "cell_type": "markdown",
   "metadata": {},
   "source": [
    "- Conocer al menos un lenguaje de programación para poder escribir las instrucciones para el computador.\n",
    "- Una buena disposición hacia la tecnología y hacia el auto-aprendizaje."
   ]
  },
  {
   "cell_type": "markdown",
   "metadata": {},
   "source": [
    "## Actitud y compromiso"
   ]
  },
  {
   "cell_type": "markdown",
   "metadata": {},
   "source": [
    "Aprender un lenguaje de programación es la parte más sencilla de todo el proceso, pero es la que fácilmente se confunde con la parte central de aprender a programar. Es análogo pensar que para pintar al óleo lo más importante es aprender los nombres de los colores y conocer la técnica para usar los pinceles: seguramente alguien que no tenga esos conocimientos básicos encontrará dificultades para pintar, pero con seguridad otras habilidades y actitudes son más importantes para producir verdaderas obras de arte.\n",
    "\n",
    "Con una adecuada actitud y compromiso cualquiera puede aprender a programar. Los estudiantes que se aproximan a la programación esperando cumplir con un requisito, sin ver el enorme potencial que podría tener para su desempeño profesional, usualmente tienen menos éxito que aquellos que tienen una mente abierta y curiosa y que se enfrenten a cada reto esperando aprender algo de él.\n",
    "\n",
    "Además de esto, se sabe que los estudiantes que realizan las siguientes 3 acciones usualmente tienen mucho más éxito en su proceso de aprendizaje, disfrutan más la experiencia y siguen aprendiendo a programar más allá de su primer curso.\n",
    "\n",
    "### 1. Leer con atención\n",
    "\n",
    "Para poder programar es necesario leer con atención todo lo relacionado con el problema que se esté solucionando. Es casi imposible construir una buena solución si no se han leído con cuidado las condiciones de lo que se está pidiendo ni las restricciones para la solución.\n",
    "\n",
    "Muchas veces los problemas a los que se enfrentan los estudiantes que empiezan a programar no tienen que ver con la programación en sí misma, sino que tienen que ver con que el estudiante no entendió el problema que tenía que resolver.\n",
    "\n",
    "¡Nunca empiece a programar sin entender antes lo que le están preguntando!\n",
    "\n",
    "\n",
    "### 2. Práctica\n",
    "\n",
    "Al igual que cualquier otra actividad basada en habilidades, programar requiere practicar. Así como no se puede aprender a tocar violín o a montar bicicleta leyendo todos los libros disponibles sobre el tema, para aprender a programar se necesita practicar programando.\n",
    "\n",
    "### 3. Lectura de código\n",
    "\n",
    "Al igual que un pintor no podría pintar sus propias obras sin haber visto las de otros, o un escritor no podría escribir una novela sin haber leído las de muchos otros, para escribir programas es necesario poder leer programas escritos por otros. Sin embargo, no se trata de hacer una lectura superficial, sino de hacer una lectura cuidadosa que nos permita identificar las características y objetivos de cada uno y nos permita confrontar nuestras propias dudas y vacíos en nuestro conocimiento."
   ]
  },
  {
   "cell_type": "markdown",
   "metadata": {},
   "source": [
    "# Python"
   ]
  },
  {
   "cell_type": "markdown",
   "metadata": {},
   "source": [
    "Python es uno de miles de lenguajes de programación existentes en el mundo. Es posible que usted haya escuchado hablar o haya usado alguno de los siguientes: C, C++, Java, Kotlin, Scala, JavaScript, TypeScript, C#, PHP, Ruby, Visual Basic, Pascal, Basic, Logo, Cobol, Fortran, LISP. Además, hay ambientes de trabajo especializados que tienen sus propios lenguajes de programación, como R (para estadística), MathLab (para aplicaciones científicas) o Swift (para aplicaciones en iOS y MacOS)."
   ]
  },
  {
   "cell_type": "markdown",
   "metadata": {},
   "source": [
    "## Pero principalmente Python\n",
    "Es uno de los lenguajes más populares, tanto por sus posibilidades como por su facilidad para aprender a programar. Python es de uso general, dinámico y de alto nivel. Es un lenguaje de programación interpretativo. Es compatible con el enfoque de programación orientada a objetos para desarrollar aplicaciones. Es simple y fácil de aprender y proporciona muchas estructuras de datos de alto nivel."
   ]
  },
  {
   "cell_type": "markdown",
   "metadata": {},
   "source": [
    "# Historia y versiones de Python\n",
    "\n",
    "- Python sentó sus bases a fines de la década de 1980.\n",
    "- La implementación de Python se inició en diciembre de 1989 por Guido Van Rossum en CWI en Holanda.\n",
    "- En febrero de 1991, Guido Van Rossum publicó el código (etiquetado como versión 0.9.0) en alt.sources.\n",
    "- En 1994, se lanzó Python 1.0 con nuevas características como lambda, mapa, filtro y reducción.\n",
    "- Python 2.0 agregó nuevas características como listas por comprensión, sistemas de recolección de basura.\n",
    "- El 3 de diciembre de 2008, se lanzó Python 3.0 (también llamado \"Py3K\"). Fue diseñado para rectificar el defecto fundamental del idioma.\n",
    "- Se dice que el lenguaje de programación ABC es el predecesor del lenguaje Python, que era capaz de manejar excepciones e interactuar con el sistema operativo Amoeba."
   ]
  },
  {
   "cell_type": "markdown",
   "metadata": {},
   "source": [
    "# Python para la vida "
   ]
  },
  {
   "cell_type": "markdown",
   "metadata": {},
   "source": [
    "Python es conocido por su naturaleza de propósito general que lo hace aplicable en casi todos los dominios del desarrollo de software. Python hace su presencia en todos los campos emergentes. Es el lenguaje de programación de más rápido crecimiento y puede desarrollar cualquier aplicación.\n",
    "\n",
    "Aquí, estamos especificando áreas de aplicación donde se puede aplicar Python.\n"
   ]
  },
  {
   "cell_type": "markdown",
   "metadata": {},
   "source": [
    "<img src=\"https://static.javatpoint.com/python/images/python-applications.png\">\n",
    "\n",
    "- Aplicaciones web\n",
    "- Aplicaciones GUI de escritorio\n",
    "- Aplicación basada en consola\n",
    "- Desarrollo de software\n",
    "- Científico y numérico\n",
    "- Aplicaciones comerciales\n",
    "- Aplicaciones basadas en audio o video\n",
    "- Aplicaciones CAD 3D\n",
    "- Aplicaciones empresariales\n",
    "- Aplicación de procesamiento de imágenes"
   ]
  },
  {
   "cell_type": "markdown",
   "metadata": {},
   "source": [
    "# Vamos a instalar Anaconda!!!"
   ]
  },
  {
   "cell_type": "markdown",
   "metadata": {},
   "source": [
    "<img src=\"https://assets-cdn.anaconda.com/assets/_1200x630_fit_center-center_82_none/anaconda-meta.jpg?mtime=20200506175707&focal=none&tmtime=20200616170545\">\n",
    "    "
   ]
  },
  {
   "cell_type": "markdown",
   "metadata": {},
   "source": [
    "Link de descarga https://anaconda.org/"
   ]
  }
 ],
 "metadata": {
  "kernelspec": {
   "display_name": "Python 3 (ipykernel)",
   "language": "python",
   "name": "python3"
  },
  "language_info": {
   "codemirror_mode": {
    "name": "ipython",
    "version": 3
   },
   "file_extension": ".py",
   "mimetype": "text/x-python",
   "name": "python",
   "nbconvert_exporter": "python",
   "pygments_lexer": "ipython3",
   "version": "3.10.9"
  }
 },
 "nbformat": 4,
 "nbformat_minor": 2
}

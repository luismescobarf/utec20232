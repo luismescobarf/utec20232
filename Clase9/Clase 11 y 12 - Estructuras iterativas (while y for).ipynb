{
 "cells": [
  {
   "cell_type": "markdown",
   "metadata": {},
   "source": [
    "# Estructura Cíclicas\n",
    "\n",
    "En este nivel se presentan los conceptos necesarios para que un conjunto de instrucciones se ejecute varias veces dependiendo de alguna condición o de los datos que proporcione el usuario.\n",
    "\n",
    "Hasta el momento los programas que hemos construido ejecutan cada instrucción una única vez, a menos que se encuentren dentro de funciones que se llamen varias veces. El problema es que desde que se escriba el programa también va a quedar establecida la cantidad de veces que se llame cada función.\n",
    "\n",
    "Este problema puede solucionarse a través del uso de instrucciones iterativas, las cuales nos permiten expresar cuántas veces tiene que ejecutarse una instrucción sin tener que escribirla muchas veces. Más aún, la cantidad no tendría que estar definida a priori sino que se le podría preguntar al usuario o podría depender de una condición que se revise dentro del programa.\n",
    "\n",
    "En esta sección vamos a introducir el concepto de instrucciones iterativas y vamos a explicar cómo se implementan en Python usaremos las instrucciones **while** y **for**. "
   ]
  },
  {
   "cell_type": "markdown",
   "metadata": {},
   "source": [
    "# Actualizando las variables\n",
    "\n",
    "Un patrón común en las declaraciones de asignación es una declaración de asignación que actualiza una variable, donde el nuevo valor de la variable depende del antiguo. "
   ]
  },
  {
   "cell_type": "code",
   "execution_count": null,
   "metadata": {},
   "outputs": [],
   "source": [
    "x=0\n",
    "x = x + 1\n",
    "print(x)"
   ]
  },
  {
   "cell_type": "markdown",
   "metadata": {},
   "source": [
    "Esto significa \"obtener el valor actual de x, añadir 1, y luego actualizar x con el nuevo valor\".\n",
    "\n",
    "Si intentas actualizar una variable que no existe, obtienes un error, porque Python evalúa el lado derecho antes de asignar un valor a x:"
   ]
  },
  {
   "cell_type": "code",
   "execution_count": null,
   "metadata": {},
   "outputs": [],
   "source": [
    "x = x + 1"
   ]
  },
  {
   "cell_type": "markdown",
   "metadata": {},
   "source": [
    "Antes de que puedas actualizar una variable, tienes que inicializarla, normalmente con una simple asignación: "
   ]
  },
  {
   "cell_type": "code",
   "execution_count": null,
   "metadata": {},
   "outputs": [],
   "source": [
    "x = 0\n",
    "x = x + 1\n",
    "print(x)"
   ]
  },
  {
   "cell_type": "markdown",
   "metadata": {},
   "source": [
    "Actualizar una variable añadiendo 1 se llama un incremento; restar 1 se llama un decremento. "
   ]
  },
  {
   "cell_type": "code",
   "execution_count": null,
   "metadata": {},
   "outputs": [],
   "source": [
    "y = 10\n",
    "y = y-1\n",
    "\n",
    "print(y)"
   ]
  },
  {
   "cell_type": "markdown",
   "metadata": {},
   "source": [
    "# El ciclo While"
   ]
  },
  {
   "cell_type": "markdown",
   "metadata": {},
   "source": [
    "Las computadoras se utilizan a menudo para realizar tareas repetitivas. Repetir tareas idénticas o similares sin cometer errores es algo que los ordenadores hacen bien y la gente lo hace mal. Debido a que la iteración es tan común, Python proporciona varias características de lenguaje para hacerlo más fácil. \n",
    "\n",
    "En Python, así como en muchos otros lenguajes, la base de las instrucciones iterativas es una expresión como la siguiente: “mientras que X sea cierto, haga Y”. En inglés, esto se traduciría como “while X, do Y”. Por esto, la instrucción fundamental para expresar iteraciones en Python y en muchos lenguajes se llama while.\n",
    "\n",
    "Así como un if define una estructura en la cual se tiene que tener como mínimo una condición y un cuerpo, en el caso del while ocurre algo similar: se requiere una condición (la X en la expresión anterior) y un cuerpo (la Y). La principal diferencia con un if es que la condición se va a evaluar muchas veces y que el cuerpo se va a ejecutar cada vez que la condición sea verdadera. Observemos esto en un ejemplo:"
   ]
  },
  {
   "cell_type": "code",
   "execution_count": null,
   "metadata": {},
   "outputs": [],
   "source": [
    "n = 5\n",
    "while n > 0:\n",
    "    print(n)\n",
    "    n = n - 1\n",
    "print('Despegue!')\n",
    "x= input()"
   ]
  },
  {
   "cell_type": "markdown",
   "metadata": {},
   "source": [
    "Lo primero que encontramos en este código es que vamos a crear una nueva variable llamada n y la vamos a inicializar en 5. A continuación inicia un bloque while, donde la condición es n > 0. Esto quiere decir que el cuerpo del while (todo lo que está indentado después de :) se va a ejecutar varias veces, hasta que la condición deje de ser verdadera. Esta condición se evaluará antes de la primera vez que se ejecute el cuerpo y se volverá a evaluar después de cada ejecución del cuerpo. El cuerpo de este while tiene sólo dos instrucciones: la primer imprime en la consola el valor actual de la variable n mientras que la segunda reduce el valor de n en uno. La última instrucción del ejemplo imprime la cadena '¡Despegue!' en la consola.\n",
    "\n",
    "Más formalmente, aquí está el flujo de ejecución de la declaración while:\n",
    "\n",
    "1. Evalúa la condición, dando Verdadero o Falso.\n",
    "2. Si la condición es falsa, salga de la declaración while y continúe la ejecución en la siguiente declaración.\n",
    "3. Si la condición es verdadera, ejecute el cuerpo y luego vuelva al paso 1. \n",
    "\n",
    "Este tipo de flujo se llama bucle porque el tercer paso vuelve hacia la parte superior. Llamamos cada vez que ejecutamos el cuerpo del bucle una iteración. Para el bucle anterior, diríamos: \"Tenía cinco iteraciones\", lo que significa que el cuerpo del bucle se ejecutó cinco veces.\n",
    "\n",
    "El cuerpo del bucle debe cambiar el valor de una o más variables para que eventualmente la condición se vuelva falsa y el bucle termine. Llamamos variable de iteración a la variable que cambia cada vez que el bucle se ejecuta y controla cuando el bucle termina. Si no hay una variable de iteración, el bucle se repetirá para siempre, resultando en un bucle infinito. "
   ]
  },
  {
   "cell_type": "markdown",
   "metadata": {},
   "source": [
    "# Elementos de un while\n",
    "\n",
    "Acabamos de mostrar con un ejemplo cómo es la ejecución de un while. Ahora estudiaremos con un poco más de cuidado los diferentes elementos que se tienen que considerar cuando se construya una instrucción iterativa. Para esto usaremos la siguiente función que sirve para calcular el factorial de un número recordando que:"
   ]
  },
  {
   "cell_type": "code",
   "execution_count": null,
   "metadata": {},
   "outputs": [],
   "source": [
    "def factorial(n: int) -> int:\n",
    "    resultado = 1\n",
    "    numero_actual = 2\n",
    "    while numero_actual <= n:\n",
    "        resultado = resultado * numero_actual\n",
    "        numero_actual += 1\n",
    "    return resultado"
   ]
  },
  {
   "cell_type": "markdown",
   "metadata": {},
   "source": [
    "Esta función calcula el factorial del número n multiplicando entre ellos todos los números anteriores. El punto importante es que esto lo vamos a hacer número por número, partiendo desde el número 1 y llegando hasta el número n."
   ]
  },
  {
   "cell_type": "markdown",
   "metadata": {},
   "source": [
    "# Inicialización\n",
    "\n",
    "Aunque no es parte explícita de un while, las instrucciones que se encuentran antes son importantísimas porque realizan la inicialización del ciclo. Es decir, dejan las variables que nos interesen en el estado necesario para que se pueda ejecutar el ciclo y se obtenga el resultado esperado.\n",
    "\n",
    "En el caso de nuestra función, hay dos instrucciones que sirven para inicializar el ciclo:"
   ]
  },
  {
   "cell_type": "code",
   "execution_count": null,
   "metadata": {},
   "outputs": [],
   "source": [
    "resultado = 1\n",
    "numero_actual = 2"
   ]
  },
  {
   "cell_type": "markdown",
   "metadata": {},
   "source": [
    "La primera instrucción sirve para crear una variable donde dejaremos el resultado de nuestra función. En este caso, ese resultado será el factorial del parámetro n. La variable resultado la hemos inicializado en 1 por varios motivos que discutiremos más adelante.\n",
    "\n",
    "La segunda instrucción sirve para crear una variable que nos permitirá saber cuál es el siguiente número que tenemos que multiplicar para seguir calculando el factorial. En este caso, la variable numero_actual la inicializamos en 2 porque el resultado ya estaba inicializado en 1. Si la variable la hubiéramos inicializado en 1 no habría cambiado nuestro programa, pero habría hecho una iteración más en el que habría multiplicado 1*1."
   ]
  },
  {
   "cell_type": "markdown",
   "metadata": {},
   "source": [
    "# Condición del ciclo\n",
    "\n",
    "La siguiente parte del análisis de nuestra función se concentra en la condición del while. Debemos recordar que cuando la condición de un while sea verdadera, el cuerpo del ciclo deberá ejecutarse. Si lo vemos desde el punto de vista opuesto, el cuerpo del ciclo tendrá que ejecutarse hasta que la condición sea falsa.\n",
    "\n",
    "Las dos perspectivas son equivalentes pero, dependiendo del problema, es posible que una de las dos perspectiva sea más fácil de entender. La recomendación que podemos hacer es utilizar nombres de variables que sean muy claros, de tal forma que la condición sea fácil de leer. Por ejemplo, en el caso de nuestra función, la condición puede leerse fácilmente como “Mientras que el número actual sea menor o igual que n, se debe hacer …”."
   ]
  },
  {
   "cell_type": "code",
   "execution_count": null,
   "metadata": {},
   "outputs": [],
   "source": [
    "while numero_actual <= n:"
   ]
  },
  {
   "cell_type": "markdown",
   "metadata": {},
   "source": [
    "La misma condición también se podría haber escrito de la siguiente forma, en la cual la lectura natural sería “Mientras que el número actual no sea mayor a n, se debe hacer …”."
   ]
  },
  {
   "cell_type": "code",
   "execution_count": null,
   "metadata": {},
   "outputs": [],
   "source": [
    "while not numero_actual > n:"
   ]
  },
  {
   "cell_type": "markdown",
   "metadata": {},
   "source": [
    "# Cuerpo del ciclo\n",
    "\n",
    "Después de evaluada la condición de un while, se ejecuta una o varias veces el cuerpo del ciclo. El caso de nuestra función, el cuerpo tiene dos instrucciones:"
   ]
  },
  {
   "cell_type": "code",
   "execution_count": null,
   "metadata": {},
   "outputs": [],
   "source": [
    "resultado = resultado * numero_actual\n",
    "numero_actual = numero_actual + 1"
   ]
  },
  {
   "cell_type": "markdown",
   "metadata": {},
   "source": [
    "La primera instrucción es la que se encarga de ir acumulando en la variable resultado el valor del factorial del número. Para esto, la instrucción toma el valor que se había acumulado hasta el momento, lo multiplica por el número actual y vuelve a guardarlo en resultado. La segunda instrucción se encarga de ir incrementando de uno en uno el valor de numero_actual.\n",
    "\n",
    "La siguiente tabla muestra cómo va cambiando el valor de resultado y de numero_actual a medida que se ejecuta el ciclo:\n",
    "\n",
    "resultado | nnumero_actual | Valor calculado en resultado |\n",
    "---- | ---- | ---- |\n",
    "1 | 2 | 1! |\n",
    "2 | 3 | 2! |\n",
    "6 | 4 | 3! |\n",
    "24 | 5 | 4! |\n",
    "120 | 6 | 5! |\n",
    "720 | 7 | 6! |"
   ]
  },
  {
   "cell_type": "markdown",
   "metadata": {},
   "source": [
    "Antes de la primera ejecución, el valor de resultado es 1 y el valor de numero_actual es 2, como se determinó en la inicialización. Eso quiere decir que el valor de resultado es equivalente al valor de 1! y que el siguiente número por el que debería multiplicarse es 2.\n",
    "\n",
    "Después de la primera ejecución del ciclo, el valor de resultado se modifica para que sea 2, y el valor de numero_actual se incrementa en uno. Esto quiere decir que ahora el valor de resultado es equivalente al valor de 2!.\n",
    "\n",
    "En la siguiente iteración el valor de resultado se multiplica por 3 y y el valor de numero_actual llega a 4. Como ahora el valor de resultado es 6, quiere decir que es equivalente a 3!.\n",
    "\n",
    "El proceso continua hasta que numero_actual es mayor a n. Por ejemplo, si n fuera 6, entonces en la última iteración resultado se multiplicaría por 6 quedando con un valor equivalente al de 6! y numero_actual llegaría a 7. La siguiente vez que se revisara la condición ya no sería verdadera y el ciclo terminaría.\n",
    "\n",
    "# Avance\n",
    "\n",
    "La segunda instrucción del cuerpo, numero_actual += 1, tiene el rol de avanzar el ciclo hacia su terminación. Este rol es muy importante dentro de cualquier ciclo: siempre tiene que haber una o varias instrucciones que hagan que con cada iteración el ciclo esté más cerca de terminar. Si no se cumpliera esto, el ciclo nunca terminaría.\n",
    "\n",
    "En nuestra función para el cálculo del factorial, con cada iteración aumentamos en uno el valor de numero_actual, con lo cual nos aseguramos que eventualmente este número sea mayor a n y el ciclo termine. En el caso del contador para el despegue, vamos reduciendo el valor de contador haciendo que eventualmente se vuelva falsa la condición del ciclo: contador > 0.\n",
    "\n",
    "\n",
    "# Problema con el avance\n",
    "\n",
    "En los dos ejemplos que hemos estudiado identificar el avance fue relativamente fácil. Más adelante en esta sección estudiaremos algunos programas donde no es tan fácil ver que el ciclo se está acerca acercando a la terminación. Por ahora veamos unos ejemplos de programas con problemas y que resultarán en ciclos infinitos.\n",
    "\n",
    "# Alejarse de terminación"
   ]
  },
  {
   "cell_type": "code",
   "execution_count": 2,
   "metadata": {},
   "outputs": [
    {
     "name": "stdout",
     "output_type": "stream",
     "text": [
      "10\n",
      "9\n",
      "8\n",
      "7\n",
      "6\n",
      "5\n",
      "4\n",
      "3\n",
      "2\n",
      "1\n",
      "Terminé\n"
     ]
    }
   ],
   "source": [
    "i = 10\n",
    "while i > 0:\n",
    "    print(i)\n",
    "    i = i- 1\n",
    "print(\"Terminé\")"
   ]
  },
  {
   "cell_type": "markdown",
   "metadata": {},
   "source": [
    "Este primer programa nunca termina porque el valor de i siempre es mayor a 0."
   ]
  },
  {
   "cell_type": "markdown",
   "metadata": {},
   "source": [
    "# Brincarse la meta"
   ]
  },
  {
   "cell_type": "code",
   "execution_count": null,
   "metadata": {},
   "outputs": [],
   "source": [
    "# le toca oprimir el boton de pausa sino el sigue dandole\n",
    "\n",
    "i = 1\n",
    "while i!=10:\n",
    "    print(i)\n",
    "    i = i+ 2\n",
    "print(\"Terminé\")  "
   ]
  },
  {
   "cell_type": "markdown",
   "metadata": {},
   "source": [
    "Este programa tampoco termina porque i siempre va a ser diferente que 10. El problema acá es que estamos incrementando i de dos en dos, pero empezando en 1. Esto quiere decir que i sólo va a asumir valores impares. Una forma fácil de solucionar este problema habría sido cambiar la condición para que fuera i < 10."
   ]
  },
  {
   "cell_type": "markdown",
   "metadata": {},
   "source": [
    "# Problemas de indentación"
   ]
  },
  {
   "cell_type": "code",
   "execution_count": 4,
   "metadata": {},
   "outputs": [
    {
     "name": "stdout",
     "output_type": "stream",
     "text": [
      "1\n",
      "2\n",
      "3\n",
      "4\n",
      "5\n",
      "6\n",
      "7\n",
      "8\n",
      "9\n",
      "Terminé\n"
     ]
    }
   ],
   "source": [
    "i = 1\n",
    "while i < 10:\n",
    "    print(i)\n",
    "    i = i + 1\n",
    "print(\"Terminé\") #aqui tambien le toca hacer lo mismo"
   ]
  },
  {
   "cell_type": "markdown",
   "metadata": {},
   "source": [
    "Aunque este programa tiene todas las instrucciones que se esperarían, tampoco terminará nunca su ejecución. El problema acá es que el avance no está dentro del ciclo: la variable i siempre va a tener el valor 1 porque el único lugar donde se cambia es inmediatamente después del ciclo."
   ]
  },
  {
   "cell_type": "markdown",
   "metadata": {},
   "source": [
    "# Olvidar el avance"
   ]
  },
  {
   "cell_type": "code",
   "execution_count": 5,
   "metadata": {},
   "outputs": [
    {
     "name": "stdout",
     "output_type": "stream",
     "text": [
      "1\n",
      "3\n",
      "5\n",
      "7\n",
      "9\n",
      "Terminé\n"
     ]
    }
   ],
   "source": [
    "i = 1\n",
    "while i < 10:\n",
    "    print(i)\n",
    "    i=i+2\n",
    "print(\"Terminé\")"
   ]
  },
  {
   "cell_type": "markdown",
   "metadata": {},
   "source": [
    "Aunque es muy sencillo, este programa ilustra el problema que se presenta más frecuentemente cuando se trabaja con ciclos: olvidar el avance. Como en este caso i nunca cambia de valor, el ciclo no se acerca a terminación a medida que se ejecuta."
   ]
  },
  {
   "cell_type": "markdown",
   "metadata": {},
   "source": [
    "# Bucle ‘while’ controlado por Evento\n",
    "\n",
    "A continuación, se presenta un ejemplo del uso del bucle while controlado por Evento:"
   ]
  },
  {
   "cell_type": "code",
   "execution_count": 7,
   "metadata": {},
   "outputs": [
    {
     "name": "stdout",
     "output_type": "stream",
     "text": [
      "Introduzca la nota de un estudiante (-1 para salir): \n",
      "5\n",
      "Introduzca la nota de un estudiante (-1 para salir): \n",
      "4\n",
      "Introduzca la nota de un estudiante (-1 para salir): \n",
      "3\n",
      "Introduzca la nota de un estudiante (-1 para salir): \n",
      "-1\n",
      "Promedio de notas del grado escolar es: 4.0\n"
     ]
    }
   ],
   "source": [
    "promedio, total, contar = 0.0, 0, 0\n",
    "\n",
    "print(\"Introduzca la nota de un estudiante (-1 para salir): \")\n",
    "grado = int(input())\n",
    "while grado != -1:\n",
    "    total = total + grado\n",
    "    contar = contar + 1\n",
    "    print(\"Introduzca la nota de un estudiante (-1 para salir): \")\n",
    "    grado = int(input())\n",
    "promedio = total / contar\n",
    "print(\"Promedio de notas del grado escolar es: \" + str(promedio))"
   ]
  },
  {
   "cell_type": "markdown",
   "metadata": {},
   "source": [
    "En este casi el evento que se dispara cuando el usuario ingresa el valor -1, causando que el bucle while se interrumpo o no se inicie."
   ]
  },
  {
   "cell_type": "markdown",
   "metadata": {},
   "source": [
    "# Bucle ‘while’ con ‘else’\n",
    "\n",
    "Al igual que la sentencia if, la estructura while también puede combinarse con una sentencia else).\n",
    "\n",
    "El nombre de la sentencia else es equivocada, ya que el bloque else se ejecutará en todos los casos, es decir, cuando la expresión condicional del while sea False, (a comparación de la sentencia if)."
   ]
  },
  {
   "cell_type": "code",
   "execution_count": null,
   "metadata": {},
   "outputs": [],
   "source": [
    "promedio, total, contar = 0.0, 0, 0\n",
    "mensaje = \"Introduzca la nota de un estudiante (-1 para salir): \"\n",
    "\n",
    "grado = int(input(mensaje))\n",
    "while grado != -1:\n",
    "    total = total + grado\n",
    "    contar += 1\n",
    "    grado = int(input(mensaje))\n",
    "else:\n",
    "    promedio = total / contar\n",
    "    print(\"Promedio de notas del grado escolar: \" + str(promedio))"
   ]
  },
  {
   "cell_type": "markdown",
   "metadata": {},
   "source": [
    "La sentencia else tiene la ventaja de mantener el mismo nombre y la misma sintaxis que en las demás estructuras de control."
   ]
  },
  {
   "cell_type": "markdown",
   "metadata": {},
   "source": [
    "# Ejemplo Numero Primo mas cercano a partir de un numero m"
   ]
  },
  {
   "cell_type": "code",
   "execution_count": null,
   "metadata": {},
   "outputs": [],
   "source": [
    "def esPrimo(n)->bool:\n",
    "    i=1\n",
    "    numeroDivisores = 0\n",
    "    while (i<=n):\n",
    "        if n % i == 0:\n",
    "            numeroDivisores = numeroDivisores +1\n",
    "        i = i + 1\n",
    "    if numeroDivisores == 2:\n",
    "        resultado = True\n",
    "    else:\n",
    "        resultado = False\n",
    "    return resultado\n",
    "\n",
    "def PrimoDesde(m)->int:\n",
    "    numero = m\n",
    "    while not(esPrimo(numero)):\n",
    "        numero = numero + 1\n",
    "    return numero\n",
    "\n",
    "print(PrimoDesde(0))\n",
    "print(PrimoDesde(14))\n",
    "print(PrimoDesde(30))\n",
    "print(PrimoDesde(57))\n",
    "print(PrimoDesde(510011))\n",
    "print(PrimoDesde(7))"
   ]
  },
  {
   "cell_type": "markdown",
   "metadata": {},
   "source": [
    "# Sentencias utilitarias\n",
    "\n",
    "A continuación, se presentan algunos ejemplos del uso de sentencias utilitarias usadas en el bucle while:"
   ]
  },
  {
   "cell_type": "markdown",
   "metadata": {},
   "source": [
    "# Sentencia break\n",
    "\n",
    "A continuación, se presenta un ejemplo del uso del bucle while controlado la sentencia break:"
   ]
  },
  {
   "cell_type": "code",
   "execution_count": null,
   "metadata": {},
   "outputs": [],
   "source": [
    "variable = 10\n",
    "\n",
    "while variable > 0:\n",
    "    print('Actual valor de variable:', variable)\n",
    "    variable = variable -1\n",
    "    if variable == 5:\n",
    "        break"
   ]
  },
  {
   "cell_type": "markdown",
   "metadata": {},
   "source": [
    "Adicionalmente existe una forma alternativa de interrumpir o cortar los ciclos utilizando la palabra reservada break.\n",
    "\n",
    "Esta nos permite salir del ciclo incluso si la expresión evaluada en while (o en otro ciclo como for) permanece siendo True. Para comprender mejor use el mismo ejemplo anterior pero se interrumpe el ciclo usando la sentencia break.\n",
    "\n",
    "# Sentencia continue\n",
    "\n",
    "A continuación, se presenta un ejemplo del uso del bucle while controlado la sentencia continue:"
   ]
  },
  {
   "cell_type": "code",
   "execution_count": 1,
   "metadata": {},
   "outputs": [
    {
     "name": "stdout",
     "output_type": "stream",
     "text": [
      "Actual valor de variable: 9\n",
      "Actual valor de variable: 8\n",
      "Actual valor de variable: 7\n",
      "Actual valor de variable: 6\n",
      "Actual valor de variable: 4\n",
      "Actual valor de variable: 3\n",
      "Actual valor de variable: 2\n",
      "Actual valor de variable: 1\n",
      "Actual valor de variable: 0\n"
     ]
    }
   ],
   "source": [
    "variable = 10\n",
    "\n",
    "while variable > 0:\n",
    "    variable = variable -1\n",
    "    if variable == 5:\n",
    "        continue\n",
    "    print('Actual valor de variable:', variable) # no imprime el 5"
   ]
  },
  {
   "cell_type": "markdown",
   "metadata": {},
   "source": [
    "La sentencia continue hace que pase de nuevo al principio del bucle aunque no se haya terminado de ejecutar el ciclo anterior.\n",
    "\n",
    "# Ejemplos\n",
    "\n",
    "# Sucesión de Fibonacci\n",
    "\n",
    "Ejemplo de la Sucesión de Fibonacci con bucle while:"
   ]
  },
  {
   "cell_type": "code",
   "execution_count": null,
   "metadata": {},
   "outputs": [],
   "source": [
    "a, b = 0, 1\n",
    "while b < 100:\n",
    "    print b,\n",
    "    a, b = b, a + b"
   ]
  },
  {
   "cell_type": "markdown",
   "metadata": {},
   "source": [
    "# Los ciclos for\n",
    "\n",
    "La sentencia for en Python difiere un poco de lo que uno puede estar acostumbrado en lenguajes como C o Pascal. En lugar de siempre iterar sobre una progresión aritmética de números (como en Pascal) o darle al usuario la posibilidad de definir tanto el paso de la iteración como la condición de fin (como en C), la sentencia for de Python itera sobre los ítems de cualquier secuencia (una lista o una cadenas de caracteres), en el orden que aparecen en la secuencia.\n",
    "\n",
    "Cada uno de los siguientes elementos solitarios del bucle también debe tener una sangría de 4 o más espacios. Si una línea no tiene sangría, se considera que está fuera del bucle y también terminará cualquier línea adicional considerada en el bucle. Un error común es eliminar los espacios y, por lo tanto, finalizar el ciclo prematuramente."
   ]
  },
  {
   "cell_type": "markdown",
   "metadata": {},
   "source": [
    "En bucle for se utiliza para ejecutar un bloque de instrucciones un número determinado de veces. \n",
    "\n",
    "Para los bucles for se utiliza una variable de contador cuyo valor aumente o disminuya con cada repetición del bucle.\n",
    "\n",
    "El siguiente ejemplo hace que un procedimiento se ejecute 4 veces. La instrucción for especifica la variable de contador xy sus valores inicial y final. Python incrementará automáticamente la variable contador (x) en 1 después de llegar al final del bloque de ejecución."
   ]
  },
  {
   "cell_type": "code",
   "execution_count": 11,
   "metadata": {},
   "outputs": [
    {
     "name": "stdout",
     "output_type": "stream",
     "text": [
      "Estamos en la iteración 0\n",
      "Estamos en la iteración 1\n",
      "Estamos en la iteración 2\n"
     ]
    }
   ],
   "source": [
    "for var_iterador in range(0, 3):\n",
    "    print(\"Estamos en la iteración \" + str(var_iterador))"
   ]
  },
  {
   "cell_type": "markdown",
   "metadata": {},
   "source": [
    "Python puede usar cualquier método iterable como contador de bucle for. En el caso anterior estamos usando range(). Otros objetos iterables pueden ser listas o string. También puede crear sus propios objetos iterables si es necesario.\n",
    "\n",
    "A veces es necesario aumentar o disminuir la variable de contador según el valor que especifique. En el siguiente ejemplo, la variable del contador j se incrementa en 2 cada vez que se repite el ciclo. Cuando finaliza el ciclo, el total es la suma de 0, 2, 4, 6 y 8."
   ]
  },
  {
   "cell_type": "code",
   "execution_count": 17,
   "metadata": {},
   "outputs": [
    {
     "name": "stdout",
     "output_type": "stream",
     "text": [
      "Estamos en la iteración 0\n",
      "Estamos en la iteración 2\n",
      "Estamos en la iteración 4\n",
      "Estamos en la iteración 6\n",
      "Estamos en la iteración 8\n",
      "Estamos en la iteración 10\n",
      "Estamos en la iteración 12\n",
      "Estamos en la iteración 14\n",
      "Estamos en la iteración 16\n",
      "Estamos en la iteración 18\n"
     ]
    }
   ],
   "source": [
    "limSup= 20\n",
    "for j in range(0, limSup, 2):\n",
    "    print(\"Estamos en la iteración \" + str(j))"
   ]
  },
  {
   "cell_type": "markdown",
   "metadata": {},
   "source": [
    "Para disminuir la variable del contador, use un rangevalor negativo . Debe especificar un valor final que sea menor que el valor inicial. En el siguiente ejemplo, la variable del contador jse reduce en 2 cada vez que se repite el ciclo. Cuando finaliza el ciclo, el total es la suma de 10, 8, 6, 4 y 2."
   ]
  },
  {
   "cell_type": "code",
   "execution_count": 19,
   "metadata": {},
   "outputs": [
    {
     "name": "stdout",
     "output_type": "stream",
     "text": [
      "Estamos en la iteración 10\n",
      "Estamos en la iteración 8\n",
      "Estamos en la iteración 6\n",
      "Estamos en la iteración 4\n",
      "Estamos en la iteración 2\n",
      "aqui continuo\n"
     ]
    }
   ],
   "source": [
    " for j in range(10, 0, -2):\n",
    "    print(\"Estamos en la iteración \" + str(j))\n",
    "print(\"aqui continuo\")"
   ]
  },
  {
   "cell_type": "markdown",
   "metadata": {},
   "source": [
    "Puede salir de cualquier instrucción for antes de que el contador alcance su valor final mediante la break instrucción igual que como en el while. Dado que normalmente solo desea salir en determinadas situaciones, como cuando se produce un error, también puede utilizar la instrucción if en el bloque de instrucción True . Si la condición es Falsa , el ciclo se ejecuta como de costumbre."
   ]
  },
  {
   "cell_type": "code",
   "execution_count": 21,
   "metadata": {},
   "outputs": [
    {
     "name": "stdout",
     "output_type": "stream",
     "text": [
      "La oración analizada es: Mary entiende muy bien Python .\n",
      "\n",
      "Palabra: entiende, en la frase es la palabra: 1\n",
      "Palabra: muy, en la frase es la palabra: 2\n",
      "Palabra: bien, en la frase es la palabra: 3\n",
      "Palabra: Python, en la frase es la palabra: 4\n"
     ]
    }
   ],
   "source": [
    "oracion = 'Mary entiende muy bien Python'\n",
    "frases = oracion.split() # convierte a una lista cada palabra\n",
    "print(\"La oración analizada es:\", oracion, \".\\n\")\n",
    "\n",
    "for palabra in range(1,len(frases)):\n",
    "    print(\"Palabra: {}, en la frase es la palabra: {}\".format(frases[palabra], palabra))"
   ]
  },
  {
   "cell_type": "markdown",
   "metadata": {},
   "source": [
    "Si se necesita iterar sobre una secuencia de números. Genera una lista conteniendo progresiones aritméticos, por ejemplo, como se hace en el fragmento de código fuente anterior.\n",
    "\n",
    "# Bucle ‘for’ con Diccionarios\n",
    "\n",
    "A continuación, se presenta un ejemplo del uso del bucle for con tipos de estructuras de datos diccionarios:"
   ]
  },
  {
   "cell_type": "code",
   "execution_count": null,
   "metadata": {},
   "outputs": [],
   "source": [
    "datos_basicos = {\n",
    "    \"nombres\":\"Leonardo Jose\",\n",
    "    \"apellidos\":\"Caballero Garcia\",\n",
    "    \"cedula\":\"26938401\",\n",
    "    \"fecha_nacimiento\":\"03/12/1980\",\n",
    "    \"lugar_nacimiento\":\"Maracaibo, Zulia, Venezuela\",\n",
    "    \"nacionalidad\":\"Venezolana\",\n",
    "    \"estado_civil\":\"Soltero\"\n",
    "}"
   ]
  },
  {
   "cell_type": "code",
   "execution_count": null,
   "metadata": {},
   "outputs": [],
   "source": [
    "clave = datos_basicos.keys()\n",
    "valor = datos_basicos.values()\n",
    "\n",
    "cantidad_datos = datos_basicos.items()\n",
    "\n",
    "for clave, valor in cantidad_datos:\n",
    "    print(clave + \": \" + valor)"
   ]
  },
  {
   "cell_type": "code",
   "execution_count": null,
   "metadata": {},
   "outputs": [],
   "source": [
    "frutas = {'Fresa':'roja', 'Limon':'verde', 'Papaya':'naranja', 'Manzana':'amarilla', 'Guayaba':'rosa'}\n",
    "for nombre, color in frutas.items():\n",
    "    print(nombre, \"es de color\", color)"
   ]
  },
  {
   "cell_type": "markdown",
   "metadata": {},
   "source": [
    "Ejemplo dos con diccionarios"
   ]
  },
  {
   "cell_type": "code",
   "execution_count": null,
   "metadata": {},
   "outputs": [],
   "source": [
    "frutas = {'Fresa':'roja', 'Limon':'verde', 'Papaya':'naranja', 'Manzana':'amarilla', 'Guayaba':'rosa'}\n",
    "for llave in frutas:\n",
    "    print(llave, 'es de color', frutas[llave])"
   ]
  },
  {
   "cell_type": "markdown",
   "metadata": {},
   "source": [
    "El ejemplo anterior itera un diccionario con datos básicos de una persona.\n",
    "\n",
    "# Bucle ‘for’ con ‘else’\n",
    "\n",
    "Al igual que la sentencia if y el bucle while, la estructura for también puede combinarse con una sentencia else.\n",
    "\n",
    "El nombre de la sentencia else es equivocada, ya que el bloque else se ejecutará en todos los casos, es decir, cuando la expresión condicional del bucle for sea False, (a comparación de la sentencia if)."
   ]
  },
  {
   "cell_type": "code",
   "execution_count": null,
   "metadata": {},
   "outputs": [],
   "source": [
    "db_connection = \"127.0.0.1\",\"5432\",\"root\",\"nomina\"\n",
    "\n",
    "for parametro in db_connection:\n",
    "    print(parametro)\n",
    "else:\n",
    "    print(\"\"\"El comando PostgreSQL es: \n",
    "$ psql -h {server} -p {port} -U {user} -d {db_name}\"\"\".format(\n",
    "        server=db_connection[0], port=db_connection[1], \n",
    "        user=db_connection[2], db_name=db_connection[3]))"
   ]
  },
  {
   "cell_type": "markdown",
   "metadata": {},
   "source": [
    "La sentencia else tiene la ventaja de mantener el mismo nombre y la misma sintaxis que en las demás estructuras de control."
   ]
  }
 ],
 "metadata": {
  "kernelspec": {
   "display_name": "Python 3 (ipykernel)",
   "language": "python",
   "name": "python3"
  },
  "language_info": {
   "codemirror_mode": {
    "name": "ipython",
    "version": 3
   },
   "file_extension": ".py",
   "mimetype": "text/x-python",
   "name": "python",
   "nbconvert_exporter": "python",
   "pygments_lexer": "ipython3",
   "version": "3.11.3"
  }
 },
 "nbformat": 4,
 "nbformat_minor": 4
}

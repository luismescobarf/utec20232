{
 "cells": [
  {
   "cell_type": "markdown",
   "metadata": {},
   "source": [
    "# Semana 2 - Condicionales y estructuras propias de Python (Diccionarios)"
   ]
  },
  {
   "cell_type": "markdown",
   "metadata": {},
   "source": [
    "En esta semana se presentan los conceptos necesarios para que un programa no siempre se ejecute de la misma manera, sino que pueda tomar decisiones dependiendo de las condiciones en que se ejecute y de los datos que proporcione el usuario. \n",
    "\n",
    "En esta semana también se introduce una estructura de datos (diccionarios) que permite manejar información más compleja que la que permiten los tipos simples presentados hasta acá."
   ]
  },
  {
   "cell_type": "markdown",
   "metadata": {},
   "source": [
    "Hasta el momento hemos trabajado usando valores de tipo numéricos. Ahora vamos a usar también valores de verdad, es decir valores que sólo pueden ser verdaderos o falsos. Estos valores son también llamados valores lógicos o Booleanos (por el matemático George Boole) y se pueden operar utilizando las reglas del álgebra Booleana, en lugar de las reglas del álgebra elemental que usamos para valores numéricos."
   ]
  },
  {
   "cell_type": "markdown",
   "metadata": {},
   "source": [
    "# Valores de verdad y proposiciones\n",
    "\n",
    "Una proposición es una expresión completa que tiene un valor de verdad, es decir que es verdadera o falsa. Por ejemplo, la frase ‘Hoy está haciendo frio’ es una proposición porque expresa una idea que puede ser verdadera o falsa. Evidentemente nosotros no podemos saber si, en el momento en que el lector vea esto, estará haciendo frio o no, pero el hecho de que no lo sepamos no hace que la frase deje de ser una proposición. Por el contrario, expresiones como ‘amarillo’, ‘amanecer’ o ‘bailar’ no son frases completas, no se puede decir que sean verdaderas o falsas y por ende no pueden ser proposiciones. En español se suelen usar también los términos sentencia, afirmación o juicio para referirse a una proposición."
   ]
  },
  {
   "cell_type": "markdown",
   "metadata": {},
   "source": [
    "Cuando se usan proposiciones dentro del contexto de lógica matemática, se espera que tengan un valor de verdad que, como dijimos, puede ser verdadero o falso. Dependiendo del momento en que se evalúe, una proposición podría cambiar de valor (piense en la frase ‘Hoy está haciendo frio’), pero no es posible que una proposición tenga dos valores diferentes al mismo tiempo."
   ]
  },
  {
   "cell_type": "markdown",
   "metadata": {},
   "source": [
    "Finalmente, debemos recalcar que los únicos dos valores de verdad son verdadero y falso, independientemente de cómo se representen. Por ejemplo, es usual que estos valores se representen con expresiones como V y F, True y False, T y F o incluso números como 1 y 0. Sin embargo, en todos estos casos estamos hablando de los valores de verdad y no de expresiones de tipo numérico o de cadenas de caracteres."
   ]
  },
  {
   "cell_type": "markdown",
   "metadata": {},
   "source": [
    "# Álgebra Booleana\n",
    "\n",
    "- El álgebra Booleana es la rama del álgebra que trabaja con proposiciones y no con valores numéricos (como el álgebra elemental). \n",
    "\n",
    "- El álgebra Booleana se basa en los valores verdadero y falso y las operaciones ∧ (conjunción), ∨ (disyunción) y ¬ (negación). "
   ]
  },
  {
   "cell_type": "markdown",
   "metadata": {},
   "source": [
    "# Operaciones lógicas\n",
    "\n",
    "Son tres las operaciones básicas del álgebra Booleana. El resto de operaciones, como la **implicación** o la **equivalencia**, son operaciones secundarias que se pueden construir a partir de la conjunción, disyunción y negación.\n",
    "\n",
    "- **Negación**. La negación (*¬, not, no*) es la operación Booleana que toma un valor de verdad y lo convierte en el otro valor. Es decir que la negación de un valor verdadero es un valor falso, y la negación de un valor falso es un valor verdadero. La negación es una operación unaria, que se aplica sobre un solo operando.\n",
    "\n",
    "- **Conjunción**. La conjunción (∧, and, y) es una operación Booleana binaria que tiene valor verdadero sólo cuando ambos operandos tienen valor verdadero. Esto implica que cuando un operando es verdadero y el otro es falso, o cuando ambos operandos son falsos, el resultado de una conjunción es un valor falso.\n",
    "\n",
    "- **Disyunción**. La disyunción (∨, or, o) es una operación Booleana binaria que tiene valor verdadero cuando por lo menos uno de los operandos tiene valor verdadero. Esto implica que una disyunción tiene valor falso sólo cuando ambos operandos tienen valor falso."
   ]
  },
  {
   "cell_type": "markdown",
   "metadata": {},
   "source": [
    "Ahora veremos algunos ejemplos de estas operaciones aplicadas a proposiciones sencillas en Español. Para esto utilizaremos tres proposiciones que identificaremos acontinuación.\n",
    "\n",
    "P: Hoy está haciendo frio\n",
    "\n",
    "Q: Hoy es lunes\n",
    "\n",
    "R: Hoy es un día de hacer deporte"
   ]
  },
  {
   "cell_type": "markdown",
   "metadata": {},
   "source": [
    "Acontinuación se muestra 6 expresiones lógicas basadas en las 3 proposiciones y en los operadores lógicos. \n",
    "\n",
    "- Q: Hoy es lunes.\n",
    "\n",
    "Esta expresión será verdadera sólo cuando sea evaluada un día que sea lunes; de lo contrario, será falsa.\n",
    "\n",
    "- ¬ P (no P): Hoy no está haciendo frio\n",
    "\n",
    "Esta expresión será verdadera sólo cuando sea evaluada un día en que no haga frio. Esto quiere decir que la expresión ¬ P (no P) será verdadera sólo cuando la expresión P sea falsa. De igual forma, ¬ P será falsa sólo cuando la expresión P sea verdadera.\n",
    "\n",
    "- ¬ Q: Hoy no es lunes\n",
    "\n",
    "Esta expresión será verdadera sólo cuando sea evaluada un día que no sea lunes.\n",
    "\n",
    "- P ∧ Q: Hoy está haciendo frio y es lunes\n",
    "\n",
    "Esta expresión es una conjunción y será verdadera sólo cuando P y Q sean verdaderas simultáneamente. Es decir, cuando sea evaluada un día en que esté haciendo frio y también sea lunes. Si cualquiera de las dos partes es falsa, o si las dos son falsas, entonces la conjunción será falsa.\n",
    "\n",
    "- Q ∧ ¬ R: Hoy es lunes y no es un día de hacer deporte\n",
    "\n",
    "Esta expresión también usa una conjunción, pero en este caso será verdadera sólo cuando Q sea verdadera y cuando ¬ R sea verdadero, es decir cuando R sea falso. En otras palabras, será verdadera sólo cuando se evalúe un lunes que no sea día de hacer deporte. Si se evalúa cualquier otro día de la semana, o si se evalúa un lunes que además sea día de hacer deporte, entonces la expresión será falsa.\n",
    "\n",
    "- P ∨ R: Hoy está haciendo frio o es un día de hacer deporte\n",
    "\n",
    "Esta expresión tiene una interpretación lógica que podría estar más alejada de lo que dice la intuición. En este caso se está usando una disyunción, así que tendrá un valor verdadero cuando al menos uno de los operandos sea verdadero. Esto quiere decir que la expresión será verdadera cuando esté haciendo frio (P) o cuando sea un día de hacer deporte (R). Si las dos partes son verdaderas (está haciendo frio y es un día de hacer deporte), la expresión también será verdadera. La expresión sólo será falsa cuando las dos partes sean falsas simultáneamente, es decir cuando P sea falsa y R sea falsa, o cuando ¬ P sea verdadera y ¬ R también sea verdadera.\n",
    "\n",
    "**Nota: Expresiones como la utima a veces se interpretan equivocadamente como si hubiera un “o exclusivo” que sólo sería verdadero cuando una de las expresiones fuera verdadera y la otra fuera falsa. Existe un operador para expresar esta relación usualmente llamado xor, el cual se puede construir a partir de operaciones de conjunción, disyunción y negación.**"
   ]
  },
  {
   "cell_type": "markdown",
   "metadata": {},
   "source": [
    "# Ejemplo Estudiantes que aprobaran el curso\n",
    "## Proposiciones\n",
    "Tiene al menos 3.00 en el promedio de notas.\n",
    "\n",
    "Asistió al menos al 80% de las clases síncronas.\n",
    "\n",
    "## Solución:\n",
    "\n",
    "Identificar las proposiciones o sentencias declarativas. Normalmente involucran una comparación, luego al expresarlo en algoritmos y programas se utilizarán los operadores relacionales.\n",
    "\n",
    "- P: Tiene al menos 3.00 en el promedio de notas.\n",
    "\n",
    "- Q: Asistió al menos al 80% de las clases síncronas.\n",
    "\n",
    "Queremos que ambas se cumplan para que el estudiante apruebe el curso, vamos a conectar dos sentencias declarativas (que pueden ser verdaderas o falsas): Ambas deben ser verdaderas para que el estudiante apruebe el curso, por lo tanto utilizamos una conjunción o un \"y\" lógico (AND)\n",
    "\n",
    "- P ^ Q\n",
    "\n",
    "\n",
    "# Ejemplo Condicionar el pago del auxilio de transporte\n",
    "## Proposiciones\n",
    "Gana menos de dos salarios mínimos.\n",
    "\n",
    "Vive en el sitio de trabajo.\n",
    "\n",
    "La empresa suministra transporte completo.\n",
    "\n",
    "No se vive cerca del lugar de trabajo (más de 1000 metros).\n",
    "\n",
    "## Solución:\n",
    "\n",
    "Aunque el pago del auxilio de transporte en Colombia se basa principalmente en el número de salarios mínimos, vamos a considerar más situaciones para decidir si el auxilio se asigna o no. Primero identifiquemos las proposiciones:\n",
    "\n",
    "- P: Gana menos de dos salarios mínimos.\n",
    "\n",
    "- Q: Vive en el sitio de trabajo.\n",
    "\n",
    "- R: La empresa suministra transporte completo.\n",
    "\n",
    "- S: Vive cerca del lugar de trabajo (menos de 1000 metros)\n",
    "\n",
    "- P ^ ¬Q ^ R ^ ¬S\n",
    "\n",
    "Es posible reorganizar la expresión con algunas propiedades del Álgebra Booleana:\n",
    "\n",
    "- P ^ R ^ ¬S ^ ¬Q\n",
    "\n",
    "- P ^ R ^ ¬(S v Q)\n",
    "\n",
    "Cualquiera de las representaciones es válida para incorporar en el programa o en el algoritmo, utilizar la que sea más cercana al lenguaje natural.\n",
    "\n",
    "\n",
    "# Ejemplo Números Primos\n",
    "## Proposiciones\n",
    "\n",
    "## Solución\n",
    "\n",
    "Primero establecer las características (sentencias declarativas) que definen a un número primo:\n",
    "\n",
    "- Es divisible por 1\n",
    "\n",
    "- Es divisible por él mismo\n",
    "\n",
    "- No es divisible por ningún número diferente a 1 y él mismo\n",
    "\n",
    "Luego expresar dichas características en proposiciones, las cuales será más sencillo expresar en el algoritmo y expresar en el programa correspondiente.\n",
    "\n",
    "- P: Es divisible por 1\n",
    "\n",
    "- Q: Es divisible por él mismo\n",
    "\n",
    "- S: Es divisible por cualquier número diferente a 1 y él mismo\n",
    "\n",
    "Finalmente utilizar los conectivos lógicos, en este caso se deben cumplir de manera simultánea todas las proposiciones con la particularidad de que una de ellas debe ser negada. Es una buena práctica expresarla afirmativa y dejar la negación como conectivo lógico u operador lógico, sin embargo, no es obligatorio que se exprese de esta forma.\n",
    "\n",
    "- P ^ Q ^ ¬S\n",
    "\n",
    "\n",
    "# Ejemplo Año bisiesto\n",
    "\n",
    "Un año bisiesto es todo año divisible por 4, que no es divisible visible 100 de lo contrario debe ser divisible por 400.\n",
    "\n",
    "\n",
    "## Proposiciones\n",
    "\n",
    "P: El anho es divisible por 4\n",
    "\n",
    "Q: El anho es divisible por 100\n",
    "\n",
    "R: El anho es divisible por 400\n",
    "\n",
    "## Solución\n",
    "\n",
    "- (P ^ ¬Q) v (P ^ Q ^ R) \n",
    "\n",
    "Si sucede cualquiera de los dos casos es bisiesto, por lo tanto ajusta la disyunción para este caso."
   ]
  },
  {
   "cell_type": "markdown",
   "metadata": {},
   "source": [
    "# Ejercicios practicos\n",
    "\n",
    "**Parte A**: Escriba la “traducción” más clara posible a español de las siguientes expresiones y analice en qué casos sería verdadera y en qué casos sería falsa recuerde:\n",
    "\n",
    "P: Hoy está haciendo frio\n",
    "\n",
    "Q: Hoy es lunes\n",
    "\n",
    "R: Hoy es un día de hacer deporte"
   ]
  },
  {
   "cell_type": "markdown",
   "metadata": {},
   "source": [
    "1) Q ∨ R \n",
    "\n",
    "Rpta: Hoy o es lunes o es un día para hacer deporte"
   ]
  },
  {
   "cell_type": "markdown",
   "metadata": {},
   "source": [
    "2) ¬ P ∧ ¬ R\n",
    "\n",
    "Rpta: Hoy está haciendo calor y no es un día para hacer deporte"
   ]
  },
  {
   "cell_type": "markdown",
   "metadata": {},
   "source": [
    "3) Q ∧ Q\n",
    "\n",
    "Rpta: Hoy es lunes y hoy es lunes"
   ]
  },
  {
   "cell_type": "markdown",
   "metadata": {},
   "source": [
    "4) Q ∧ ¬ Q\n",
    "\n",
    "Rpta: Hoy es y no es lunes"
   ]
  },
  {
   "cell_type": "markdown",
   "metadata": {},
   "source": [
    "5) P ∧ (Q ∨ R)\n",
    "\n",
    "Rpta: Hoy está haciendo frío y debe ser lunes o ser un día de hacer deporte "
   ]
  },
  {
   "cell_type": "markdown",
   "metadata": {},
   "source": [
    "6) (P ∧ Q) ∨ R\n",
    "\n",
    "Rpta: Hoy está haciendo frío y es lunes, o es un día para hacer deporte"
   ]
  },
  {
   "cell_type": "markdown",
   "metadata": {},
   "source": [
    "7) (P ∧ ¬ R) ∨ (¬ P ∧ R)\n",
    "\n",
    "Rpta: Hoy es lunes y no es un día para hacer deporte, o no es lunes y sí es un día para hacer deporte."
   ]
  },
  {
   "cell_type": "markdown",
   "metadata": {},
   "source": [
    "**Parte B**: Escriba las expresiones equivalentes a las siguientes proposiciones en español, usando los 3 identificadores P, Q y R.\n",
    "\n",
    "8) Hoy no es martes\n",
    "\n",
    "Rpta: \n",
    "\n",
    "Proposiciones:\n",
    "\n",
    "- P: Hoy es martes\n",
    "\n",
    "Expresión lógica:\n",
    "\n",
    "- ¬P\n",
    "\n",
    "9) Hoy no es martes o hoy es martes\n",
    "\n",
    "Rpta:\n",
    "\n",
    "Proposiciones:\n",
    "\n",
    "- P: Hoy es martes\n",
    "\n",
    "Expresión lógica:\n",
    "\n",
    "- ¬P v P\n",
    "\n",
    "10) Hoy está haciendo calor o es martes o es un día de fiesta\n",
    "\n",
    "Rpta: \n",
    "\n",
    "Proposiciones:\n",
    "\n",
    "- P: Hoy es martes\n",
    "- Q: Hoy está haciendo calor\n",
    "- R: Hoy es un día de fiesta\n",
    "\n",
    "Expresión lógica:\n",
    "\n",
    "- P v Q v R\n",
    "\n",
    "\n",
    "11) Hoy ni es martes ni es un día de fiesta\n",
    "\n",
    "Rpta: \n",
    "\n",
    "Proposiciones:\n",
    "\n",
    "- P: Hoy es martes\n",
    "- Q: Hoy es un día de fiesta\n",
    "\n",
    "Expresión lógica:\n",
    "\n",
    "- ¬P ^ ¬Q"
   ]
  },
  {
   "cell_type": "markdown",
   "metadata": {},
   "source": [
    "**Parte C**: Simplifique las siguientes expresiones (escríbalas de una forma más breve) si es posible:\n",
    "\n",
    "12) Q ∧ Q\n",
    "\n",
    "Rpta: \n",
    "\n",
    "Esta propiedad es conocida como propiedad de idempotencia, esto se puede simplificar a Q porque en ambas entradas se tendrá el mismo valor, entonces el resultado depende del valor de Q, si es verdadero, ambas entradas son verdaderas y la conjunción es verdadera en ese caso. Si Q es faso, ambas entradas son falsas y en ese caso la conjunción es falsa.\n",
    "\n",
    "- Q\n",
    "\n",
    "13) Q ∧ ¬ Q\n",
    "\n",
    "Rpta:\n",
    "\n",
    "En la misma proposición se está planteando que Q es verdadero y falso de forma simultánea, esto es una contradicción, equivale a decir que hoy es lunes y no es lunes, esto siempre será falso.\n",
    "\n",
    "- Falso\n",
    "\n",
    "14) Q ∧ Verdadero\n",
    "\n",
    "Rpta: \n",
    "\n",
    "Para la expresión lógica anterior, el resultado siempre va a depender de Q, porque si es verdadera, la conjunción va a ser verdadera cuando ambas son ciertas, y va a ser valsa cuando Q sea falsa a pesar de que esté siendo relacionada con un valor fijo verdadero.\n",
    "\n",
    "- Q\n",
    "\n",
    "15) Q ∧ Falso\n",
    "\n",
    "Rpta:\n",
    "\n",
    "En este caso siempre va a ser falso sin importar el valor de Q, dado que la conjunción requiere que ambas sean verdaderas.\n",
    "\n",
    "- Falso\n",
    "\n",
    "16) Q ∨ Verdadero\n",
    "\n",
    "Rpta: \n",
    "\n",
    "En este caso va a ser siempre verdadero, porque la disyunción siempre va a ser verdadera si por lo menos una de las proposiciones es verdadera.\n",
    "\n",
    "- Verdadero\n",
    "\n",
    "17) Q ∨ Falso\n",
    "\n",
    "Rpta: \n",
    "\n",
    "Depende del valor que tenga Q, dado que si Q es Verdadero, la disyunción es verdadera y si es falso, toda la expresión es falsa.\n",
    "\n",
    "- Q\n",
    "\n",
    "18) ¬ Q ∧ ¬ Q\n",
    "\n",
    "Rpta:\n",
    "\n",
    "- ¬Q\n",
    "\n",
    "29) ¬ Q ∨ ¬ Q\n",
    "\n",
    "Rpta:\n",
    "\n",
    "- ¬Q\n",
    "\n",
    "20) ¬(Q ∨ P)\n",
    "\n",
    "Rpta:\n",
    "\n",
    "Una disyunción puede expresarse como conjunción con la primera le de DeMorgan.\n",
    "\n",
    "- ¬Q ^ ¬P\n",
    "\n",
    "21) ¬(Q ∧ P)\n",
    "\n",
    "Rpta: \n",
    "\n",
    "La segunda ley de DeMorgan permite expresar una conjunción como una disyunción:\n",
    "\n",
    "- ¬Q v ¬P\n",
    "\n",
    "22) (P ∧ Q) ∨ (P ∧ R)\n",
    "\n",
    "Rpta:\n",
    "\n",
    "- P ^ (Q v R)"
   ]
  },
  {
   "cell_type": "code",
   "execution_count": null,
   "metadata": {},
   "outputs": [],
   "source": []
  }
 ],
 "metadata": {
  "kernelspec": {
   "display_name": "Python 3 (ipykernel)",
   "language": "python",
   "name": "python3"
  },
  "language_info": {
   "codemirror_mode": {
    "name": "ipython",
    "version": 3
   },
   "file_extension": ".py",
   "mimetype": "text/x-python",
   "name": "python",
   "nbconvert_exporter": "python",
   "pygments_lexer": "ipython3",
   "version": "3.11.3"
  }
 },
 "nbformat": 4,
 "nbformat_minor": 4
}

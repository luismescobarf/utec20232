{
 "cells": [
  {
   "cell_type": "markdown",
   "metadata": {},
   "source": [
    "# Tabla de verdad"
   ]
  },
  {
   "cell_type": "markdown",
   "metadata": {},
   "source": [
    "Las tablas de verdad o tabla de valores de verdad, es una tabla que muestra el valor de verdad de una proposición compuesta, para cada combinación de valores de verdad que se pueda asignar a sus componentes."
   ]
  },
  {
   "cell_type": "markdown",
   "metadata": {},
   "source": [
    "Fue desarrollada por Charles Sanders Peirce por los años 1880, pero el formato más popular es el que introdujo Ludwig Wittgenstein en su Tractatus logico-philosophicus, publicado en 1921."
   ]
  },
  {
   "cell_type": "markdown",
   "metadata": {},
   "source": [
    "La tabla de los \"valores de verdad\", es usada en el ámbito de la lógica, para obtener la verdad (V) o falsedad (F), valores de verdad, de una expresión o de una proposición. Además sirven para determinar si es que un determinado esquema de inferencia es formalmente válido como un argumento, llegando a la conclusión de que este es una tautología (se habla de una tautología cuando todos los valores de la tabla mencionada son \"V\" o sea verdadero)."
   ]
  },
  {
   "cell_type": "markdown",
   "metadata": {},
   "source": [
    "# Qué son las tablas de la verdad\n",
    "\n",
    "Las tablas de verdad son, por una parte, uno de los métodos más sencillos y conocidos de la lógica formal, pero la mismo tiempo también uno de los más poderosos y claros. Entender bien las tablas de verdad es, en gran medida, entender bien a la lógica formal misma."
   ]
  },
  {
   "cell_type": "markdown",
   "metadata": {},
   "source": [
    "Fundamentalmente, una tabla de verdad es un dispositivo para demostrar ciertas propiedades lógicas y semánticas de enunciados del lenguaje natural o de fórmulas del lenguaje del cálculo proposicional:\n",
    "\n",
    "- Si son tautológicas, contradictorias o contingentes\n",
    "- Cuáles son sus condiciones de verdad\n",
    "- Cuál es su rol inferencial, es decir, cuáles son sus conclusiones lógicas y de qué otras proposiciones se siguen lógicamente."
   ]
  },
  {
   "cell_type": "markdown",
   "metadata": {},
   "source": [
    "Finalmente, debemos recalcar que los únicos dos valores de verdad son verdadero y falso, independientemente de cómo se representen. Por ejemplo, es usual que estos valores se representen con expresiones como V y F, True y False, T y F o incluso números como 1 y 0. Sin embargo, en todos estos casos estamos hablando de los valores de verdad y no de expresiones de tipo numérico o de cadenas de caracteres."
   ]
  },
  {
   "cell_type": "markdown",
   "metadata": {},
   "source": [
    "Recordemos que:\n",
    "\n",
    "- **Negación**. La negación (¬, not, no) es la operación Booleana que toma un valor de verdad y lo convierte en el otro valor. \n",
    "\n",
    "- **Conjunción**. La conjunción (∧, and, y) es una operación Booleana binaria que tiene valor verdadero sólo cuando ambos operandos tienen valor verdadero. \n",
    "\n",
    "- **Disyunción**. La disyunción (∨, or, o) es una operación Booleana binaria que tiene valor verdadero cuando por lo menos uno de los operandos tiene valor verdadero."
   ]
  },
  {
   "cell_type": "markdown",
   "metadata": {},
   "source": [
    "Consideremos la tabla más sencilla posible, en la cual sólo tenemos la proposición P\n",
    "\n",
    "P | ¬ P\n",
    "-------- | -------\n",
    "T | F\n",
    "F | T\n",
    "\n",
    "Aunque sencilla, esta tabla es interesante porque nos muestra todos los posibles valores de la expresión P y los valores correspondientes que tendría la expresión ¬ P. También nos muestra que las dos expresiones no pueden ser verdaderas simultáneamente, sino que tienen valores opuestos. \n",
    "\n",
    "Si extendemos la tabla con un par de expresiones encontraremos dos principios muy importantes:"
   ]
  },
  {
   "cell_type": "markdown",
   "metadata": {},
   "source": [
    "P | ¬ P | P ∧ ¬ P | P ∨ ¬ P\n",
    "---- | ---- | ---- | ---- \n",
    "T | F | F | T\n",
    "F | T | F | T\n",
    "\n",
    "- Primero, vemos que la expresión P ∧ ¬ P siempre es falsa. Esto quiere decir que no es posible que una proposición sea simultáneamente verdadera y falsa, lo cual usualmente se conoce como el principio de no contradicción.\n",
    "\n",
    "- Segundo, vemos que la expresión P ∨ ¬ P siempre es verdadero. Esto quiere decir que siempre bien sea una proposición o su negación tienen que ser verdaderas. Como no hay una tercera opción, eso se conoce como el principio del tercero excluido."
   ]
  },
  {
   "cell_type": "markdown",
   "metadata": {},
   "source": [
    "En la siguiente tabla veremos dos proposiciones P y Q.\n",
    "\n",
    "P | Q | P ∧ Q | P ∨ Q\n",
    "---- | ---- | ---- | ---- \n",
    "T | T | T | T\n",
    "T | F | F | T\n",
    "F | T | F | T\n",
    "F | F | F | F\n",
    "\n",
    "Acá podemos ver, de otra manera, lo que ya sabíamos sobre la conjunción y la disyunción: \n",
    "\n",
    "- Una conjunción es verdadera sólo cuando los dos operandos son verdaderos\n",
    "- Una disyunción es falsa sólo cuando los dos operandos son falsos."
   ]
  },
  {
   "cell_type": "markdown",
   "metadata": {},
   "source": [
    "# Leyes fundamentales\n",
    "\n",
    "Así como en el álgebra elemental hay algunas leyes muy importantes y conocidas (conmutatividad, asociatividad, distribución, precedencia de operadores, etc.), en el álgebra Booleana también hay algunas leyes importantes que se deben tener en cuenta y pueden servir para replantear expresiones de formas que sean más sencillas.\n",
    "\n",
    "- **Conmutatividad**: Tanto la conjunción como la disyunción son conmutativas, así que A ∨ B es equivalente a B ∨ A. También es cierto que A ∧ B es equivalente a B ∧ A.\n",
    "\n",
    "- **Asociatividad**: Tanto la conjunción como la disyunción son asociativas, así que A ∨ (B ∨ C) es equivalente a (A ∨ B) ∨ C. Además, A ∧ (B ∧ C) es equivalente a (A ∧ B) ∧ C.\n",
    "\n",
    "- **Distribución**: en el álgebra Booleana, la conjunción distribuye sobre la disyunción y viceversa. Esto quiere decir que:\n",
    "\n",
    "    + A ∧ (B ∨ C) ≡ (A ∧ B) ∨ (A ∧ C)\n",
    "\n",
    "    + A ∨ (B ∧ C) ≡ (A ∨ B) ∧ (A ∨ C)"
   ]
  },
  {
   "cell_type": "markdown",
   "metadata": {},
   "source": [
    "- **Identidad de la conjunción**: si se hace una conjunción con el valor verdadero, el resultado es el mismo. Es decir que A ∧ Verdadero ≡ A.\n",
    "\n",
    "- **Identidad de la disyunción**: si se hace una disyunción con el valor falso, el resultado es el mismo. Es decir que A ∨ Falso ≡ A.\n",
    "\n",
    "- **Dominación de la conjunción**: si se hace una conjunción con el valor falso, el resultado es falso. Es decir que A ∧ Falso ≡ Falso.\n",
    "\n",
    "- **Dominación de la disyunción**: si se hace una disyunción con el valor verdadero, el resultado es verdadero. Es decir que A ∨ Verdadero ≡ Verdadero.\n",
    "\n",
    "- **Negación y equivalencia a falso**: es lo mismo decir que una proposición tiene un valor falso que decir que su negación tiene un valor positivo. Es decir que A ≡ Falso es lo mismo que decir ¬ A ≡ Verdadero. Más aún, B ≡ Verdadero es lo mismo que decir B, así que A ≡ Falso se puede reescribir como ¬ A."
   ]
  },
  {
   "cell_type": "markdown",
   "metadata": {},
   "source": [
    "# Leyes de De Morgan\n",
    "\n",
    "Ahora veremos dos teoremas muy importantes que se deben tener muy en cuenta cuando se estén reescribiendo operaciones lógicas.\n",
    "\n",
    "### Las leyes o teoremas de De Morgan dicen que:\n",
    "\n",
    "- ¬ (P ∧ Q) ≡ ¬ P ∨ ¬ Q\n",
    "\n",
    "- ¬ (P ∨ Q) ≡ ¬ P ∧ ¬ Q\n",
    "\n",
    "Volviendo a las proposiciones de ejemplo que usamos anteriormente, la expresión ¬ (P ∧ Q) podría “traducirse” como “no es cierto que (hoy está haciendo frio y hoy es lunes)”. Hemos agregado los paréntesis para hacer notar que las palabras “no es cierto que” hacen referencia a las dos cláusulas subordinadas.\n",
    "\n",
    "Sabemos que la expresión completa será verdadera sólo cuando la parte que está entre paréntesis sea falsa para que la negación invierta su valor. Es decir que la expresión completa será verdadera cuando sea falso que “hoy está haciendo frio y hoy es lunes”. \n",
    "\n",
    "En este caso tenemos una conjunción, así que la operación será verdadera sólo cuando ambas sean falsas. Como en este caso nos interesa que sea falsa, decimos que la operación de conjunción será falsa cuando cualquiera de las dos partes sea falsa, es decir cuando la primera parte sea falsa o la segunda parte sea falsa. Volviendo a la expresión completa, encontramos que la expresión será verdadera cuando la proposición P sea falsa o cuando la proposición Q sea falsa.\n",
    "\n",
    "Esto quiere decir que la expresión original también podría haberse traducido de forma equivalente como “no es cierto que hoy esté haciendo frio o no es cierto que hoy sea lunes”.\n",
    "\n",
    "La segunda propiedad es análoga a la primera.\n",
    "\n"
   ]
  },
  {
   "cell_type": "markdown",
   "metadata": {},
   "source": [
    "# Ejemplo Parqueadero de buses\n",
    "\n",
    "El operario del parqueadero de Megabuses es un señor muy ordenado. Cada día, parquea los buses sin falta entre sus tres lotes de parqueadero. Todos los lotes tienen igual capacidad.\n",
    "\n",
    "Él ha decidido asignarle un número a cada uno de los buses, de tal forma que, con solamente ver el número de este, pueda dirigir al conductor al lote que le corresponde. Ayude al operario a escribir un programa que, dado un total de parqueaderos y el número del bus, determine si a ese bus le corresponde parquear en el primer, segundo o tercer lote.\n",
    "\n",
    "Valide, que el numero total de parqueaderos sea múltiplo de 3 o si el número del bus no excede el tamaño del parqueadero.\n",
    "\n",
    "Nombre de la función:\tparqueadero_buses\n",
    "\n",
    "Parámetros\n",
    "\n",
    "Nombre | Tipo | Descripción\n",
    "---- | ---- | ---- \n",
    "cantidad_buses | int | Tamanho del parqueadero\n",
    "numero_bus | int | El número único del bus a ubicar en alguno de los tres lotes de parqueo.\n",
    "\n",
    "Tipo del retorno |\tDescipción del retorno\n",
    "---- | ----\n",
    "int |\tEl lote de parqueadero donde el bus con el número que llega por parámetro deberá parquear. Debe ser un valor entre 1 y 3."
   ]
  },
  {
   "cell_type": "markdown",
   "metadata": {},
   "source": [
    "# Ejemplo Despacho de buses\n",
    "\n",
    "En las estaciones de Megabus Pereira los operarios usan una fórmula matemática sencilla para saber si deben o no despachar un bus nuevo. Para esto tienen un contador de pasajeros en el bus entrante (personas_bus) y un contador de personas paradas en la plataforma (personas_estacion).\n",
    "\n",
    "Los operarios saben que la capacidad teórica máxima del bus es de 150 personas. Sin embargo, también saben que si se aprietan pueden transportar a máximo 200 personas. Los pasajeros no quieren viajar incómodos pero tampoco quieren demorarse mucho tomando el bus, así que sólo se montarán a un bus con sobrecupo que llegue a la estación si hay 40 o más personas en la plataforma. Luego de que el bus se detenga y entren las personas, los operarios decidirán si deben enviar un bus adicional: enviarán un bus nuevo, si al salir de la estación el bus quedó con sobrecupo o si en la plataforma quedaron 50 o más personas.\n",
    "\n",
    "Su trabajo es construir una función en Python que le ayude a los operarios de MegaBus a tomar la decisión de despachar o no un bus nuevo."
   ]
  },
  {
   "cell_type": "code",
   "execution_count": 4,
   "metadata": {},
   "outputs": [
    {
     "name": "stdout",
     "output_type": "stream",
     "text": [
      "None\n",
      "None\n",
      "None\n",
      "None\n"
     ]
    }
   ],
   "source": [
    "def despacho_buses(personas_bus: int, personas_estacion: int)->bool:\n",
    "    \"\"\" La estación de Megabus\n",
    "    Parámetros:\n",
    "      personas_bus (int): Número de personas en el bus que va a detenerse\n",
    "      personas_estacion (int): Número de personas esperando el bus en la estación\n",
    "    Retorno:\n",
    "      bool: Retorna el valor True si se debe despachar un bus nuevo y retorna False de lo contrario.\n",
    "    \"\"\"\n",
    "    pass\n",
    "\n",
    "print(despacho_buses(50,200))\n",
    "print(despacho_buses(170,10))\n",
    "print(despacho_buses(50,10))\n",
    "print(despacho_buses(50,50))"
   ]
  }
 ],
 "metadata": {
  "kernelspec": {
   "display_name": "Python 3",
   "language": "python",
   "name": "python3"
  },
  "language_info": {
   "codemirror_mode": {
    "name": "ipython",
    "version": 3
   },
   "file_extension": ".py",
   "mimetype": "text/x-python",
   "name": "python",
   "nbconvert_exporter": "python",
   "pygments_lexer": "ipython3",
   "version": "3.8.3"
  }
 },
 "nbformat": 4,
 "nbformat_minor": 4
}

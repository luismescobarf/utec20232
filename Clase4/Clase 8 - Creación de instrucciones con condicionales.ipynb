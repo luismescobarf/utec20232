{
 "cells": [
  {
   "cell_type": "markdown",
   "metadata": {},
   "source": [
    "# Ejecución de condicionales"
   ]
  },
  {
   "cell_type": "markdown",
   "metadata": {},
   "source": [
    "# Expresiones booleanas\n",
    "\n",
    "Una expresión booleana es una expresión que es verdadera o falsa. En el siguiente ejemplo se utiliza el operador ==, que compara dos operandos y produce True si son iguales o falsos si son diferentes."
   ]
  },
  {
   "cell_type": "code",
   "execution_count": null,
   "metadata": {},
   "outputs": [],
   "source": [
    "5 == 5"
   ]
  },
  {
   "cell_type": "code",
   "execution_count": null,
   "metadata": {},
   "outputs": [],
   "source": [
    "5 == 6"
   ]
  },
  {
   "cell_type": "markdown",
   "metadata": {},
   "source": [
    "Verdadero y falso son valores especiales que pertenecen a la clase bool; no son palabras o caracteres."
   ]
  },
  {
   "cell_type": "code",
   "execution_count": null,
   "metadata": {},
   "outputs": [],
   "source": [
    "type(True)"
   ]
  },
  {
   "cell_type": "code",
   "execution_count": null,
   "metadata": {},
   "outputs": [],
   "source": [
    "type(False)"
   ]
  },
  {
   "cell_type": "markdown",
   "metadata": {},
   "source": [
    "El operador == es uno de los operadores de comparación; los otros lo son:"
   ]
  },
  {
   "cell_type": "code",
   "execution_count": null,
   "metadata": {},
   "outputs": [],
   "source": [
    "x != y # x no es igual a y\n",
    "x > y # x es mayor que y\n",
    "x < y # x es menos que y\n",
    "x >= y # x es mayor o igual que y\n",
    "x <= y # x es menor o igual que y\n",
    "x is y # x es lo mismo que y\n",
    "x is not y # x no es lo mismo que y"
   ]
  },
  {
   "cell_type": "markdown",
   "metadata": {},
   "source": [
    "Aunque estas operaciones probablemente le resulten familiares, los símbolos de Python son diferentes de los símbolos matemáticos para las mismas operaciones. Un error común es utilizar un solo signo igual (=) en lugar de un doble signo igual (==). Recuerde que = es un operador de asignación y == es un operador de comparación. No existe tal cosa como =< o =>. "
   ]
  },
  {
   "cell_type": "markdown",
   "metadata": {},
   "source": [
    "# Operadores lógicos"
   ]
  },
  {
   "cell_type": "markdown",
   "metadata": {},
   "source": [
    "Hay tres operadores lógicos: y (and), o (or), y no (not). La semántica (significado) de estos operadores es similar a su significado en inglés. Por ejemplo, "
   ]
  },
  {
   "cell_type": "code",
   "execution_count": null,
   "metadata": {},
   "outputs": [],
   "source": [
    "x = #escribe algo acá\n",
    "\n",
    "x > 0 and x < 10"
   ]
  },
  {
   "cell_type": "markdown",
   "metadata": {},
   "source": [
    "es cierto sólo si x es mayor que 0 y menor que 10. "
   ]
  },
  {
   "cell_type": "code",
   "execution_count": null,
   "metadata": {},
   "outputs": [],
   "source": [
    "n%2 == 0 or n%3 == 0"
   ]
  },
  {
   "cell_type": "markdown",
   "metadata": {},
   "source": [
    "es cierto si cualquiera de las condiciones es verdadera, es decir, si el número es divisible entre 2 o 3."
   ]
  },
  {
   "cell_type": "markdown",
   "metadata": {},
   "source": [
    "Finalmente, el operador not niega una expresión booleana, por lo que no (x > y) es verdadero si x > y es falso; es decir, si x es menor o igual que y.\n",
    "\n",
    "En sentido estricto, los operandos de los operadores lógicos deberían ser expresiones booleanas, pero Python no es muy estricto. Cualquier número que no sea cero se interpreta como \"verdadero\". "
   ]
  },
  {
   "cell_type": "code",
   "execution_count": null,
   "metadata": {},
   "outputs": [],
   "source": [
    "17 and True"
   ]
  },
  {
   "cell_type": "markdown",
   "metadata": {},
   "source": [
    "Esta flexibilidad puede ser útil, pero hay algunas sutilezas en ella que pueden ser confusas. Puede que quieras evitarlo hasta que estés seguro de lo que estás haciendo. "
   ]
  },
  {
   "cell_type": "markdown",
   "metadata": {},
   "source": [
    "# Ejecución de condicionales\n",
    "\n",
    "Para escribir programas útiles, casi siempre necesitamos la capacidad de comprobar las condiciones y cambiar el comportamiento del programa en consecuencia. Las declaraciones condicionales nos dan esta habilidad. La forma más simple es la declaración de \"si\" o \"if\": "
   ]
  },
  {
   "cell_type": "code",
   "execution_count": null,
   "metadata": {},
   "outputs": [],
   "source": [
    "x = 10\n",
    "if x > 0 :\n",
    "    print('x es positivo')"
   ]
  },
  {
   "cell_type": "markdown",
   "metadata": {},
   "source": [
    "<img src=\"https://i.imgur.com/fiYVRyY.png\">"
   ]
  },
  {
   "cell_type": "markdown",
   "metadata": {},
   "source": [
    "# Ejecución alternativas\n",
    "\n",
    "Una segunda forma de la declaración de **if** es una ejecución alternativa, en la que hay dos posibilidades y la condición determina cuál de ellas se ejecuta. La sintaxis tiene este aspecto: "
   ]
  },
  {
   "cell_type": "code",
   "execution_count": null,
   "metadata": {},
   "outputs": [],
   "source": [
    "x = 10\n",
    "if x%2 == 0 :\n",
    "    print('x es par')\n",
    "else :\n",
    "    print('x es inpar')"
   ]
  },
  {
   "cell_type": "markdown",
   "metadata": {},
   "source": [
    "Si el residuo cuando x se divide por 2 es 0, entonces sabemos que x es par, y el programa muestra un mensaje a tal efecto. Si la condición es falsa, se ejecuta el segundo conjunto de declaraciones. "
   ]
  },
  {
   "cell_type": "markdown",
   "metadata": {},
   "source": [
    "<img src=\"https://i.imgur.com/Ql5qARB.png\">"
   ]
  },
  {
   "cell_type": "markdown",
   "metadata": {},
   "source": [
    "Ya que la condición debe ser verdadera o falsa, se ejecutará exactamente una de las alternativas. Las alternativas se llaman ramas, porque son ramas en el flujo de la ejecución. "
   ]
  },
  {
   "cell_type": "markdown",
   "metadata": {},
   "source": [
    "# Condicionales encadenados"
   ]
  },
  {
   "cell_type": "markdown",
   "metadata": {},
   "source": [
    "A veces hay más de dos posibilidades y necesitamos más de dos ramas. Una forma de expresar un cálculo como ese es un condicional encadenado: "
   ]
  },
  {
   "cell_type": "code",
   "execution_count": null,
   "metadata": {},
   "outputs": [],
   "source": [
    "x=\n",
    "y=\n",
    "\n",
    "if x < y:\n",
    "    print('\"x\" es menor que \"y\"')\n",
    "elif x > y:\n",
    "    print('\"x\" is mayor que \"y\"')\n",
    "else:\n",
    "    print('\"x\" y \"y\" sons iguales')"
   ]
  },
  {
   "cell_type": "markdown",
   "metadata": {},
   "source": [
    "**elif** es una abreviatura de \"else if\". De nuevo, se ejecutará exactamente una rama. No hay límite en el número de declaraciones de elif. Si hay una cláusula \"else if\", tiene que ser al final, pero no tiene que haber una. "
   ]
  },
  {
   "cell_type": "markdown",
   "metadata": {},
   "source": [
    "<img src=\"https://i.imgur.com/1ZWxeGO.png\">"
   ]
  },
  {
   "cell_type": "code",
   "execution_count": null,
   "metadata": {},
   "outputs": [],
   "source": [
    "letra = \n",
    "\n",
    "if letra == 'a':\n",
    "    print('Malas resultado')\n",
    "elif letra == 'b':\n",
    "    print('Buen resultado ')\n",
    "elif letra == 'c':\n",
    "    print('Cerca, pero no es correcto')"
   ]
  },
  {
   "cell_type": "markdown",
   "metadata": {},
   "source": [
    "Cada condición se comprueba en orden. Si la primera es falsa, la siguiente se comprueba, y así sucesivamente. Si una de ellas es verdadera, la rama correspondiente se ejecuta, y la declaración termina. Incluso si más de una condición es cierta, sólo la primera rama verdadera se ejecuta. "
   ]
  },
  {
   "cell_type": "markdown",
   "metadata": {},
   "source": [
    "# Condicionales anidadas"
   ]
  },
  {
   "cell_type": "markdown",
   "metadata": {},
   "source": [
    "Un condicional también puede anidarse dentro de otro. Podríamos haber escrito el ejemplo de las tres ramas así:"
   ]
  },
  {
   "cell_type": "code",
   "execution_count": null,
   "metadata": {},
   "outputs": [],
   "source": [
    "if x == y:\n",
    "    print('x y y son iguales')\n",
    "else:\n",
    "    if x < y:\n",
    "        print('x es menos que y')\n",
    "    else:\n",
    "        print('x es mayor que y')"
   ]
  },
  {
   "cell_type": "markdown",
   "metadata": {},
   "source": [
    "El condicional exterior contiene dos ramas. La primera rama contiene una declaración simple. La segunda rama contiene otra declaración if, que tiene dos ramas propias. Esas dos ramas son ambas declaraciones simples, aunque también podrían haber sido declaraciones condicionales. \n",
    "\n",
    "Aunque la indentación de las declaraciones hace que la estructura sea aparente, los condicionales anidados se vuelven difíciles de leer muy rápidamente. En general, es una buena idea evitarlos cuando se pueda. "
   ]
  },
  {
   "cell_type": "markdown",
   "metadata": {},
   "source": [
    "<img src=\"https://i.imgur.com/pQ56flP.png\">"
   ]
  },
  {
   "cell_type": "markdown",
   "metadata": {},
   "source": [
    "Los operadores lógicos suelen ser una forma de simplificar las declaraciones condicionales anidadas. Por ejemplo, podemos reescribir el siguiente código utilizando un solo condicional: "
   ]
  },
  {
   "cell_type": "code",
   "execution_count": null,
   "metadata": {},
   "outputs": [],
   "source": [
    "if 0 < x:\n",
    "    if x < 10:\n",
    "        print('x es un número positivo de un solo dígito.')"
   ]
  },
  {
   "cell_type": "markdown",
   "metadata": {},
   "source": [
    "La declaración print se ejecuta sólo si pasamos los dos condicionales, para que podamos obtener el mismo efecto con el operador y: "
   ]
  },
  {
   "cell_type": "code",
   "execution_count": null,
   "metadata": {},
   "outputs": [],
   "source": [
    "if 0 < x and x < 10:\n",
    "    print('es un número positivo de un solo dígito')"
   ]
  },
  {
   "cell_type": "markdown",
   "metadata": {},
   "source": [
    "# Try y Except"
   ]
  },
  {
   "cell_type": "code",
   "execution_count": 2,
   "metadata": {},
   "outputs": [
    {
     "name": "stdout",
     "output_type": "stream",
     "text": [
      "Ingrese la temperatura en grados Fahrenheit: 32\n",
      "0.0\n"
     ]
    }
   ],
   "source": [
    "#Para explicar Try y Except utilizaremos de ejemplo una función que convierte la temperatura en grados Fahrenheit a una temperatura en grados Celsius: \n",
    "\n",
    "temperatura_fahr = input('Ingrese la temperatura en grados Fahrenheit: ')\n",
    "fahr = float(temperatura_fahr)\n",
    "cel = (fahr - 32.0) * 5.0 / 9.0\n",
    "print(cel)"
   ]
  },
  {
   "cell_type": "markdown",
   "metadata": {},
   "source": [
    "Si ejecutamos este código y le damos una entrada inválida, simplemente falla con un mensaje de error poco amistoso como por ejemplo ingresando una palabra \"Grado\" en la entrada: "
   ]
  },
  {
   "cell_type": "code",
   "execution_count": 2,
   "metadata": {},
   "outputs": [
    {
     "name": "stdout",
     "output_type": "stream",
     "text": [
      "Ingrese la temperatura en grados Fahrenheit: 101 grados\n"
     ]
    },
    {
     "ename": "ValueError",
     "evalue": "could not convert string to float: '101 grados'",
     "output_type": "error",
     "traceback": [
      "\u001b[1;31m---------------------------------------------------------------------------\u001b[0m",
      "\u001b[1;31mValueError\u001b[0m                                Traceback (most recent call last)",
      "\u001b[1;32m<ipython-input-2-44e1ffdccc92>\u001b[0m in \u001b[0;36m<module>\u001b[1;34m\u001b[0m\n\u001b[0;32m      1\u001b[0m \u001b[0mtemperatura_fahr\u001b[0m \u001b[1;33m=\u001b[0m \u001b[0minput\u001b[0m\u001b[1;33m(\u001b[0m\u001b[1;34m'Ingrese la temperatura en grados Fahrenheit: '\u001b[0m\u001b[1;33m)\u001b[0m\u001b[1;33m\u001b[0m\u001b[1;33m\u001b[0m\u001b[0m\n\u001b[1;32m----> 2\u001b[1;33m \u001b[0mfahr\u001b[0m \u001b[1;33m=\u001b[0m \u001b[0mfloat\u001b[0m\u001b[1;33m(\u001b[0m\u001b[0mtemperatura_fahr\u001b[0m\u001b[1;33m)\u001b[0m\u001b[1;33m\u001b[0m\u001b[1;33m\u001b[0m\u001b[0m\n\u001b[0m\u001b[0;32m      3\u001b[0m \u001b[0mcel\u001b[0m \u001b[1;33m=\u001b[0m \u001b[1;33m(\u001b[0m\u001b[0mfahr\u001b[0m \u001b[1;33m-\u001b[0m \u001b[1;36m32.0\u001b[0m\u001b[1;33m)\u001b[0m \u001b[1;33m*\u001b[0m \u001b[1;36m5.0\u001b[0m \u001b[1;33m/\u001b[0m \u001b[1;36m9.0\u001b[0m\u001b[1;33m\u001b[0m\u001b[1;33m\u001b[0m\u001b[0m\n\u001b[0;32m      4\u001b[0m \u001b[0mprint\u001b[0m\u001b[1;33m(\u001b[0m\u001b[0mcel\u001b[0m\u001b[1;33m)\u001b[0m\u001b[1;33m\u001b[0m\u001b[1;33m\u001b[0m\u001b[0m\n",
      "\u001b[1;31mValueError\u001b[0m: could not convert string to float: '101 grados'"
     ]
    }
   ],
   "source": [
    "temperatura_fahr = input('Ingrese la temperatura en grados Fahrenheit: ')\n",
    "fahr = float(temperatura_fahr)\n",
    "cel = (fahr - 32.0) * 5.0 / 9.0\n",
    "print(cel)"
   ]
  },
  {
   "cell_type": "markdown",
   "metadata": {},
   "source": [
    "Esto ocurre por que cuando el programa detecta un error no pasa a la linea siguiente, sino simplemente se detiene. "
   ]
  },
  {
   "cell_type": "markdown",
   "metadata": {},
   "source": [
    "Hay una estructura de ejecución condicional incorporada en Python para manejar estos tipos de errores esperados e inesperados llamada \"try / except\". La idea de try y except es que se sabe que alguna secuencia de instrucción(es) puede tener un problema y se quiere añadir algunas declaraciones para ser ejecutadas si se produce un error. Estas declaraciones adicionales (el bloque except) se ignoran si no hay ningún error. Puedes pensar en la característica try y except de Python como una \"póliza de seguro\" en una secuencia de declaraciones. \n",
    "\n",
    "Podemos reescribir nuestro convertidor de temperatura de la siguiente manera:"
   ]
  },
  {
   "cell_type": "code",
   "execution_count": 6,
   "metadata": {},
   "outputs": [
    {
     "name": "stdout",
     "output_type": "stream",
     "text": [
      "Enter Fahrenheit Temperature:32\n",
      "Please enter a number\n"
     ]
    }
   ],
   "source": [
    "temperatura_fahr = input('Enter Fahrenheit Temperature:')\n",
    "try:\n",
    "    fahr = float(temperatura_fahr)\n",
    "    cel =  5.0 / (9.0 * (fahr - 32.0))\n",
    "    print(cel)\n",
    "except:\n",
    "    print('Please enter a number')"
   ]
  },
  {
   "cell_type": "markdown",
   "metadata": {},
   "source": [
    "Python comienza ejecutando la secuencia de declaraciones en el bloque de prueba. Si todo va bien, se salta el bloque de excepción y procede. Si se produce una excepción en el bloque de prueba, Python salta del bloque de prueba y ejecuta la secuencia de sentencias en el bloque de excepción. "
   ]
  },
  {
   "cell_type": "markdown",
   "metadata": {},
   "source": [
    "Manejar una excepción con una declaración de intento se llama atrapar una excepción. En este ejemplo, la cláusula \"except\" imprime un mensaje de error. En general, capturar una excepción le da la oportunidad de arreglar el problema, o intentarlo de nuevo, o al menos terminar el programa con gracia. "
   ]
  },
  {
   "cell_type": "markdown",
   "metadata": {},
   "source": [
    "# Evaluación de las expresiones lógicas"
   ]
  },
  {
   "cell_type": "markdown",
   "metadata": {},
   "source": [
    "Cuando Python está procesando una expresión lógica como **x >= 2 and (x/y) > 2**, se evalúa la expresión de izquierda a derecha. Debido a la definición de y, si x es menos de 2, la expresión x >= 2 es Falsa y por lo tanto toda la expresión es Falsa sin importar si (x/y) > 2 evalúa a Verdadero o Falso. \n",
    "\n",
    "Cuando Python detecta que no hay nada que ganar evaluando el resto de una expresión lógica, detiene su evaluación y no hace los cálculos en el resto de la expresión lógica. Cuando la evaluación de una expresión lógica se detiene porque el valor global ya se conoce, se llama cortocircuito de la evaluación.\n",
    "\n",
    "Mientras que esto puede parecer un buen punto, el comportamiento de cortocircuito lleva a una inteligente técnica llamada el patrón del guardián. Considere la siguiente secuencia de códigos en el Intérprete de Python:"
   ]
  },
  {
   "cell_type": "code",
   "execution_count": null,
   "metadata": {},
   "outputs": [],
   "source": [
    "x = 6\n",
    "y = 2\n",
    "\n",
    "x >= 2 and (x/y) > 2"
   ]
  },
  {
   "cell_type": "code",
   "execution_count": null,
   "metadata": {},
   "outputs": [],
   "source": [
    "x = 1\n",
    "y = 0\n",
    "x >= 2 and (x/y) > 2"
   ]
  },
  {
   "cell_type": "code",
   "execution_count": null,
   "metadata": {},
   "outputs": [],
   "source": [
    "x = 6\n",
    "y = 0\n",
    "x >= 2 and (x/y) > 2"
   ]
  },
  {
   "cell_type": "markdown",
   "metadata": {},
   "source": [
    "El tercer cálculo falló porque Python estaba evaluando (x/y) y \"y\" era cero, lo que causa un error de tiempo de ejecución. Pero el segundo ejemplo no falló porque la primera parte de la expresión x >= 2 evaluada da Falso por lo que el (x/y) nunca se ejecutó y no hubo regla de cortocircuito (no hubo error). \n",
    "\n",
    "Podemos construir la expresión lógica para colocar estratégicamente una evaluación del guardia justo antes de la evaluación que podría causar un error de la siguiente manera: "
   ]
  },
  {
   "cell_type": "code",
   "execution_count": null,
   "metadata": {},
   "outputs": [],
   "source": [
    "x = 1\n",
    "y = 0\n",
    "x >= 2 and y != 0 and (x/y) > 2"
   ]
  },
  {
   "cell_type": "code",
   "execution_count": null,
   "metadata": {},
   "outputs": [],
   "source": [
    "x = 6\n",
    "y = 0\n",
    "x >= 2 and y != 0 and (x/y) > 2"
   ]
  },
  {
   "cell_type": "code",
   "execution_count": null,
   "metadata": {},
   "outputs": [],
   "source": [
    "x >= 2 and (x/y) > 2 and y != 0"
   ]
  },
  {
   "cell_type": "markdown",
   "metadata": {},
   "source": [
    "En la primera expresión lógica, x >= 2 es Falso, por lo que la evaluación se detiene en el y. \n",
    "En la segunda expresión lógica, x >= 2 es Verdadero pero y != 0 es Falso por lo que nunca llegamos a (x/y).\n",
    "En la tercera expresión lógica, la y != 0 está después del cálculo (x/y) por lo que la expresión falla con un error.\n",
    "En la segunda expresión, decimos que y != 0 actúa como un guardián para asegurar que sólo ejecutamos (x/y) si y no es cero"
   ]
  },
  {
   "cell_type": "markdown",
   "metadata": {},
   "source": [
    "# Ejemplo Matematico Pereirano\n",
    "Un matemático perezoso desea conocer de manera sencilla la énesima potencia a la cual debe elevar un numero *x* para que de exactamente un numero *y*. Para esto necesita una función que le permita resolver su problema.\n",
    "\n",
    "Desarrolle una función que dados dos número enteros *x* y *y*, calcule si existe un **número entero n** que permita elevar a *x* dé como resultado *y*.\n",
    "\n",
    "Como precaución, cuando *y* sea 1, 0 o un número negativo, siempre se debe retornar False.\n",
    "\n",
    "Nombre de la función:\tpereira_es_potencia\n",
    "\n",
    "Parámetros\n",
    "\n",
    "Nombre|\tTipo|\tDescripción\n",
    "---- | ---- | ----\n",
    "x|\tint|\tNúmero que elevado al número misterioso da *y*\n",
    "y|\tint|\tResultado de elevar x al número misterioso\n",
    "\n",
    "Tipo del retorno|\tDescipción del retorno\n",
    "---- | ----\n",
    "bool |\tValor booleano que indica si existe un número entero que permita elevar x, dando como resultado y"
   ]
  },
  {
   "cell_type": "markdown",
   "metadata": {},
   "source": [
    "# Ejemplo Caliche y los umpa lumpas\n",
    "\n",
    "En la fábrica de chocolates de Caliche, el CTU (Chief Technology Umpa-Lumpa) ha decidido implementar un nuevo sistema de clasificación de chocolates, para facilitar la organización de los mismos. Cada presentación tiene ahora un identificador numérico único. El identificador es un número entero entre 100 y 999, y sirve para clasificar los chocolates de la siguiente manera.\n",
    "\n",
    "Si el número es palíndromo e impar, la presentacion corresponde a un chocolate amargo.\n",
    "\n",
    "Si el número es palíndromo y par, la presentacion corresponde a un chocolate dulce.\n",
    "\n",
    "Si el número es par, pero no palíndromo, la presentación corresponde a un chocolate con canela y clavos.\n",
    "\n",
    "Si el número es impar, pero no palíndromo, la presentacion corresponde a un chocolate bajo en grasa.\n",
    "\n",
    "Escriba una función que ayude al CTU a calcular, dado un identificador único de presentación, a que tipo de chocolate corresponde dicha presentación.\n",
    "\n",
    "Nombre de la función:\tclasificar_chocolate\n",
    "\n",
    "Parámetros\n",
    "\n",
    "Nombre|\tTipo\t|Descripción\n",
    "---- | ---- | ---- \n",
    "id|\tint\t|El identificador de la presentacion cuyo tipo de chocolate se quiere calcular.\n",
    "\n",
    "Tipo del retorno|\tDescipción del retorno\n",
    "---- | ---- \n",
    "str\t| Si el número es Palíndromo e impar, la presentacion corresponde a un chocolate amargo, y se retorna \"BITTER\". Si el número es Palíndromo y par, la presentacion corresponde a un chocolate dulce, y se retorna \"SWEET\". Si el número es par, pero no palíndromo, la presentación corresponde a un chocolate con canela y clavos, y se retorna \"CINNAMON\". Si el número es impar, pero no palíndromo,la presentacion corresponde a un chocolate bajo en grasa, y se retorna \"LIGHT\""
   ]
  },
  {
   "cell_type": "code",
   "execution_count": null,
   "metadata": {},
   "outputs": [],
   "source": [
    "def palidromo(numero:int)->bool:\n",
    "    centena=numero//100\n",
    "    decena=(numero-centena*100)//10\n",
    "    unidad=numero-centena*100-decena*10\n",
    "\n",
    "    if centena == unidad:\n",
    "        resultado = True\n",
    "    else:\n",
    "        resultado = False\n",
    "    return resultado\n",
    "\n",
    "def espar(numero:int)->bool:\n",
    "    if numero % 2 == 0:\n",
    "        resultado = True\n",
    "    else:\n",
    "        resultado = False\n",
    "    return resultado\n",
    "\n",
    "def clasificar_chocolate(codigo:int)->str:\n",
    "    if palidromo(codigo):\n",
    "        if espar(codigo):\n",
    "            resultado = \"SWEET\"\n",
    "        else:\n",
    "            resultado = \"BITTER\"\n",
    "    else:\n",
    "        if espar(codigo):\n",
    "            resultado = \"CINNAMON\"\n",
    "        else:\n",
    "            resultado = \"LIGHT\"\n",
    "    return resultado            \n",
    "\n",
    "print(clasificar_chocolate(123))\n",
    "print(clasificar_chocolate(222))   \n",
    "print(clasificar_chocolate(111))\n",
    "print(clasificar_chocolate(505)) \n",
    "print(clasificar_chocolate(576)) "
   ]
  }
 ],
 "metadata": {
  "kernelspec": {
   "display_name": "Python 3",
   "language": "python",
   "name": "python3"
  },
  "language_info": {
   "codemirror_mode": {
    "name": "ipython",
    "version": 3
   },
   "file_extension": ".py",
   "mimetype": "text/x-python",
   "name": "python",
   "nbconvert_exporter": "python",
   "pygments_lexer": "ipython3",
   "version": "3.7.6"
  }
 },
 "nbformat": 4,
 "nbformat_minor": 4
}

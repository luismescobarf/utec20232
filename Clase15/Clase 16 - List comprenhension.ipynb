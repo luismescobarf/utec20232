{
 "cells": [
  {
   "cell_type": "markdown",
   "metadata": {},
   "source": [
    "## Variables (Semana 1)\n",
    "Cree e imprima una variable x que guarde el valor de entero 4 y una variable y que guarde el número 3"
   ]
  },
  {
   "cell_type": "code",
   "execution_count": 12,
   "metadata": {},
   "outputs": [
    {
     "name": "stdout",
     "output_type": "stream",
     "text": [
      "4\n",
      "3\n"
     ]
    }
   ],
   "source": [
    "x = 4\n",
    "y = 3\n",
    "print(x)\n",
    "print(y)"
   ]
  },
  {
   "cell_type": "markdown",
   "metadata": {},
   "source": [
    "## Operadores\n",
    "Imprima el valor de $x^{2}$"
   ]
  },
  {
   "cell_type": "code",
   "execution_count": 3,
   "metadata": {},
   "outputs": [
    {
     "name": "stdout",
     "output_type": "stream",
     "text": [
      "16\n"
     ]
    }
   ],
   "source": [
    "print(x**2)"
   ]
  },
  {
   "cell_type": "markdown",
   "metadata": {},
   "source": [
    "## Condicionales (Semana 2)\n",
    "Es x divisible (entero) entre y?"
   ]
  },
  {
   "cell_type": "code",
   "execution_count": 4,
   "metadata": {},
   "outputs": [
    {
     "name": "stdout",
     "output_type": "stream",
     "text": [
      "False\n"
     ]
    }
   ],
   "source": [
    "print(x%y == 0)"
   ]
  },
  {
   "cell_type": "markdown",
   "metadata": {},
   "source": [
    "## Recorridos (Semana 3)\n",
    "Imprima los números del 4 al 30, de 2 en 2."
   ]
  },
  {
   "cell_type": "code",
   "execution_count": 6,
   "metadata": {},
   "outputs": [
    {
     "name": "stdout",
     "output_type": "stream",
     "text": [
      "4\n",
      "6\n",
      "8\n",
      "10\n",
      "12\n",
      "14\n",
      "16\n",
      "18\n",
      "20\n",
      "22\n",
      "24\n",
      "26\n",
      "28\n",
      "30\n"
     ]
    }
   ],
   "source": [
    "for numero in range(4, 31, 2):\n",
    "    print(numero)"
   ]
  },
  {
   "cell_type": "markdown",
   "metadata": {},
   "source": [
    "## Estructuras de datos"
   ]
  },
  {
   "cell_type": "markdown",
   "metadata": {},
   "source": [
    "Cree una lista con los numeros del 4 al 30, de 2 en 2."
   ]
  },
  {
   "cell_type": "code",
   "execution_count": 33,
   "metadata": {},
   "outputs": [
    {
     "name": "stdout",
     "output_type": "stream",
     "text": [
      "[4, 6, 8, 10, 12, 14, 16, 18, 20, 22, 24, 26, 28, 30]\n"
     ]
    }
   ],
   "source": [
    "mi_lista = []\n",
    "for numero in range(4,31,2):\n",
    "    mi_lista.append(numero)\n",
    "    \n",
    "print(mi_lista)"
   ]
  },
  {
   "cell_type": "markdown",
   "metadata": {},
   "source": [
    "## Usando todo lo anterior.\n",
    "Cree una lista con cuadrados de los números, de dos en dos, del 4 al 30, que son divisibles entre 3."
   ]
  },
  {
   "cell_type": "code",
   "execution_count": 1,
   "metadata": {},
   "outputs": [
    {
     "name": "stdout",
     "output_type": "stream",
     "text": [
      "[36, 144, 324, 576, 900]\n"
     ]
    }
   ],
   "source": [
    "mi_lista = []\n",
    "for x in range(4, 31, 2):\n",
    "    if x%3 == 0:\n",
    "        mi_lista.append(x**2)\n",
    "\n",
    "print(mi_lista)"
   ]
  },
  {
   "cell_type": "markdown",
   "metadata": {},
   "source": [
    "Cree un diccionario en el que las llaves sean una tupla entre los números del 3 al 10 y su respectivo cubo. Y dónde los valores sean las listas con los cuadrados de los números de dos en dos, entre el 4 y el 30, que son divisibles enteros con el primer elemento de su llave correspondiente."
   ]
  },
  {
   "cell_type": "code",
   "execution_count": 3,
   "metadata": {},
   "outputs": [
    {
     "name": "stdout",
     "output_type": "stream",
     "text": [
      "{(3, 27): [36, 144, 324, 576, 900], (4, 64): [16, 64, 144, 256, 400, 576, 784], (5, 125): [100, 400, 900], (6, 216): [36, 144, 324, 576, 900], (7, 343): [196, 784], (8, 512): [64, 256, 576], (9, 729): [324], (10, 1000): [100, 400, 900]}\n"
     ]
    }
   ],
   "source": [
    "mi_diccionario = dict()\n",
    "for y in range(3, 11):\n",
    "    mi_diccionario[(y, y**3)] = []\n",
    "    for x in range(4, 31, 2):\n",
    "        if x%y == 0:\n",
    "            mi_diccionario[(y, y**3)].append(x**2)\n",
    "\n",
    "print(mi_diccionario)"
   ]
  },
  {
   "cell_type": "markdown",
   "metadata": {},
   "source": [
    "## Y ahora... ¡Python! (Semana 4)\n",
    "Cree nuevamente la lista y el diccionario anterior, en una sola linea.\n",
    "\n",
    "Cree una lista con cuadrados de los números, de dos en dos, del 4 al 30, que son divisibles entre 3."
   ]
  },
  {
   "cell_type": "code",
   "execution_count": 2,
   "metadata": {},
   "outputs": [
    {
     "name": "stdout",
     "output_type": "stream",
     "text": [
      "[36, 144, 324, 576, 900]\n"
     ]
    }
   ],
   "source": [
    "mi_lista = [ x**2 for x in range(4,31,2) if x%3 == 0 ]\n",
    "print(mi_lista)"
   ]
  },
  {
   "cell_type": "markdown",
   "metadata": {},
   "source": [
    "Cree un diccionario en el que las llaves sean una tupla entre los números del 3 al 10 y su respectivo cubo. Y dónde los valores sean las listas con los cuadrados de los números de dos en dos, entre el 4 y el 30, que son divisibles enteros con el primer elemento de su llave correspondiente."
   ]
  },
  {
   "cell_type": "code",
   "execution_count": 35,
   "metadata": {},
   "outputs": [
    {
     "name": "stdout",
     "output_type": "stream",
     "text": [
      "{(3, 27): [36, 144, 324, 576, 900], (4, 64): [16, 64, 144, 256, 400, 576, 784], (5, 125): [100, 400, 900], (6, 216): [36, 144, 324, 576, 900], (7, 343): [196, 784], (8, 512): [64, 256, 576], (9, 729): [324], (10, 1000): [100, 400, 900]}\n"
     ]
    }
   ],
   "source": [
    "mi_diccionario = { (x, x**3) : [ y**2 for y in range(4, 31, 2) if y%x == 0 ] for x in range(3,11) } \n",
    "print(mi_diccionario)"
   ]
  },
  {
   "cell_type": "markdown",
   "metadata": {},
   "source": [
    "# List Comprenhension"
   ]
  },
  {
   "cell_type": "markdown",
   "metadata": {},
   "source": [
    "La comprensión de listas es una forma elegante, muy \"pythonica\" de definir y crear elementos, basandose en la evaluacion de expresiones sintácticas de alto nivel y permitiendole al usuario simplificar el uso de variables, ciclos y condicionales. ¡Se lee cómo si fuera lingüistica inglesa!\n",
    "\n",
    "Si el ejemplo anterior fué mucho, muy rápido. Devolvámonos un poco a los primeros que hicimos el día de hoy."
   ]
  },
  {
   "cell_type": "markdown",
   "metadata": {},
   "source": [
    "Imprima una lista con los numeros del 4 al 30, de 2 en 2"
   ]
  },
  {
   "cell_type": "code",
   "execution_count": 36,
   "metadata": {},
   "outputs": [
    {
     "name": "stdout",
     "output_type": "stream",
     "text": [
      "[4, 6, 8, 10, 12, 14, 16, 18, 20, 22, 24, 26, 28, 30]\n"
     ]
    }
   ],
   "source": [
    "print( [ x for x in range(4, 31, 2)] )"
   ]
  },
  {
   "cell_type": "markdown",
   "metadata": {},
   "source": [
    "Imprima una lista con los cuadrados numeros del 4 al 30, de 2 en 2, que son divisibles entre 3."
   ]
  },
  {
   "cell_type": "code",
   "execution_count": 39,
   "metadata": {},
   "outputs": [
    {
     "name": "stdout",
     "output_type": "stream",
     "text": [
      "[36, 144, 324, 576, 900]\n"
     ]
    }
   ],
   "source": [
    "print( [ x**2 for x in range(4, 31, 2) if x%3 == 0 ] )"
   ]
  },
  {
   "cell_type": "markdown",
   "metadata": {},
   "source": [
    "¡Volvamos a crear el diccionario de arriba!. Recordemos el requerimiento: \"Cree un diccionario en el que las llaves sean una tupla entre los números del 3 al 10 y su respectivo cubo. Y dónde los valores sean las listas con los cuadrados de los números de dos en dos, entre el 4 y el 30, que son divisibles enteros con el primer elemento de su llave correspondiente.\""
   ]
  },
  {
   "cell_type": "code",
   "execution_count": null,
   "metadata": {},
   "outputs": [],
   "source": []
  },
  {
   "cell_type": "markdown",
   "metadata": {},
   "source": [
    "## Legíbilidad, sencillez y poder.\n",
    "Son los adjetivos que mejor describen la filosofía de Python. De esta forma y gracias al alto nivel del lenguaje, podemos implementar algoritmos o funciones complejas, de forma muy sencilla que incluso se lea sintácticamente casi cómo si fuera un texto en inglés. ¿Código? ¿Qué es eso?.\n",
    "\n",
    "¡Intentémoslo!"
   ]
  },
  {
   "cell_type": "markdown",
   "metadata": {},
   "source": [
    "## El algoritmo de Dijkstra"
   ]
  },
  {
   "cell_type": "markdown",
   "metadata": {},
   "source": [
    "El algoritmo de Dijkstra, también llamado algoritmo de caminos mínimos, es un algoritmo para la determinación del camino más corto, dado un vértice origen, hacia el resto de los vértices en un grafo que tiene pesos en cada arista. Su nombre alude a Edsger Dijkstra, científico de la computación de los Países Bajos que lo describió por primera vez en 1959. (Tomado de: wikipedia)"
   ]
  },
  {
   "cell_type": "markdown",
   "metadata": {},
   "source": [
    "<img src =\"https://upload.wikimedia.org/wikipedia/commons/5/57/Dijkstra_Animation.gif\">"
   ]
  },
  {
   "cell_type": "markdown",
   "metadata": {},
   "source": [
    "Primero veamos un ejemplo a mano: https://www.youtube.com/watch?v=pVfj6mxhdMw\n",
    "\n",
    "Y la descripción del algoritmo que encontramos al final del video, ligeramente modificada para este curso:"
   ]
  },
  {
   "cell_type": "code",
   "execution_count": null,
   "metadata": {},
   "outputs": [],
   "source": [
    "# Algoritmo Dijkstra(unvisited set, distances information, neighbours information, start vertex):\n",
    "    \n",
    "    # Let distance of start vertex from start = 0. Let distance of all other vertices = infinity.\n",
    "    # Let the previous node be unknown(none) for every vertex\n",
    "    \n",
    "    # Repeat until there are no vertices left to visit:\n",
    "\n",
    "        # Visit the unvisited vertex with the smallest known distance from the start vertex\n",
    "        # For the current vertex, calculate the distance from the visited vertex to each of its unvisited neighbours\n",
    "        # Update predecesors and known distances if the calculated distance is less than the known distance.\n",
    "        # Remove the current vertex (visited) from the unvisited set.\n",
    "\n",
    "    # Return the best known distances and their corresponing previous nodes\n",
    "    "
   ]
  },
  {
   "cell_type": "markdown",
   "metadata": {},
   "source": [
    "Implementemos el algoritmo de Dijkstra, no solo en código, sino en python."
   ]
  },
  {
   "cell_type": "code",
   "execution_count": 18,
   "metadata": {},
   "outputs": [
    {
     "data": {
      "text/plain": [
       "(1, 'D')"
      ]
     },
     "execution_count": 18,
     "metadata": {},
     "output_type": "execute_result"
    }
   ],
   "source": [
    "min([ (6, 'B'), (float('inf'),'C'), (1, 'D'), (float('inf'),'E')  ])\n"
   ]
  },
  {
   "cell_type": "code",
   "execution_count": 40,
   "metadata": {},
   "outputs": [],
   "source": [
    "def dijkstra(unvisited: set, distances: dict, neighbours: dict, start: str) -> tuple:\n",
    "\n",
    "    # Let distance of start vertex from start = 0. Let distance of all other vertices = infinity.\n",
    "    known = { vertex: 0 if vertex == start else float('inf') for vertex in unvisited }\n",
    "\n",
    "    # Let the previous node be unknown(none) for every vertex\n",
    "    previous = {vertex: None for vertex in unvisited}\n",
    "\n",
    "    # Repeat until there are no vertices left to visit\n",
    "    while len(unvisited) > 0:\n",
    "\n",
    "        # Visit the unvisited vertex with the smallest known distance from the start vertex\n",
    "        distance, visit = min( [ (known[candidate], candidate) for candidate in unvisited] )\n",
    "        # For the current vertex, calculate the distance from the visited vertex to each of its neighbours\n",
    "        calculated = {neighbour: distance + distances[visit, neighbour] for neighbour in neighbours[visit]}\n",
    "\n",
    "        # Update previous and known distances if the calculated distance is less than the known distance.\n",
    "        previous.update( {vertex: visit if calculated[vertex] < known[vertex] else previous[vertex] for vertex in neighbours[visit]} )\n",
    "        known.update( {vertex: calculated[vertex] if calculated[vertex] < known[vertex] else known[vertex] for vertex in neighbours[visit] })\n",
    "\n",
    "        # Remove the current vertex (visited) from the unvisited set.\n",
    "        unvisited.remove(visit)\n",
    "\n",
    "    # Return the best known distances and their corresponing previous nodes\n",
    "    return known, previous\n"
   ]
  },
  {
   "cell_type": "code",
   "execution_count": 41,
   "metadata": {},
   "outputs": [
    {
     "name": "stdout",
     "output_type": "stream",
     "text": [
      "Distancias minimas: \n",
      " [('A', 0), ('B', 3), ('C', 7), ('D', 1), ('E', 2)] \n",
      "Predecesores: \n",
      " [('A', None), ('B', 'D'), ('C', 'E'), ('D', 'A'), ('E', 'D')]\n"
     ]
    }
   ],
   "source": [
    "unvisited = {'A', 'B', 'C', 'D', 'E', 'C'}\n",
    "\n",
    "distances = {('A', 'B'): 6, ('A', 'D'): 1, ('B', 'C'): 5, ('B', 'D'): 2, ('B', 'E'):2, ('D', 'E'): 1, ('E','C'): 5,\n",
    "             ('B', 'A'): 6, ('D', 'A'): 1, ('C', 'B'): 5, ('D', 'B'): 2, ('E', 'B'):2, ('E', 'D'): 1, ('C','E'): 5}\n",
    "\n",
    "neighbours = {\n",
    "                'A': ['B', 'D'],\n",
    "                'B': ['A', 'D', 'E', 'C'],\n",
    "                'C': ['B', 'E'],\n",
    "                'D': ['A', 'B', 'E'],\n",
    "                'E': ['D', 'B', 'C']\n",
    "              }\n",
    "\n",
    "minimas, predecesores = dijkstra(unvisited, distances, neighbours, 'A')\n",
    "minimas, predecesores = sorted(minimas.items()), sorted(predecesores.items())\n",
    "print('Distancias minimas: \\n {} \\nPredecesores: \\n {}'.format(minimas, predecesores))"
   ]
  },
  {
   "cell_type": "markdown",
   "metadata": {},
   "source": [
    "## Para pensar...\n",
    "\n",
    "Si la función Dijkstra solo recibiera el diccionario con las distancias y el nodo inicial. cómo calcularía las demás entradas usando comprensión de listas? (no visitados, vecinos)"
   ]
  }
 ],
 "metadata": {
  "kernelspec": {
   "display_name": "Python 3 (ipykernel)",
   "language": "python",
   "name": "python3"
  },
  "language_info": {
   "codemirror_mode": {
    "name": "ipython",
    "version": 3
   },
   "file_extension": ".py",
   "mimetype": "text/x-python",
   "name": "python",
   "nbconvert_exporter": "python",
   "pygments_lexer": "ipython3",
   "version": "3.11.3"
  }
 },
 "nbformat": 4,
 "nbformat_minor": 4
}

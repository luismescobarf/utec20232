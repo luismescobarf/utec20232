{
 "cells": [
  {
   "cell_type": "code",
   "execution_count": 70,
   "metadata": {},
   "outputs": [
    {
     "data": {
      "text/plain": [
       "True"
      ]
     },
     "execution_count": 70,
     "metadata": {},
     "output_type": "execute_result"
    }
   ],
   "source": [
    "('A', 100) < ('B', 0)"
   ]
  },
  {
   "cell_type": "markdown",
   "metadata": {},
   "source": [
    "# Tuplas\n",
    "\n",
    "**Las tuplas son inmutables**\n",
    "\n",
    "Una tupla es una secuencia de valores muy parecida a una lista. Los valores almacenados en una tupla pueden ser de cualquier tipo, y están indexados por números enteros. La diferencia importante es que las tuplas son inmutables. Las tuplas también son comparables y hashables, por lo que podemos ordenar listas de ellas y utilizar las tuplas como valores clave en los diccionarios de Python. \n",
    "\n",
    "Sintácticamente, una tupla es una lista de valores separada por comas:"
   ]
  },
  {
   "cell_type": "code",
   "execution_count": 1,
   "metadata": {},
   "outputs": [],
   "source": [
    "t = 'a', 'b', 'c', 'd', 'e'"
   ]
  },
  {
   "cell_type": "markdown",
   "metadata": {},
   "source": [
    "Aunque no es necesario, es común encerrar las tuplas entre paréntesis para ayudarnos a identificar rápidamente las tuplas cuando miramos el código de Python: "
   ]
  },
  {
   "cell_type": "code",
   "execution_count": 2,
   "metadata": {},
   "outputs": [
    {
     "name": "stdout",
     "output_type": "stream",
     "text": [
      "('esto es una cadena', 'b', 'c', 'd', 'e')\n"
     ]
    },
    {
     "data": {
      "text/plain": [
       "'esto es una cadena'"
      ]
     },
     "execution_count": 2,
     "metadata": {},
     "output_type": "execute_result"
    }
   ],
   "source": [
    "t = ('esto es una cadena', 'b', 'c', 'd', 'e')\n",
    "print(t)\n",
    "t[0]"
   ]
  },
  {
   "cell_type": "markdown",
   "metadata": {},
   "source": [
    "Para crear una tupla con un solo elemento, hay que incluir la coma final: "
   ]
  },
  {
   "cell_type": "code",
   "execution_count": 3,
   "metadata": {},
   "outputs": [
    {
     "data": {
      "text/plain": [
       "tuple"
      ]
     },
     "execution_count": 3,
     "metadata": {},
     "output_type": "execute_result"
    }
   ],
   "source": [
    "t1 = ('a',)\n",
    "type(t1)"
   ]
  },
  {
   "cell_type": "markdown",
   "metadata": {},
   "source": [
    "Sin la coma Python trata ('a') como una expresión con una cadena entre paréntesis que evalúa a una cadena: "
   ]
  },
  {
   "cell_type": "code",
   "execution_count": 4,
   "metadata": {},
   "outputs": [
    {
     "data": {
      "text/plain": [
       "str"
      ]
     },
     "execution_count": 4,
     "metadata": {},
     "output_type": "execute_result"
    }
   ],
   "source": [
    "t2 = ('a')\n",
    "type(t2)"
   ]
  },
  {
   "cell_type": "markdown",
   "metadata": {},
   "source": [
    "Otra forma de construir una tupla es la tupla de función incorporada. Sin ningún argumento, crea una tupla vacía: "
   ]
  },
  {
   "cell_type": "code",
   "execution_count": 5,
   "metadata": {},
   "outputs": [
    {
     "name": "stdout",
     "output_type": "stream",
     "text": [
      "<class 'tuple'>\n"
     ]
    }
   ],
   "source": [
    "t = tuple()\n",
    "print(type(t))"
   ]
  },
  {
   "cell_type": "markdown",
   "metadata": {},
   "source": [
    "Si el argumento es una secuencia (cadena, lista o tupla), el resultado de la llamada a la tupla es una tupla con los elementos de la secuencia:"
   ]
  },
  {
   "cell_type": "code",
   "execution_count": 6,
   "metadata": {},
   "outputs": [
    {
     "name": "stdout",
     "output_type": "stream",
     "text": [
      "('l', 'u', 'p', 'i', 'n', 'e', 's')\n"
     ]
    }
   ],
   "source": [
    "t = tuple('lupines')\n",
    "print(t)"
   ]
  },
  {
   "cell_type": "markdown",
   "metadata": {},
   "source": [
    "Debido a que tupla es el nombre de un constructor, debes evitar usarlo como un nombre de variable.\n",
    "\n",
    "La mayoría de los operadores de listas también trabajan con tuplas. El operador de corchetes indexa un elemento: "
   ]
  },
  {
   "cell_type": "code",
   "execution_count": 7,
   "metadata": {},
   "outputs": [
    {
     "name": "stdout",
     "output_type": "stream",
     "text": [
      "('a', 'b', 'c', 'd', 'e')\n"
     ]
    }
   ],
   "source": [
    "t = ('a', 'b', 'c', 'd', 'e')\n",
    "print(t)"
   ]
  },
  {
   "cell_type": "markdown",
   "metadata": {},
   "source": [
    "Y el operador de rebanadas selecciona una serie de elementos."
   ]
  },
  {
   "cell_type": "code",
   "execution_count": 8,
   "metadata": {},
   "outputs": [
    {
     "name": "stdout",
     "output_type": "stream",
     "text": [
      "('b', 'c')\n"
     ]
    }
   ],
   "source": [
    "print(t[1:3])"
   ]
  },
  {
   "cell_type": "markdown",
   "metadata": {},
   "source": [
    "Pero si intentas modificar uno de los elementos de la tupla, obtienes un error: "
   ]
  },
  {
   "cell_type": "code",
   "execution_count": 9,
   "metadata": {},
   "outputs": [
    {
     "ename": "TypeError",
     "evalue": "'tuple' object does not support item assignment",
     "output_type": "error",
     "traceback": [
      "\u001b[1;31m---------------------------------------------------------------------------\u001b[0m",
      "\u001b[1;31mTypeError\u001b[0m                                 Traceback (most recent call last)",
      "\u001b[1;32m<ipython-input-9-7e674cdf20e6>\u001b[0m in \u001b[0;36m<module>\u001b[1;34m\u001b[0m\n\u001b[1;32m----> 1\u001b[1;33m \u001b[0mt\u001b[0m\u001b[1;33m[\u001b[0m\u001b[1;36m0\u001b[0m\u001b[1;33m]\u001b[0m \u001b[1;33m=\u001b[0m \u001b[1;34m'A'\u001b[0m\u001b[1;33m\u001b[0m\u001b[1;33m\u001b[0m\u001b[0m\n\u001b[0m",
      "\u001b[1;31mTypeError\u001b[0m: 'tuple' object does not support item assignment"
     ]
    }
   ],
   "source": [
    "t[0] = 'A'"
   ]
  },
  {
   "cell_type": "markdown",
   "metadata": {},
   "source": [
    "No se pueden modificar los elementos de una tupla, pero se puede reemplazar una tupla por otra:"
   ]
  },
  {
   "cell_type": "code",
   "execution_count": null,
   "metadata": {},
   "outputs": [],
   "source": [
    "t = ('A',) + t[1:]\n",
    "print(t)"
   ]
  },
  {
   "cell_type": "markdown",
   "metadata": {},
   "source": [
    "# Comparando tuplas\n",
    "\n",
    "Los operadores de comparación trabajan con tuplas y otras secuencias. Python comienza comparando el primer elemento de cada secuencia. Si son iguales, pasa al siguiente elemento, y así sucesivamente, hasta encontrar elementos que difieren. Los elementos subsiguientes no se consideran (aunque sean realmente grandes). "
   ]
  },
  {
   "cell_type": "code",
   "execution_count": null,
   "metadata": {},
   "outputs": [],
   "source": [
    "(0, 1, 2) < (0, 3, 4)"
   ]
  },
  {
   "cell_type": "code",
   "execution_count": null,
   "metadata": {},
   "outputs": [],
   "source": [
    "(0, 1, 2000000) < (0, 3, 4)"
   ]
  },
  {
   "cell_type": "markdown",
   "metadata": {},
   "source": [
    "La función de **sort** funciona de la misma manera. Se ordena principalmente por el primer elemento, pero en el caso de un empate, se clasifica por el segundo elemento, y así sucesivamente.\n",
    "\n",
    "Esta característica se presta a un patrón llamado DSU\n",
    "\n",
    "**Decorate**: ordenar una secuencia construyendo una lista de tuplas con una o más claves de clasificación que preceden a los elementos de la secuencia,\n",
    "\n",
    "**Sort**: Ordena la lista de tuplas usando la clasificación incorporada de Python, y\n",
    "\n",
    "**Undecorate** desordena la lista extrayendo los elementos ordenados de la secuencia.\n",
    "\n",
    "Por ejemplo, supongamos que tienes una lista de palabras y quieres ordenarlas de más a menos:"
   ]
  },
  {
   "cell_type": "code",
   "execution_count": null,
   "metadata": {},
   "outputs": [],
   "source": [
    "txt = \"but soft what light in yonder window breaks\"\n",
    "palabras = txt.split()\n",
    "palabras"
   ]
  },
  {
   "cell_type": "code",
   "execution_count": null,
   "metadata": {},
   "outputs": [],
   "source": [
    "l = list()\n",
    "for subcadena in palabras:\n",
    "    l.append((len(subcadena), subcadena))\n",
    "print(l)"
   ]
  },
  {
   "cell_type": "code",
   "execution_count": null,
   "metadata": {},
   "outputs": [],
   "source": [
    "l.sort(reverse=True)\n",
    "print(l)\n",
    "\n",
    "res = list()\n",
    "\n",
    "for longitud, palabra in l:\n",
    "    res.append(palabra)\n",
    "    \n",
    "print(res)"
   ]
  },
  {
   "cell_type": "markdown",
   "metadata": {},
   "source": [
    "El primer bucle construye una lista de tuplas, donde cada tupla es una palabra precedida por su longitud.\n",
    "\n",
    "La función sort compara el primer elemento, la longitud, primero, y sólo considera el segundo elemento para romper los empates. El argumento de la palabra clave reverse=True le dice a sort que vaya en orden decreciente.\n",
    "\n",
    "El segundo bucle atraviesa la lista de tuplas y construye una lista de palabras en orden descendente de longitud. Las palabras de cuatro caracteres se ordenan en orden alfabético inverso, así que \"what\" aparece antes de \"soft\" en la siguiente lista. El resultado del programa es el siguiente:"
   ]
  },
  {
   "cell_type": "markdown",
   "metadata": {},
   "source": [
    "['yonder', 'window', 'breaks', 'light', 'what', 'soft', 'but', 'in']\n",
    "\n",
    "Por supuesto, la línea pierde mucho de su impacto poético cuando se convierte en una lista Python y se ordena en orden descendente de longitud de palabra. "
   ]
  },
  {
   "cell_type": "markdown",
   "metadata": {},
   "source": [
    "# Asignación de tupla\n",
    "\n",
    "Una de las características sintácticas únicas del lenguaje Python es la capacidad de tener una tupla en el lado izquierdo de una declaración de asignación. Esto permite asignar más de una variable a la vez cuando el lado izquierdo es una secuencia.\n",
    "\n",
    "En este ejemplo tenemos una lista de dos elementos (que es una secuencia) y asignamos el primer y segundo elemento de la secuencia a las variables x e y en una única sentencia. "
   ]
  },
  {
   "cell_type": "code",
   "execution_count": null,
   "metadata": {},
   "outputs": [],
   "source": [
    "m = ['have', 'fun']\n",
    "x, y = m\n"
   ]
  },
  {
   "cell_type": "code",
   "execution_count": null,
   "metadata": {},
   "outputs": [],
   "source": [
    "print(x)\n",
    "print(y)"
   ]
  },
  {
   "cell_type": "markdown",
   "metadata": {},
   "source": [
    "No es magia, Python traduce aproximadamente la sintaxis de la asignación de tupla como la siguiente:"
   ]
  },
  {
   "cell_type": "code",
   "execution_count": null,
   "metadata": {},
   "outputs": [],
   "source": [
    "m = ['have', 'fun']\n",
    "x = m[0]\n",
    "y = m[1]"
   ]
  },
  {
   "cell_type": "code",
   "execution_count": null,
   "metadata": {},
   "outputs": [],
   "source": [
    "print(x)\n",
    "print(y)\n",
    "print(type(m))"
   ]
  },
  {
   "cell_type": "markdown",
   "metadata": {},
   "source": [
    "Cuando usamos una tupla en el lado izquierdo de la declaración de asignación, omitimos los paréntesis, pero la siguiente es una sintaxis igualmente válida:"
   ]
  },
  {
   "cell_type": "code",
   "execution_count": null,
   "metadata": {},
   "outputs": [],
   "source": [
    "m = [ 'have', 'fun' ]\n",
    "(x, y) = m\n",
    "print(type(x))"
   ]
  },
  {
   "cell_type": "code",
   "execution_count": null,
   "metadata": {},
   "outputs": [],
   "source": [
    "print(x)\n",
    "print(y)"
   ]
  },
  {
   "cell_type": "markdown",
   "metadata": {},
   "source": [
    "Una aplicación particularmente inteligente de la asignación de tupla nos permite intercambiar los valores de dos variables en una sola declaración:"
   ]
  },
  {
   "cell_type": "code",
   "execution_count": null,
   "metadata": {},
   "outputs": [],
   "source": [
    "b=15\n",
    "a=\"carro\"\n",
    "a, b = b, a\n",
    "print(a)\n",
    "print(b)\n",
    "print(type(a))\n",
    "print(type(b))"
   ]
  },
  {
   "cell_type": "markdown",
   "metadata": {},
   "source": [
    "Ambos lados de esta declaración son tuplas, pero el lado izquierdo es una tupla de variables; el lado derecho es una tupla de expresiones. Cada valor del lado derecho se asigna a su respectiva variable del lado izquierdo. Todas las expresiones del lado derecho se evalúan antes de cualquiera de las asignaciones.\n",
    "\n",
    "El número de variables de la izquierda y el número de valores de la derecha deben ser iguales: "
   ]
  },
  {
   "cell_type": "code",
   "execution_count": null,
   "metadata": {},
   "outputs": [],
   "source": [
    "a, b = 1, 2"
   ]
  },
  {
   "cell_type": "markdown",
   "metadata": {},
   "source": [
    "En general, el lado derecho puede ser cualquier tipo de secuencia (cadena, lista o tupla). \n",
    "Por ejemplo, para dividir una dirección de correo electrónico en un nombre de usuario y un dominio, se podría escribir:"
   ]
  },
  {
   "cell_type": "code",
   "execution_count": null,
   "metadata": {},
   "outputs": [],
   "source": [
    "addr = 'monty@python.org'\n",
    "uname, domain = addr.split('@')"
   ]
  },
  {
   "cell_type": "markdown",
   "metadata": {},
   "source": [
    "El valor de retorno de la división es una lista con dos elementos; el primer elemento se asigna a uname, el segundo a dominio."
   ]
  },
  {
   "cell_type": "code",
   "execution_count": null,
   "metadata": {},
   "outputs": [],
   "source": [
    "print(uname)\n",
    "print(domain)"
   ]
  },
  {
   "cell_type": "markdown",
   "metadata": {},
   "source": [
    "# Diccionarios y tuplas\n",
    "\n",
    "Los diccionarios tienen un método llamado elementos que devuelve una lista de tuplas, en la que cada tupla es un par clave-valor:"
   ]
  },
  {
   "cell_type": "code",
   "execution_count": null,
   "metadata": {},
   "outputs": [],
   "source": [
    "d = {'a':10, 'b':1, 'c':22}\n",
    "t = list(d.items())\n",
    "print(t)"
   ]
  },
  {
   "cell_type": "markdown",
   "metadata": {},
   "source": [
    "Como es de esperar de un diccionario, los artículos no están en un orden particular. \n",
    "\n",
    "Sin embargo, como la lista de tuplas es una lista, y las tuplas son comparables, podemos ahora ordenar la lista de tuplas. Convertir un diccionario en una lista de tuplas es una forma de obtener el contenido de un diccionario ordenado por clave: "
   ]
  },
  {
   "cell_type": "code",
   "execution_count": null,
   "metadata": {},
   "outputs": [],
   "source": [
    "d = {'c':10, 'b':1, 'a':22}\n",
    "t = list(d.items())\n",
    "print(t)"
   ]
  },
  {
   "cell_type": "code",
   "execution_count": null,
   "metadata": {},
   "outputs": [],
   "source": [
    "t.sort()\n",
    "print(t)\n",
    "print(type(t[0]))"
   ]
  },
  {
   "cell_type": "markdown",
   "metadata": {},
   "source": [
    "La nueva lista está ordenada en orden alfabético ascendente por el valor clave."
   ]
  },
  {
   "cell_type": "markdown",
   "metadata": {},
   "source": [
    "# Usando tuplas como claves en los diccionarios\n",
    "\n",
    "Debido a que las tuplas son hashable y las listas no, si queremos crear una clave compuesta para usar en un diccionario debemos usar una tupla como clave.\n",
    "\n",
    "Nos encontraríamos con una clave compuesta si quisiéramos crear un directorio telefónico que mapee desde pares de apellidos y nombres a números de teléfono. Asumiendo que hemos definido las variables apellido, nombre y número, podríamos escribir una declaración de asignación de diccionario como sigue:"
   ]
  },
  {
   "cell_type": "code",
   "execution_count": null,
   "metadata": {},
   "outputs": [],
   "source": [
    "directory[apellido,nombre] = numero"
   ]
  },
  {
   "cell_type": "markdown",
   "metadata": {},
   "source": [
    "La expresión entre paréntesis es una tupla. Podríamos usar la asignación de la tupla en un bucle de for para atravesar este diccionario. "
   ]
  },
  {
   "cell_type": "code",
   "execution_count": null,
   "metadata": {},
   "outputs": [],
   "source": [
    "for last, first in directory:\n",
    "    print(first, last, directory[last,first])"
   ]
  },
  {
   "cell_type": "markdown",
   "metadata": {},
   "source": [
    "Este bucle atraviesa las teclas del directorio, que son tuplas. Asigna los elementos de cada tupla al último y al primero, y luego imprime el nombre y el número de teléfono correspondiente. "
   ]
  },
  {
   "cell_type": "markdown",
   "metadata": {},
   "source": [
    "# Métodos\n",
    "\n",
    "# count()\n",
    "\n",
    "Este método recibe un elemento como argumento, y cuenta la cantidad de veces que aparece en la tupla."
   ]
  },
  {
   "cell_type": "code",
   "execution_count": null,
   "metadata": {},
   "outputs": [],
   "source": [
    "valores = (\"Python\", 5,5,True, \"Zope\", 5)\n",
    "print(\"True ->\", valores.count(True))"
   ]
  },
  {
   "cell_type": "code",
   "execution_count": null,
   "metadata": {},
   "outputs": [],
   "source": [
    "print(\"'Zope' ->\", valores.count('Zope'))"
   ]
  },
  {
   "cell_type": "code",
   "execution_count": null,
   "metadata": {},
   "outputs": [],
   "source": [
    "print(\"5 ->\", valores.count(5))"
   ]
  },
  {
   "cell_type": "markdown",
   "metadata": {},
   "source": [
    "# index()\n",
    "\n",
    "Comparte el mismo método index() del tipo lista. Este método recibe un elemento como argumento, y devuelve el índice de su primera aparición en la tupla."
   ]
  },
  {
   "cell_type": "code",
   "execution_count": null,
   "metadata": {},
   "outputs": [],
   "source": [
    "valores = (\"Python\", 5, True, \"Zope\", 5)"
   ]
  },
  {
   "cell_type": "code",
   "execution_count": null,
   "metadata": {},
   "outputs": [],
   "source": [
    "print(valores.index(True))"
   ]
  },
  {
   "cell_type": "code",
   "execution_count": null,
   "metadata": {},
   "outputs": [],
   "source": [
    "print(valores.index(5))"
   ]
  },
  {
   "cell_type": "markdown",
   "metadata": {},
   "source": [
    "El método devuelve un excepción ValueError si el elemento no se encuentra en la tupla, o en el entorno definido."
   ]
  },
  {
   "cell_type": "code",
   "execution_count": null,
   "metadata": {},
   "outputs": [],
   "source": [
    "valores = (\"Python\", True, \"Zope\", 5)\n",
    "print(valores.index(4))"
   ]
  },
  {
   "cell_type": "markdown",
   "metadata": {},
   "source": [
    "# Convertir a tuplas\n",
    "\n",
    "Para convertir a tipos tuplas debe usar la función tuple(), la cual está integrada en el interprete Python."
   ]
  },
  {
   "cell_type": "markdown",
   "metadata": {},
   "source": [
    "# Ejemplos\n",
    "\n",
    "A continuación, se presentan algunos ejemplos de su uso:\n",
    "\n",
    "# Ejemplo simple de tupla"
   ]
  },
  {
   "cell_type": "code",
   "execution_count": null,
   "metadata": {},
   "outputs": [],
   "source": [
    "tupla = 12345, 54321, 'hola!'"
   ]
  },
  {
   "cell_type": "markdown",
   "metadata": {},
   "source": [
    "# Ejemplo de tuplas anidadas"
   ]
  },
  {
   "cell_type": "code",
   "execution_count": null,
   "metadata": {},
   "outputs": [],
   "source": [
    "otra = tupla, (1, 2, 3, 4, 5)\n",
    "print(otra)"
   ]
  },
  {
   "cell_type": "markdown",
   "metadata": {},
   "source": [
    "# Operación asignar de valores de una tupla en variables"
   ]
  },
  {
   "cell_type": "code",
   "execution_count": null,
   "metadata": {},
   "outputs": [],
   "source": [
    "x, y, z = tupla"
   ]
  },
  {
   "cell_type": "markdown",
   "metadata": {},
   "source": [
    "# Cuidar seguimiento del número de la numeración"
   ]
  },
  {
   "cell_type": "markdown",
   "metadata": {},
   "source": [
    "Una tarea común es iterar sobre una secuencia mientras cuidas el seguimiento de la numeración de un elemento.\n",
    "\n",
    "Podría usar un bucle while con un contador o un bucle for usando la función range() y la función len():"
   ]
  },
  {
   "cell_type": "code",
   "execution_count": null,
   "metadata": {},
   "outputs": [],
   "source": [
    "tecnologias = ('Zope', 'Plone', 'Pyramid')\n",
    "for i in range(0, len(tecnologias)):\n",
    "    print(i, tecnologias[i])"
   ]
  },
  {
   "cell_type": "markdown",
   "metadata": {},
   "source": [
    "# Ejemplo Cartero Viajante Vecino Mas Cercano"
   ]
  },
  {
   "cell_type": "code",
   "execution_count": null,
   "metadata": {},
   "outputs": [],
   "source": [
    "def RutaInicialVecinoMasCercano(distancias: dict, nodos: list)-> dict:\n",
    "    #preparar las variables de salida\n",
    "    rutaSolucion=[]\n",
    "    kilometros = 0\n",
    "    \n",
    "    #modelar los nodos ya visitados\n",
    "    yaesta = {}\n",
    "    for nodo in nodos:\n",
    "        yaesta.update({nodo:0})\n",
    "    \n",
    "    #inicializar el nodo de trabajo\n",
    "    nodoActual = nodos[0]\n",
    "    \n",
    "    #iterar cuantos arcos debamos agregar\n",
    "    for i in range(1,len(nodos)):\n",
    "        \n",
    "        #Crear unicamente las llaves que me interesan\n",
    "        listallaves = []\n",
    "        for nodo in nodos:\n",
    "            if nodo != nodoActual and yaesta[nodo]==0:\n",
    "                arco = (nodoActual,nodo)\n",
    "                listallaves.append(arco)\n",
    "        \n",
    "        #Encontrar el minimo\n",
    "        minimaDistancia = 999999\n",
    "        for arco in listallaves:\n",
    "            if distancias[arco] < minimaDistancia:\n",
    "                minimaDistancia = distancias[arco]\n",
    "                minimoarco = (minimaDistancia, arco)\n",
    "        \n",
    "        #Actualizar las listas de solucion y de YaEsta        \n",
    "        rutaSolucion.append(minimoarco[1])\n",
    "        kilometros = kilometros + minimoarco[0]\n",
    "        \n",
    "        yaesta[minimoarco[1][0]]= 1\n",
    "        yaesta[minimoarco[1][1]]= 1\n",
    "        \n",
    "        nodoActual = minimoarco[1][1]\n",
    "        \n",
    "    #tenemos que crear el ultimo\n",
    "    ultimoarco = (nodoActual,nodos[0])\n",
    "    rutaSolucion.append(ultimoarco)\n",
    "    kilometros = kilometros + distancias[ultimoarco]\n",
    "    \n",
    "    #Dar la salida\n",
    "    salida = {}\n",
    "    salida.update({\"ruta\":rutaSolucion})\n",
    "    salida.update({\"kilometraje\":kilometros})\n",
    "    \n",
    "    return salida\n",
    "    \n",
    "    \n",
    "distanciasEjemplo = {('H', 'H'): 0, ('H', 'A'): 21, ('H', 'B'): 57, ('H', 'C'): 58, ('H', 'D'): 195, ('H', 'E'): 245, ('H', 'F'): 241,\n",
    "('A', 'H'): 127, ('A', 'A'): 0, ('A', 'B'): 231, ('A', 'C'): 113, ('A', 'D'): 254, ('A', 'E'): 179, ('A', 'F'): 41,\n",
    "('B', 'H'): 153, ('B', 'A'): 252, ('B', 'B'): 0, ('B', 'C'): 56, ('B', 'D'): 126, ('B', 'E'): 160, ('B', 'F'): 269,\n",
    "('C', 'H'): 196, ('C', 'A'): 128, ('C', 'B'): 80, ('C', 'C'): 0, ('C', 'D'): 136, ('C', 'E'): 37, ('C', 'F'): 180,\n",
    "('D', 'H'): 30, ('D', 'A'): 40, ('D', 'B'): 256, ('D', 'C'): 121, ('D', 'D'): 0, ('D', 'E'): 194, ('D', 'F'): 109,\n",
    "('E', 'H'): 33, ('E', 'A'): 144, ('E', 'B'): 179, ('E', 'C'): 114, ('E', 'D'): 237, ('E', 'E'): 0, ('E', 'F'): 119,\n",
    "('F', 'H'): 267, ('F', 'A'): 61, ('F', 'B'): 79, ('F', 'C'): 39, ('F', 'D'): 135, ('F', 'E'): 55, ('F', 'F'): 0}\n",
    "\n",
    "nodosEjemplo = ['H', 'A', 'B', 'C', 'D', 'E', 'F']\n",
    "\n",
    "\n",
    "print(RutaInicialVecinoMasCercano(distanciasEjemplo, nodosEjemplo))"
   ]
  }
 ],
 "metadata": {
  "kernelspec": {
   "display_name": "Python 3 (ipykernel)",
   "language": "python",
   "name": "python3"
  },
  "language_info": {
   "codemirror_mode": {
    "name": "ipython",
    "version": 3
   },
   "file_extension": ".py",
   "mimetype": "text/x-python",
   "name": "python",
   "nbconvert_exporter": "python",
   "pygments_lexer": "ipython3",
   "version": "3.11.3"
  }
 },
 "nbformat": 4,
 "nbformat_minor": 4
}

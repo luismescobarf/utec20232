{
 "cells": [
  {
   "cell_type": "markdown",
   "metadata": {},
   "source": [
    "# Listas\n",
    "\n",
    "Python tiene varios tipos de datos compuestos y dentro de las secuencias, un tipo muy importante de secuencia son las listas.\n",
    "\n",
    "Entre las secuencias, el más versátil, es la lista. \n",
    "Para definir una, usted debe escribir es entre corchetes cuadrados, separando sus elementos con comas cada uno.\n",
    "\n",
    "La lista en Python son variables que almacenan arrays, internamente cada posición puede ser un tipo de datos distinto.\n",
    "\n",
    "Las listas en Python son:\n",
    "\n",
    "heterogéneas: pueden estar conformadas por elementos de distintos tipo, incluidos otras listas.\n",
    "mutables: sus elementos pueden modificarse.\n",
    "Una lista en Python es una estructura de datos formada por una secuencia ordenada de objetos.\n",
    "\n",
    "Los elementos de una lista pueden accederse mediante su índice, siendo 0 el índice del primer elemento."
   ]
  },
  {
   "cell_type": "code",
   "execution_count": 1,
   "metadata": {},
   "outputs": [
    {
     "name": "stdout",
     "output_type": "stream",
     "text": [
      "1\n",
      "2.5\n",
      "DevCode\n",
      "[5, 6]\n",
      "-----------\n",
      "5\n",
      "6\n",
      "-----------\n",
      "[2.5, 'DevCode']\n",
      "[2.5, 'DevCode', [5, 6], 4]\n",
      "['DevCode', 4]\n"
     ]
    }
   ],
   "source": [
    "lista = [1, 2.5, 'DevCode', [5,6] ,4]\n",
    "\n",
    "print(lista[0]) # 1\n",
    "print(lista[1]) # 2.5\n",
    "print(lista[2]) # DevCode\n",
    "print(lista[3]) # [5,6]\n",
    "print(\"-----------\")\n",
    "print(lista[3][0]) # 5\n",
    "print(lista[3][1]) # 6\n",
    "print(\"-----------\")\n",
    "#[LimiteInferior, LimiteSuperior)\n",
    "print(lista[1:3]) # [2.5, 'DevCode']\n",
    "print(lista[1:6]) # [2.5, 'DevCode', [5, 6], 4]\n",
    "print(lista[2:6:2]) # [2.5, [5, 6]]"
   ]
  },
  {
   "cell_type": "markdown",
   "metadata": {},
   "source": [
    "Una lista que no contiene ningún elemento se denomina lista vacía:"
   ]
  },
  {
   "cell_type": "code",
   "execution_count": 2,
   "metadata": {},
   "outputs": [
    {
     "data": {
      "text/plain": [
       "[]"
      ]
     },
     "execution_count": 2,
     "metadata": {},
     "output_type": "execute_result"
    }
   ],
   "source": [
    "lista = [ ]\n",
    "lista"
   ]
  },
  {
   "cell_type": "markdown",
   "metadata": {},
   "source": [
    "Al definir una lista se puede hacer referencia a otras variables."
   ]
  },
  {
   "cell_type": "markdown",
   "metadata": {},
   "source": [
    "Como siempre, hay que tener cuidado al modificar una variable que se ha utilizado para definir otras variables, porque esto puede afectar al resto de variables:\n",
    "\n",
    "- Si se trata objetos inmutables, el resto de variables no resultan afectadas, como muestra el siguiente ejemplo:"
   ]
  },
  {
   "cell_type": "code",
   "execution_count": 3,
   "metadata": {},
   "outputs": [
    {
     "data": {
      "text/plain": [
       "['Pepe', 25]"
      ]
     },
     "execution_count": 3,
     "metadata": {},
     "output_type": "execute_result"
    }
   ],
   "source": [
    "nombre = \"Pepe\"\n",
    "edad = 25\n",
    "listas = [nombre, edad]\n",
    "listas"
   ]
  },
  {
   "cell_type": "code",
   "execution_count": 4,
   "metadata": {},
   "outputs": [
    {
     "data": {
      "text/plain": [
       "['Pepe', 25]"
      ]
     },
     "execution_count": 4,
     "metadata": {},
     "output_type": "execute_result"
    }
   ],
   "source": [
    "nombre = \"Juan\" # Queda la memoria cargada\n",
    "listas\n"
   ]
  },
  {
   "cell_type": "markdown",
   "metadata": {},
   "source": [
    "Pero si se trata de objetos mutables y al modificar la variable se modifica el objeto, el resto de variables sí resultan afectadas, como muestra el siguiente ejemplo:"
   ]
  },
  {
   "cell_type": "code",
   "execution_count": 5,
   "metadata": {},
   "outputs": [
    {
     "data": {
      "text/plain": [
       "[['Ana', 'Bernardo'], [22, 21]]"
      ]
     },
     "execution_count": 5,
     "metadata": {},
     "output_type": "execute_result"
    }
   ],
   "source": [
    "nombres = [\"Ana\", \"Bernardo\"]\n",
    "edades = [22, 21]\n",
    "lista = [nombres, edades]\n",
    "lista"
   ]
  },
  {
   "cell_type": "code",
   "execution_count": null,
   "metadata": {},
   "outputs": [],
   "source": [
    "nombres = nombres + [\"Cristina\"]\n",
    "print(lista)\n",
    "print(lista[0])\n",
    "lista[0][-3]"
   ]
  },
  {
   "cell_type": "code",
   "execution_count": null,
   "metadata": {},
   "outputs": [],
   "source": [
    "factura = ['pan', 'huevos', 100, 1234]\n",
    "factura"
   ]
  },
  {
   "cell_type": "code",
   "execution_count": null,
   "metadata": {},
   "outputs": [],
   "source": [
    "factura[0]"
   ]
  },
  {
   "cell_type": "code",
   "execution_count": null,
   "metadata": {},
   "outputs": [],
   "source": [
    "factura[3]"
   ]
  },
  {
   "cell_type": "markdown",
   "metadata": {},
   "source": [
    "La función len() devuelve la longitud de la lista (su cantidad de elementos)."
   ]
  },
  {
   "cell_type": "code",
   "execution_count": null,
   "metadata": {},
   "outputs": [],
   "source": [
    "len(lista)"
   ]
  },
  {
   "cell_type": "markdown",
   "metadata": {},
   "source": [
    "Los índices de una lista inicia entonces de 0 hasta el tamaño de la lista menos uno (len(factura) - 1):"
   ]
  },
  {
   "cell_type": "code",
   "execution_count": null,
   "metadata": {},
   "outputs": [],
   "source": [
    "len(factura) - 1"
   ]
  },
  {
   "cell_type": "markdown",
   "metadata": {},
   "source": [
    "Pueden usarse también índices negativos, siendo -1 el índice del último elemento."
   ]
  },
  {
   "cell_type": "code",
   "execution_count": null,
   "metadata": {},
   "outputs": [],
   "source": [
    "factura[-1]"
   ]
  },
  {
   "cell_type": "markdown",
   "metadata": {},
   "source": [
    "Los índices negativos van entonces de -1 (último elemento) a -len(factura) (primer elemento)."
   ]
  },
  {
   "cell_type": "code",
   "execution_count": null,
   "metadata": {},
   "outputs": [],
   "source": [
    "factura[-len(factura)]"
   ]
  },
  {
   "cell_type": "markdown",
   "metadata": {},
   "source": [
    "A través de los índices, pueden cambiarse los elementos de una lista en el lugar."
   ]
  },
  {
   "cell_type": "code",
   "execution_count": null,
   "metadata": {},
   "outputs": [],
   "source": [
    "print(factura)\n",
    "factura[1] = \"carne\"\n",
    "print(factura)\n",
    "print(len(factura))"
   ]
  },
  {
   "cell_type": "markdown",
   "metadata": {},
   "source": [
    "De esta forma se cambia el valor inicial de un elemento de la lista lo cual hacen una la lista mutable"
   ]
  },
  {
   "cell_type": "markdown",
   "metadata": {},
   "source": [
    "# Métodos\n",
    "\n",
    "El el objeto de tipo lista integra una serie de métodos integrados a continuación:"
   ]
  },
  {
   "cell_type": "markdown",
   "metadata": {},
   "source": [
    "# append()\n",
    "\n",
    "Este método agrega un elemento al final de una lista."
   ]
  },
  {
   "cell_type": "code",
   "execution_count": 6,
   "metadata": {},
   "outputs": [
    {
     "data": {
      "text/plain": [
       "[2.5, 3.6, 4, 5]"
      ]
     },
     "execution_count": 6,
     "metadata": {},
     "output_type": "execute_result"
    }
   ],
   "source": [
    "versiones_plone = [2.5, 3.6, 4, 5]\n",
    "versiones_plone"
   ]
  },
  {
   "cell_type": "code",
   "execution_count": 7,
   "metadata": {},
   "outputs": [
    {
     "data": {
      "text/plain": [
       "[2.5, 3.6, 4, 5, 6]"
      ]
     },
     "execution_count": 7,
     "metadata": {},
     "output_type": "execute_result"
    }
   ],
   "source": [
    "versiones_plone.append(6)\n",
    "versiones_plone"
   ]
  },
  {
   "cell_type": "markdown",
   "metadata": {},
   "source": [
    "# count()\n",
    "\n",
    "Este método recibe un elemento como argumento, y cuenta la cantidad de veces que aparece en la lista."
   ]
  },
  {
   "cell_type": "code",
   "execution_count": 8,
   "metadata": {},
   "outputs": [],
   "source": [
    "versiones_plone = [2.5, 2.5, 3.6, 4, 5, 6]"
   ]
  },
  {
   "cell_type": "code",
   "execution_count": 9,
   "metadata": {},
   "outputs": [
    {
     "name": "stdout",
     "output_type": "stream",
     "text": [
      "6 -> 1\n"
     ]
    }
   ],
   "source": [
    "print(\"6 ->\", versiones_plone.count(6))"
   ]
  },
  {
   "cell_type": "code",
   "execution_count": 5,
   "metadata": {},
   "outputs": [
    {
     "name": "stdout",
     "output_type": "stream",
     "text": [
      "5 -> 1\n"
     ]
    }
   ],
   "source": [
    "print(\"5 ->\", versiones_plone.count(5))"
   ]
  },
  {
   "cell_type": "code",
   "execution_count": 6,
   "metadata": {},
   "outputs": [
    {
     "name": "stdout",
     "output_type": "stream",
     "text": [
      "2.5 -> 2\n"
     ]
    }
   ],
   "source": [
    "print( \"2.5 ->\", versiones_plone.count(2.5))"
   ]
  },
  {
   "cell_type": "markdown",
   "metadata": {},
   "source": [
    "# extend()\n",
    "\n",
    "Este método extiende una lista agregando un iterable al final."
   ]
  },
  {
   "cell_type": "code",
   "execution_count": 7,
   "metadata": {},
   "outputs": [
    {
     "data": {
      "text/plain": [
       "[2.1, 2.5, 3.6]"
      ]
     },
     "execution_count": 7,
     "metadata": {},
     "output_type": "execute_result"
    }
   ],
   "source": [
    "versiones_plone = [2.1, 2.5, 3.6]\n",
    "versiones_plone"
   ]
  },
  {
   "cell_type": "code",
   "execution_count": 8,
   "metadata": {},
   "outputs": [
    {
     "data": {
      "text/plain": [
       "[2.1, 2.5, 3.6, 4]"
      ]
     },
     "execution_count": 8,
     "metadata": {},
     "output_type": "execute_result"
    }
   ],
   "source": [
    "versiones_plone.extend([4])\n",
    "versiones_plone"
   ]
  },
  {
   "cell_type": "code",
   "execution_count": 9,
   "metadata": {},
   "outputs": [
    {
     "data": {
      "text/plain": [
       "[2.1, 2.5, 3.6, 4, 5, 6]"
      ]
     },
     "execution_count": 9,
     "metadata": {},
     "output_type": "execute_result"
    }
   ],
   "source": [
    "versiones_plone.extend(range(5,7))\n",
    "versiones_plone"
   ]
  },
  {
   "cell_type": "markdown",
   "metadata": {},
   "source": [
    "# index()\n",
    "\n",
    "Este método recibe un elemento como argumento, y devuelve el índice de su primera aparición en la lista."
   ]
  },
  {
   "cell_type": "code",
   "execution_count": 12,
   "metadata": {},
   "outputs": [
    {
     "ename": "ValueError",
     "evalue": "2.3 is not in list",
     "output_type": "error",
     "traceback": [
      "\u001b[1;31m---------------------------------------------------------------------------\u001b[0m",
      "\u001b[1;31mValueError\u001b[0m                                Traceback (most recent call last)",
      "\u001b[1;32m<ipython-input-12-86f614f65465>\u001b[0m in \u001b[0;36m<module>\u001b[1;34m\u001b[0m\n\u001b[0;32m      1\u001b[0m \u001b[0mversiones_plone\u001b[0m \u001b[1;33m=\u001b[0m \u001b[1;33m[\u001b[0m\u001b[1;36m2.1\u001b[0m\u001b[1;33m,\u001b[0m \u001b[1;36m2.5\u001b[0m\u001b[1;33m,\u001b[0m \u001b[1;36m3.6\u001b[0m\u001b[1;33m,\u001b[0m \u001b[1;36m4\u001b[0m\u001b[1;33m,\u001b[0m \u001b[1;36m5\u001b[0m\u001b[1;33m,\u001b[0m \u001b[1;36m6\u001b[0m\u001b[1;33m,\u001b[0m \u001b[1;36m4\u001b[0m\u001b[1;33m]\u001b[0m\u001b[1;33m\u001b[0m\u001b[1;33m\u001b[0m\u001b[0m\n\u001b[1;32m----> 2\u001b[1;33m \u001b[0mprint\u001b[0m\u001b[1;33m(\u001b[0m\u001b[0mversiones_plone\u001b[0m\u001b[1;33m.\u001b[0m\u001b[0mindex\u001b[0m\u001b[1;33m(\u001b[0m\u001b[1;36m2.3\u001b[0m\u001b[1;33m)\u001b[0m\u001b[1;33m)\u001b[0m\u001b[1;33m\u001b[0m\u001b[1;33m\u001b[0m\u001b[0m\n\u001b[0m",
      "\u001b[1;31mValueError\u001b[0m: 2.3 is not in list"
     ]
    }
   ],
   "source": [
    "versiones_plone = [2.1, 2.5, 3.6, 4, 5, 6, 4]\n",
    "print(versiones_plone.index(2.5))"
   ]
  },
  {
   "cell_type": "markdown",
   "metadata": {},
   "source": [
    "El método admite como argumento adicional un índice inicial a partir de donde comenzar la búsqueda, opcionalmente también el índice final."
   ]
  },
  {
   "cell_type": "code",
   "execution_count": 13,
   "metadata": {},
   "outputs": [
    {
     "data": {
      "text/plain": [
       "3.6"
      ]
     },
     "execution_count": 13,
     "metadata": {},
     "output_type": "execute_result"
    }
   ],
   "source": [
    "versiones_plone = [2.1, 2.5, 3.6, 4, 5, 6, 4]\n",
    "versiones_plone[2]"
   ]
  },
  {
   "cell_type": "code",
   "execution_count": 19,
   "metadata": {},
   "outputs": [
    {
     "name": "stdout",
     "output_type": "stream",
     "text": [
      "1\n"
     ]
    }
   ],
   "source": [
    "print(versiones_plone.index(2.5, 1))"
   ]
  },
  {
   "cell_type": "code",
   "execution_count": 15,
   "metadata": {},
   "outputs": [
    {
     "data": {
      "text/plain": [
       "4"
      ]
     },
     "execution_count": 15,
     "metadata": {},
     "output_type": "execute_result"
    }
   ],
   "source": [
    "versiones_plone[3]"
   ]
  },
  {
   "cell_type": "code",
   "execution_count": 16,
   "metadata": {},
   "outputs": [
    {
     "name": "stdout",
     "output_type": "stream",
     "text": [
      "6\n"
     ]
    }
   ],
   "source": [
    "print(versiones_plone.index(4, 5))"
   ]
  },
  {
   "cell_type": "code",
   "execution_count": 17,
   "metadata": {},
   "outputs": [
    {
     "data": {
      "text/plain": [
       "4"
      ]
     },
     "execution_count": 17,
     "metadata": {},
     "output_type": "execute_result"
    }
   ],
   "source": [
    "versiones_plone[6]"
   ]
  },
  {
   "cell_type": "markdown",
   "metadata": {},
   "source": [
    "El método devuelve un excepción ValueError si el elemento no se encuentra en la lista, o en el entorno definido."
   ]
  },
  {
   "cell_type": "code",
   "execution_count": 20,
   "metadata": {},
   "outputs": [],
   "source": [
    "versiones_plone = [2.1, 2.5, 3.6, 4, 5, 6, 4]"
   ]
  },
  {
   "cell_type": "code",
   "execution_count": 21,
   "metadata": {},
   "outputs": [
    {
     "ename": "ValueError",
     "evalue": "9 is not in list",
     "output_type": "error",
     "traceback": [
      "\u001b[1;31m---------------------------------------------------------------------------\u001b[0m",
      "\u001b[1;31mValueError\u001b[0m                                Traceback (most recent call last)",
      "\u001b[1;32m<ipython-input-21-c3c11fc57eef>\u001b[0m in \u001b[0;36m<module>\u001b[1;34m\u001b[0m\n\u001b[1;32m----> 1\u001b[1;33m \u001b[0mprint\u001b[0m\u001b[1;33m(\u001b[0m\u001b[0mversiones_plone\u001b[0m\u001b[1;33m.\u001b[0m\u001b[0mindex\u001b[0m\u001b[1;33m(\u001b[0m\u001b[1;36m9\u001b[0m\u001b[1;33m)\u001b[0m\u001b[1;33m)\u001b[0m\u001b[1;33m\u001b[0m\u001b[1;33m\u001b[0m\u001b[0m\n\u001b[0m",
      "\u001b[1;31mValueError\u001b[0m: 9 is not in list"
     ]
    }
   ],
   "source": [
    "print(versiones_plone.index(9))"
   ]
  },
  {
   "cell_type": "markdown",
   "metadata": {},
   "source": [
    "# insert()\n",
    "\n",
    "Este método inserta el elemento *x* en la lista, en el índice *i*."
   ]
  },
  {
   "cell_type": "code",
   "execution_count": 22,
   "metadata": {},
   "outputs": [
    {
     "name": "stdout",
     "output_type": "stream",
     "text": [
      "[2.1, 2.5, 3.6, 4, 5, 6]\n"
     ]
    }
   ],
   "source": [
    "versiones_plone = [2.1, 2.5, 3.6, 4, 5, 6]\n",
    "print(versiones_plone)"
   ]
  },
  {
   "cell_type": "code",
   "execution_count": 23,
   "metadata": {},
   "outputs": [
    {
     "name": "stdout",
     "output_type": "stream",
     "text": [
      "[2.1, 2.5, 3.7, 3.6, 4, 5, 6]\n"
     ]
    }
   ],
   "source": [
    "versiones_plone.insert(2, 3.7)\n",
    "print(versiones_plone)"
   ]
  },
  {
   "cell_type": "markdown",
   "metadata": {},
   "source": [
    "# pop()\n",
    "\n",
    "Este método devuelve el último elemento de la lista, y lo borra de la misma."
   ]
  },
  {
   "cell_type": "code",
   "execution_count": 24,
   "metadata": {},
   "outputs": [
    {
     "name": "stdout",
     "output_type": "stream",
     "text": [
      "6\n"
     ]
    }
   ],
   "source": [
    "versiones_plone = [2.1, 2.5, 3.6, 4, 5, 6]\n",
    "\n",
    "print(versiones_plone.pop())"
   ]
  },
  {
   "cell_type": "code",
   "execution_count": 25,
   "metadata": {},
   "outputs": [
    {
     "name": "stdout",
     "output_type": "stream",
     "text": [
      "[2.1, 2.5, 3.6, 4, 5]\n"
     ]
    }
   ],
   "source": [
    "print(versiones_plone)"
   ]
  },
  {
   "cell_type": "markdown",
   "metadata": {},
   "source": [
    "Opcionalmente puede recibir un argumento numérico, que funciona como índice del elemento (por defecto, -1)"
   ]
  },
  {
   "cell_type": "code",
   "execution_count": 32,
   "metadata": {},
   "outputs": [],
   "source": [
    "versiones_plone = [2.1, 2.5, 3.6, 4, 5, 6]"
   ]
  },
  {
   "cell_type": "code",
   "execution_count": 34,
   "metadata": {},
   "outputs": [],
   "source": [
    "laDistancia= versiones_plone.pop(-1)"
   ]
  },
  {
   "cell_type": "code",
   "execution_count": 35,
   "metadata": {},
   "outputs": [
    {
     "name": "stdout",
     "output_type": "stream",
     "text": [
      "[2.1, 2.5, 3.6, 4, 5]\n",
      "5\n",
      "6\n"
     ]
    }
   ],
   "source": [
    "print(versiones_plone)\n",
    "print(len(versiones_plone))\n",
    "print(laDistancia)"
   ]
  },
  {
   "cell_type": "markdown",
   "metadata": {},
   "source": [
    "# remove()\n",
    "\n",
    "Este método recibe como argumento un elemento, y borra su primera aparición en la lista."
   ]
  },
  {
   "cell_type": "code",
   "execution_count": 47,
   "metadata": {},
   "outputs": [
    {
     "name": "stdout",
     "output_type": "stream",
     "text": [
      "[2.5, 3.6, 4, 2.5, 5, 6]\n",
      "[]\n"
     ]
    }
   ],
   "source": [
    "versiones_plone = [2.5, 3.6, 4,2.5, 5, 6]\n",
    "print(versiones_plone)\n",
    "versiones_plone = []\n",
    "print(versiones_plone)"
   ]
  },
  {
   "cell_type": "code",
   "execution_count": 45,
   "metadata": {},
   "outputs": [
    {
     "name": "stdout",
     "output_type": "stream",
     "text": [
      "[3.6, 4, 2.5, 5, 6]\n"
     ]
    }
   ],
   "source": [
    "versiones_plone.remove(2.5)\n",
    "print(versiones_plone)"
   ]
  },
  {
   "cell_type": "markdown",
   "metadata": {},
   "source": [
    "El método devuelve un excepción ValueError si el elemento no se encuentra en la lista."
   ]
  },
  {
   "cell_type": "code",
   "execution_count": 40,
   "metadata": {},
   "outputs": [
    {
     "name": "stdout",
     "output_type": "stream",
     "text": [
      "[2.1, 5, 3.6, 4, 2.5, 6]\n"
     ]
    }
   ],
   "source": [
    "versiones_plone = [2.1, 2.5, 3.6, 4, 5, 6]\n",
    "print(versiones_plone)"
   ]
  },
  {
   "cell_type": "code",
   "execution_count": 39,
   "metadata": {},
   "outputs": [
    {
     "ename": "ValueError",
     "evalue": "list.remove(x): x not in list",
     "output_type": "error",
     "traceback": [
      "\u001b[1;31m---------------------------------------------------------------------------\u001b[0m",
      "\u001b[1;31mValueError\u001b[0m                                Traceback (most recent call last)",
      "\u001b[1;32m<ipython-input-39-09e9ae60eb3f>\u001b[0m in \u001b[0;36m<module>\u001b[1;34m\u001b[0m\n\u001b[1;32m----> 1\u001b[1;33m \u001b[0mversiones_plone\u001b[0m\u001b[1;33m.\u001b[0m\u001b[0mremove\u001b[0m\u001b[1;33m(\u001b[0m\u001b[1;36m7\u001b[0m\u001b[1;33m)\u001b[0m\u001b[1;33m\u001b[0m\u001b[1;33m\u001b[0m\u001b[0m\n\u001b[0m",
      "\u001b[1;31mValueError\u001b[0m: list.remove(x): x not in list"
     ]
    }
   ],
   "source": [
    "versiones_plone.remove(7)"
   ]
  },
  {
   "cell_type": "markdown",
   "metadata": {},
   "source": [
    "# reverse()\n",
    "\n",
    "Este método invierte el orden de los elementos de una lista."
   ]
  },
  {
   "cell_type": "code",
   "execution_count": 41,
   "metadata": {},
   "outputs": [
    {
     "name": "stdout",
     "output_type": "stream",
     "text": [
      "[2.1, 2.5, 3.6, 4, 5, 6]\n"
     ]
    }
   ],
   "source": [
    "versiones_plone = [2.1, 2.5, 3.6, 4, 5, 6]\n",
    "print(versiones_plone)"
   ]
  },
  {
   "cell_type": "code",
   "execution_count": 42,
   "metadata": {},
   "outputs": [
    {
     "name": "stdout",
     "output_type": "stream",
     "text": [
      "[6, 5, 4, 3.6, 2.5, 2.1]\n"
     ]
    }
   ],
   "source": [
    "versiones_plone.reverse()\n",
    "print(versiones_plone)"
   ]
  },
  {
   "cell_type": "markdown",
   "metadata": {},
   "source": [
    "# sort()\n",
    "\n",
    "Este método ordena los elementos de una lista."
   ]
  },
  {
   "cell_type": "code",
   "execution_count": 48,
   "metadata": {},
   "outputs": [
    {
     "name": "stdout",
     "output_type": "stream",
     "text": [
      "[4, 2.5, 5, 3.6, 2.1, 6]\n"
     ]
    }
   ],
   "source": [
    "versiones_plone = [4, 2.5, 5, 3.6, 2.1, 6]\n",
    "print(versiones_plone)"
   ]
  },
  {
   "cell_type": "code",
   "execution_count": 49,
   "metadata": {},
   "outputs": [
    {
     "name": "stdout",
     "output_type": "stream",
     "text": [
      "[2.1, 2.5, 3.6, 4, 5, 6]\n"
     ]
    }
   ],
   "source": [
    "versiones_plone.sort()\n",
    "print(versiones_plone)"
   ]
  },
  {
   "cell_type": "markdown",
   "metadata": {},
   "source": [
    "El método sort() admite la opción reverse, por defecto, con valor False. De tener valor True, el ordenamiento se hace en sentido inverso."
   ]
  },
  {
   "cell_type": "code",
   "execution_count": 51,
   "metadata": {},
   "outputs": [
    {
     "name": "stdout",
     "output_type": "stream",
     "text": [
      "[6, 5, 4, 3.6, 2.5, 2.1]\n"
     ]
    }
   ],
   "source": [
    "versiones_plone.sort(reverse=True)\n",
    "print(versiones_plone)"
   ]
  },
  {
   "cell_type": "markdown",
   "metadata": {},
   "source": [
    "# Convertir a listas\n",
    "\n",
    "Para convertir a tipos listas debe usar la función list() la cual esta integrada en el interprete Python."
   ]
  },
  {
   "cell_type": "markdown",
   "metadata": {},
   "source": [
    "# Ejemplos\n",
    "\n",
    "A continuación, se presentan algunos ejemplos de su uso:\n",
    "\n",
    "Ejemplo de establecer una colección ordenada/arreglos o vectores"
   ]
  },
  {
   "cell_type": "code",
   "execution_count": 52,
   "metadata": {},
   "outputs": [
    {
     "name": "stdout",
     "output_type": "stream",
     "text": [
      "[2, 'CMS', True, ['Plone', 10]] <class 'list'>\n"
     ]
    }
   ],
   "source": [
    "lista = [2, \"CMS\", True, [\"Plone\", 10]]\n",
    "print(lista, type(lista))"
   ]
  },
  {
   "cell_type": "markdown",
   "metadata": {},
   "source": [
    "Ejemplo de acceder a un elemento especifico de una lista"
   ]
  },
  {
   "cell_type": "code",
   "execution_count": 53,
   "metadata": {},
   "outputs": [
    {
     "name": "stdout",
     "output_type": "stream",
     "text": [
      "CMS\n"
     ]
    }
   ],
   "source": [
    "l2 = lista[1]\n",
    "print(l2)"
   ]
  },
  {
   "cell_type": "markdown",
   "metadata": {},
   "source": [
    "Ejemplo de acceder a un elemento a una lista anidada"
   ]
  },
  {
   "cell_type": "code",
   "execution_count": 54,
   "metadata": {},
   "outputs": [
    {
     "name": "stdout",
     "output_type": "stream",
     "text": [
      "Plone\n"
     ]
    }
   ],
   "source": [
    "l3 = lista[3][0]\n",
    "print(l3)"
   ]
  },
  {
   "cell_type": "markdown",
   "metadata": {},
   "source": [
    "Ejemplo de establecer nuevo valor de un elemento de lista"
   ]
  },
  {
   "cell_type": "code",
   "execution_count": 55,
   "metadata": {},
   "outputs": [
    {
     "name": "stdout",
     "output_type": "stream",
     "text": [
      "[2, 4, True, ['Plone', 10]]\n"
     ]
    }
   ],
   "source": [
    "lista[1] = 4\n",
    "print(lista)"
   ]
  },
  {
   "cell_type": "code",
   "execution_count": null,
   "metadata": {},
   "outputs": [],
   "source": [
    "lista[1] = \"CMS\""
   ]
  },
  {
   "cell_type": "markdown",
   "metadata": {},
   "source": [
    "Ejemplo de obtener un rango de elemento especifico"
   ]
  },
  {
   "cell_type": "code",
   "execution_count": 56,
   "metadata": {},
   "outputs": [
    {
     "name": "stdout",
     "output_type": "stream",
     "text": [
      "[2, 4, True]\n"
     ]
    }
   ],
   "source": [
    "l3 = lista[0:3]\n",
    "print(l3)"
   ]
  },
  {
   "cell_type": "markdown",
   "metadata": {},
   "source": [
    "Ejemplos de obtener un rango con saltos de elementos específicos"
   ]
  },
  {
   "cell_type": "code",
   "execution_count": 57,
   "metadata": {},
   "outputs": [
    {
     "name": "stdout",
     "output_type": "stream",
     "text": [
      "[2, True]\n"
     ]
    }
   ],
   "source": [
    "l4 = lista[0:3:2]\n",
    "print(l4)"
   ]
  },
  {
   "cell_type": "code",
   "execution_count": 58,
   "metadata": {},
   "outputs": [
    {
     "name": "stdout",
     "output_type": "stream",
     "text": [
      "[4, ['Plone', 10]]\n"
     ]
    }
   ],
   "source": [
    "l5 = lista[1::2]\n",
    "print(l5)"
   ]
  },
  {
   "cell_type": "markdown",
   "metadata": {},
   "source": [
    "# Ejemplo de iterar sobre cualquier secuencia\n",
    "\n",
    "Usted puede iterar sobre cualquier secuencia (cadenas de caracteres, lista, claves en un diccionario, lineas en un archivo, ...):"
   ]
  },
  {
   "cell_type": "markdown",
   "metadata": {},
   "source": [
    "# Ejemplo de iterar sobre una cadenas de caracteres"
   ]
  },
  {
   "cell_type": "code",
   "execution_count": null,
   "metadata": {},
   "outputs": [],
   "source": [
    "vocales = 'aeiou'\n",
    "for letra in 'hermosa':\n",
    "     if letra in vocales:\n",
    "            print(letra)"
   ]
  },
  {
   "cell_type": "markdown",
   "metadata": {},
   "source": [
    "# Ejemplo de iterar sobre una lista\n",
    "\n",
    "Para separar una cadena en frases, los valores pueden separarse con la función integrada split()."
   ]
  },
  {
   "cell_type": "code",
   "execution_count": null,
   "metadata": {},
   "outputs": [],
   "source": [
    "mensaje = \"Hola, como estas tu?\"\n",
    "mensaje.split() # retorna una lista"
   ]
  },
  {
   "cell_type": "code",
   "execution_count": null,
   "metadata": {},
   "outputs": [],
   "source": [
    "for palabra in mensaje.split():\n",
    "    print(palabra)"
   ]
  },
  {
   "cell_type": "markdown",
   "metadata": {},
   "source": [
    "# Ejemplo de iterar sobre dos o más secuencias\n",
    "\n",
    "Para iterar sobre dos o más secuencias al mismo tiempo, los valores pueden emparejarse con la función integrada zip()."
   ]
  },
  {
   "cell_type": "code",
   "execution_count": null,
   "metadata": {},
   "outputs": [],
   "source": [
    "preguntas = ['nombre', 'objetivo', 'sistema operativo']\n",
    "respuestas = ['Leonardo', 'aprender Python y Plone', 'Linux']\n",
    "\n",
    "for pregunta, respuesta in zip(preguntas, respuestas):\n",
    "    print('¿Cual es tu {0}?, la respuesta es: {1}.'.format(\n",
    "         pregunta, respuesta))"
   ]
  },
  {
   "cell_type": "markdown",
   "metadata": {},
   "source": [
    "# Ejemplo ayuda con listas"
   ]
  },
  {
   "cell_type": "code",
   "execution_count": null,
   "metadata": {},
   "outputs": [],
   "source": [
    "help(list)"
   ]
  }
 ],
 "metadata": {
  "kernelspec": {
   "display_name": "Python 3 (ipykernel)",
   "language": "python",
   "name": "python3"
  },
  "language_info": {
   "codemirror_mode": {
    "name": "ipython",
    "version": 3
   },
   "file_extension": ".py",
   "mimetype": "text/x-python",
   "name": "python",
   "nbconvert_exporter": "python",
   "pygments_lexer": "ipython3",
   "version": "3.11.3"
  }
 },
 "nbformat": 4,
 "nbformat_minor": 4
}
